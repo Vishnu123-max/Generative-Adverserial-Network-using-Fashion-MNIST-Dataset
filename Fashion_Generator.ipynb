{
  "nbformat": 4,
  "nbformat_minor": 0,
  "metadata": {
    "colab": {
      "provenance": []
    },
    "kernelspec": {
      "name": "python3",
      "display_name": "Python 3"
    },
    "language_info": {
      "name": "python"
    },
    "widgets": {
      "application/vnd.jupyter.widget-state+json": {
        "d023f74f05014103abd089bae2b2d467": {
          "model_module": "@jupyter-widgets/controls",
          "model_name": "HBoxModel",
          "model_module_version": "1.5.0",
          "state": {
            "_dom_classes": [],
            "_model_module": "@jupyter-widgets/controls",
            "_model_module_version": "1.5.0",
            "_model_name": "HBoxModel",
            "_view_count": null,
            "_view_module": "@jupyter-widgets/controls",
            "_view_module_version": "1.5.0",
            "_view_name": "HBoxView",
            "box_style": "",
            "children": [
              "IPY_MODEL_9a3d2048e881496c8eb5d4c653d6f782",
              "IPY_MODEL_f55fe2ab5c1e490491f4f48dcf1e84ba",
              "IPY_MODEL_14d0fbe45c994a95b5297f5fa92a0565"
            ],
            "layout": "IPY_MODEL_e2e69cc07e2449328215dddfe850586b"
          }
        },
        "9a3d2048e881496c8eb5d4c653d6f782": {
          "model_module": "@jupyter-widgets/controls",
          "model_name": "HTMLModel",
          "model_module_version": "1.5.0",
          "state": {
            "_dom_classes": [],
            "_model_module": "@jupyter-widgets/controls",
            "_model_module_version": "1.5.0",
            "_model_name": "HTMLModel",
            "_view_count": null,
            "_view_module": "@jupyter-widgets/controls",
            "_view_module_version": "1.5.0",
            "_view_name": "HTMLView",
            "description": "",
            "description_tooltip": null,
            "layout": "IPY_MODEL_aade72c9e8c14f5196ba1ced8bd75103",
            "placeholder": "​",
            "style": "IPY_MODEL_3adda604358c407dab4e82395e4b00ba",
            "value": "Dl Completed...: 100%"
          }
        },
        "f55fe2ab5c1e490491f4f48dcf1e84ba": {
          "model_module": "@jupyter-widgets/controls",
          "model_name": "FloatProgressModel",
          "model_module_version": "1.5.0",
          "state": {
            "_dom_classes": [],
            "_model_module": "@jupyter-widgets/controls",
            "_model_module_version": "1.5.0",
            "_model_name": "FloatProgressModel",
            "_view_count": null,
            "_view_module": "@jupyter-widgets/controls",
            "_view_module_version": "1.5.0",
            "_view_name": "ProgressView",
            "bar_style": "success",
            "description": "",
            "description_tooltip": null,
            "layout": "IPY_MODEL_b459e6bd6ac8448a9785ed7431a3ca66",
            "max": 1,
            "min": 0,
            "orientation": "horizontal",
            "style": "IPY_MODEL_a6a0cf9fb76e417bb5e952ebf11f77ec",
            "value": 1
          }
        },
        "14d0fbe45c994a95b5297f5fa92a0565": {
          "model_module": "@jupyter-widgets/controls",
          "model_name": "HTMLModel",
          "model_module_version": "1.5.0",
          "state": {
            "_dom_classes": [],
            "_model_module": "@jupyter-widgets/controls",
            "_model_module_version": "1.5.0",
            "_model_name": "HTMLModel",
            "_view_count": null,
            "_view_module": "@jupyter-widgets/controls",
            "_view_module_version": "1.5.0",
            "_view_name": "HTMLView",
            "description": "",
            "description_tooltip": null,
            "layout": "IPY_MODEL_37150eb32cb14ca98fc114cc6c0782b3",
            "placeholder": "​",
            "style": "IPY_MODEL_c6c5bb8789fd4879ab499141f6fbe149",
            "value": " 4/4 [00:02&lt;00:00,  1.61 url/s]"
          }
        },
        "e2e69cc07e2449328215dddfe850586b": {
          "model_module": "@jupyter-widgets/base",
          "model_name": "LayoutModel",
          "model_module_version": "1.2.0",
          "state": {
            "_model_module": "@jupyter-widgets/base",
            "_model_module_version": "1.2.0",
            "_model_name": "LayoutModel",
            "_view_count": null,
            "_view_module": "@jupyter-widgets/base",
            "_view_module_version": "1.2.0",
            "_view_name": "LayoutView",
            "align_content": null,
            "align_items": null,
            "align_self": null,
            "border": null,
            "bottom": null,
            "display": null,
            "flex": null,
            "flex_flow": null,
            "grid_area": null,
            "grid_auto_columns": null,
            "grid_auto_flow": null,
            "grid_auto_rows": null,
            "grid_column": null,
            "grid_gap": null,
            "grid_row": null,
            "grid_template_areas": null,
            "grid_template_columns": null,
            "grid_template_rows": null,
            "height": null,
            "justify_content": null,
            "justify_items": null,
            "left": null,
            "margin": null,
            "max_height": null,
            "max_width": null,
            "min_height": null,
            "min_width": null,
            "object_fit": null,
            "object_position": null,
            "order": null,
            "overflow": null,
            "overflow_x": null,
            "overflow_y": null,
            "padding": null,
            "right": null,
            "top": null,
            "visibility": null,
            "width": null
          }
        },
        "aade72c9e8c14f5196ba1ced8bd75103": {
          "model_module": "@jupyter-widgets/base",
          "model_name": "LayoutModel",
          "model_module_version": "1.2.0",
          "state": {
            "_model_module": "@jupyter-widgets/base",
            "_model_module_version": "1.2.0",
            "_model_name": "LayoutModel",
            "_view_count": null,
            "_view_module": "@jupyter-widgets/base",
            "_view_module_version": "1.2.0",
            "_view_name": "LayoutView",
            "align_content": null,
            "align_items": null,
            "align_self": null,
            "border": null,
            "bottom": null,
            "display": null,
            "flex": null,
            "flex_flow": null,
            "grid_area": null,
            "grid_auto_columns": null,
            "grid_auto_flow": null,
            "grid_auto_rows": null,
            "grid_column": null,
            "grid_gap": null,
            "grid_row": null,
            "grid_template_areas": null,
            "grid_template_columns": null,
            "grid_template_rows": null,
            "height": null,
            "justify_content": null,
            "justify_items": null,
            "left": null,
            "margin": null,
            "max_height": null,
            "max_width": null,
            "min_height": null,
            "min_width": null,
            "object_fit": null,
            "object_position": null,
            "order": null,
            "overflow": null,
            "overflow_x": null,
            "overflow_y": null,
            "padding": null,
            "right": null,
            "top": null,
            "visibility": null,
            "width": null
          }
        },
        "3adda604358c407dab4e82395e4b00ba": {
          "model_module": "@jupyter-widgets/controls",
          "model_name": "DescriptionStyleModel",
          "model_module_version": "1.5.0",
          "state": {
            "_model_module": "@jupyter-widgets/controls",
            "_model_module_version": "1.5.0",
            "_model_name": "DescriptionStyleModel",
            "_view_count": null,
            "_view_module": "@jupyter-widgets/base",
            "_view_module_version": "1.2.0",
            "_view_name": "StyleView",
            "description_width": ""
          }
        },
        "b459e6bd6ac8448a9785ed7431a3ca66": {
          "model_module": "@jupyter-widgets/base",
          "model_name": "LayoutModel",
          "model_module_version": "1.2.0",
          "state": {
            "_model_module": "@jupyter-widgets/base",
            "_model_module_version": "1.2.0",
            "_model_name": "LayoutModel",
            "_view_count": null,
            "_view_module": "@jupyter-widgets/base",
            "_view_module_version": "1.2.0",
            "_view_name": "LayoutView",
            "align_content": null,
            "align_items": null,
            "align_self": null,
            "border": null,
            "bottom": null,
            "display": null,
            "flex": null,
            "flex_flow": null,
            "grid_area": null,
            "grid_auto_columns": null,
            "grid_auto_flow": null,
            "grid_auto_rows": null,
            "grid_column": null,
            "grid_gap": null,
            "grid_row": null,
            "grid_template_areas": null,
            "grid_template_columns": null,
            "grid_template_rows": null,
            "height": null,
            "justify_content": null,
            "justify_items": null,
            "left": null,
            "margin": null,
            "max_height": null,
            "max_width": null,
            "min_height": null,
            "min_width": null,
            "object_fit": null,
            "object_position": null,
            "order": null,
            "overflow": null,
            "overflow_x": null,
            "overflow_y": null,
            "padding": null,
            "right": null,
            "top": null,
            "visibility": null,
            "width": "20px"
          }
        },
        "a6a0cf9fb76e417bb5e952ebf11f77ec": {
          "model_module": "@jupyter-widgets/controls",
          "model_name": "ProgressStyleModel",
          "model_module_version": "1.5.0",
          "state": {
            "_model_module": "@jupyter-widgets/controls",
            "_model_module_version": "1.5.0",
            "_model_name": "ProgressStyleModel",
            "_view_count": null,
            "_view_module": "@jupyter-widgets/base",
            "_view_module_version": "1.2.0",
            "_view_name": "StyleView",
            "bar_color": null,
            "description_width": ""
          }
        },
        "37150eb32cb14ca98fc114cc6c0782b3": {
          "model_module": "@jupyter-widgets/base",
          "model_name": "LayoutModel",
          "model_module_version": "1.2.0",
          "state": {
            "_model_module": "@jupyter-widgets/base",
            "_model_module_version": "1.2.0",
            "_model_name": "LayoutModel",
            "_view_count": null,
            "_view_module": "@jupyter-widgets/base",
            "_view_module_version": "1.2.0",
            "_view_name": "LayoutView",
            "align_content": null,
            "align_items": null,
            "align_self": null,
            "border": null,
            "bottom": null,
            "display": null,
            "flex": null,
            "flex_flow": null,
            "grid_area": null,
            "grid_auto_columns": null,
            "grid_auto_flow": null,
            "grid_auto_rows": null,
            "grid_column": null,
            "grid_gap": null,
            "grid_row": null,
            "grid_template_areas": null,
            "grid_template_columns": null,
            "grid_template_rows": null,
            "height": null,
            "justify_content": null,
            "justify_items": null,
            "left": null,
            "margin": null,
            "max_height": null,
            "max_width": null,
            "min_height": null,
            "min_width": null,
            "object_fit": null,
            "object_position": null,
            "order": null,
            "overflow": null,
            "overflow_x": null,
            "overflow_y": null,
            "padding": null,
            "right": null,
            "top": null,
            "visibility": null,
            "width": null
          }
        },
        "c6c5bb8789fd4879ab499141f6fbe149": {
          "model_module": "@jupyter-widgets/controls",
          "model_name": "DescriptionStyleModel",
          "model_module_version": "1.5.0",
          "state": {
            "_model_module": "@jupyter-widgets/controls",
            "_model_module_version": "1.5.0",
            "_model_name": "DescriptionStyleModel",
            "_view_count": null,
            "_view_module": "@jupyter-widgets/base",
            "_view_module_version": "1.2.0",
            "_view_name": "StyleView",
            "description_width": ""
          }
        },
        "aabea7fbe3724c9c873d96151ed226e5": {
          "model_module": "@jupyter-widgets/controls",
          "model_name": "HBoxModel",
          "model_module_version": "1.5.0",
          "state": {
            "_dom_classes": [],
            "_model_module": "@jupyter-widgets/controls",
            "_model_module_version": "1.5.0",
            "_model_name": "HBoxModel",
            "_view_count": null,
            "_view_module": "@jupyter-widgets/controls",
            "_view_module_version": "1.5.0",
            "_view_name": "HBoxView",
            "box_style": "",
            "children": [
              "IPY_MODEL_1d62f7c798564963b05146f56777993f",
              "IPY_MODEL_2eced9f37c73436b8903bba2e0abd65a",
              "IPY_MODEL_f421c98c58b64ac39ad99f4e94034545"
            ],
            "layout": "IPY_MODEL_4a042fe4dc84436e8cc640d1fd31a4c2"
          }
        },
        "1d62f7c798564963b05146f56777993f": {
          "model_module": "@jupyter-widgets/controls",
          "model_name": "HTMLModel",
          "model_module_version": "1.5.0",
          "state": {
            "_dom_classes": [],
            "_model_module": "@jupyter-widgets/controls",
            "_model_module_version": "1.5.0",
            "_model_name": "HTMLModel",
            "_view_count": null,
            "_view_module": "@jupyter-widgets/controls",
            "_view_module_version": "1.5.0",
            "_view_name": "HTMLView",
            "description": "",
            "description_tooltip": null,
            "layout": "IPY_MODEL_68b8b346ca5e4281923e515afd0772b9",
            "placeholder": "​",
            "style": "IPY_MODEL_2f3a8ba2b7664bec87524acdfcbdad6d",
            "value": "Dl Size...: 100%"
          }
        },
        "2eced9f37c73436b8903bba2e0abd65a": {
          "model_module": "@jupyter-widgets/controls",
          "model_name": "FloatProgressModel",
          "model_module_version": "1.5.0",
          "state": {
            "_dom_classes": [],
            "_model_module": "@jupyter-widgets/controls",
            "_model_module_version": "1.5.0",
            "_model_name": "FloatProgressModel",
            "_view_count": null,
            "_view_module": "@jupyter-widgets/controls",
            "_view_module_version": "1.5.0",
            "_view_name": "ProgressView",
            "bar_style": "success",
            "description": "",
            "description_tooltip": null,
            "layout": "IPY_MODEL_acdd1bed06bb477a8bcf8aff9f60aefe",
            "max": 1,
            "min": 0,
            "orientation": "horizontal",
            "style": "IPY_MODEL_e10b3cbd4ea74fb5b3dfcc23b556b62c",
            "value": 1
          }
        },
        "f421c98c58b64ac39ad99f4e94034545": {
          "model_module": "@jupyter-widgets/controls",
          "model_name": "HTMLModel",
          "model_module_version": "1.5.0",
          "state": {
            "_dom_classes": [],
            "_model_module": "@jupyter-widgets/controls",
            "_model_module_version": "1.5.0",
            "_model_name": "HTMLModel",
            "_view_count": null,
            "_view_module": "@jupyter-widgets/controls",
            "_view_module_version": "1.5.0",
            "_view_name": "HTMLView",
            "description": "",
            "description_tooltip": null,
            "layout": "IPY_MODEL_008eaaacc9ed40bb862db936e355c3c5",
            "placeholder": "​",
            "style": "IPY_MODEL_10ef64fe1fae43d490de2d466d78e143",
            "value": " 29/29 [00:02&lt;00:00, 21.99 MiB/s]"
          }
        },
        "4a042fe4dc84436e8cc640d1fd31a4c2": {
          "model_module": "@jupyter-widgets/base",
          "model_name": "LayoutModel",
          "model_module_version": "1.2.0",
          "state": {
            "_model_module": "@jupyter-widgets/base",
            "_model_module_version": "1.2.0",
            "_model_name": "LayoutModel",
            "_view_count": null,
            "_view_module": "@jupyter-widgets/base",
            "_view_module_version": "1.2.0",
            "_view_name": "LayoutView",
            "align_content": null,
            "align_items": null,
            "align_self": null,
            "border": null,
            "bottom": null,
            "display": null,
            "flex": null,
            "flex_flow": null,
            "grid_area": null,
            "grid_auto_columns": null,
            "grid_auto_flow": null,
            "grid_auto_rows": null,
            "grid_column": null,
            "grid_gap": null,
            "grid_row": null,
            "grid_template_areas": null,
            "grid_template_columns": null,
            "grid_template_rows": null,
            "height": null,
            "justify_content": null,
            "justify_items": null,
            "left": null,
            "margin": null,
            "max_height": null,
            "max_width": null,
            "min_height": null,
            "min_width": null,
            "object_fit": null,
            "object_position": null,
            "order": null,
            "overflow": null,
            "overflow_x": null,
            "overflow_y": null,
            "padding": null,
            "right": null,
            "top": null,
            "visibility": null,
            "width": null
          }
        },
        "68b8b346ca5e4281923e515afd0772b9": {
          "model_module": "@jupyter-widgets/base",
          "model_name": "LayoutModel",
          "model_module_version": "1.2.0",
          "state": {
            "_model_module": "@jupyter-widgets/base",
            "_model_module_version": "1.2.0",
            "_model_name": "LayoutModel",
            "_view_count": null,
            "_view_module": "@jupyter-widgets/base",
            "_view_module_version": "1.2.0",
            "_view_name": "LayoutView",
            "align_content": null,
            "align_items": null,
            "align_self": null,
            "border": null,
            "bottom": null,
            "display": null,
            "flex": null,
            "flex_flow": null,
            "grid_area": null,
            "grid_auto_columns": null,
            "grid_auto_flow": null,
            "grid_auto_rows": null,
            "grid_column": null,
            "grid_gap": null,
            "grid_row": null,
            "grid_template_areas": null,
            "grid_template_columns": null,
            "grid_template_rows": null,
            "height": null,
            "justify_content": null,
            "justify_items": null,
            "left": null,
            "margin": null,
            "max_height": null,
            "max_width": null,
            "min_height": null,
            "min_width": null,
            "object_fit": null,
            "object_position": null,
            "order": null,
            "overflow": null,
            "overflow_x": null,
            "overflow_y": null,
            "padding": null,
            "right": null,
            "top": null,
            "visibility": null,
            "width": null
          }
        },
        "2f3a8ba2b7664bec87524acdfcbdad6d": {
          "model_module": "@jupyter-widgets/controls",
          "model_name": "DescriptionStyleModel",
          "model_module_version": "1.5.0",
          "state": {
            "_model_module": "@jupyter-widgets/controls",
            "_model_module_version": "1.5.0",
            "_model_name": "DescriptionStyleModel",
            "_view_count": null,
            "_view_module": "@jupyter-widgets/base",
            "_view_module_version": "1.2.0",
            "_view_name": "StyleView",
            "description_width": ""
          }
        },
        "acdd1bed06bb477a8bcf8aff9f60aefe": {
          "model_module": "@jupyter-widgets/base",
          "model_name": "LayoutModel",
          "model_module_version": "1.2.0",
          "state": {
            "_model_module": "@jupyter-widgets/base",
            "_model_module_version": "1.2.0",
            "_model_name": "LayoutModel",
            "_view_count": null,
            "_view_module": "@jupyter-widgets/base",
            "_view_module_version": "1.2.0",
            "_view_name": "LayoutView",
            "align_content": null,
            "align_items": null,
            "align_self": null,
            "border": null,
            "bottom": null,
            "display": null,
            "flex": null,
            "flex_flow": null,
            "grid_area": null,
            "grid_auto_columns": null,
            "grid_auto_flow": null,
            "grid_auto_rows": null,
            "grid_column": null,
            "grid_gap": null,
            "grid_row": null,
            "grid_template_areas": null,
            "grid_template_columns": null,
            "grid_template_rows": null,
            "height": null,
            "justify_content": null,
            "justify_items": null,
            "left": null,
            "margin": null,
            "max_height": null,
            "max_width": null,
            "min_height": null,
            "min_width": null,
            "object_fit": null,
            "object_position": null,
            "order": null,
            "overflow": null,
            "overflow_x": null,
            "overflow_y": null,
            "padding": null,
            "right": null,
            "top": null,
            "visibility": null,
            "width": "20px"
          }
        },
        "e10b3cbd4ea74fb5b3dfcc23b556b62c": {
          "model_module": "@jupyter-widgets/controls",
          "model_name": "ProgressStyleModel",
          "model_module_version": "1.5.0",
          "state": {
            "_model_module": "@jupyter-widgets/controls",
            "_model_module_version": "1.5.0",
            "_model_name": "ProgressStyleModel",
            "_view_count": null,
            "_view_module": "@jupyter-widgets/base",
            "_view_module_version": "1.2.0",
            "_view_name": "StyleView",
            "bar_color": null,
            "description_width": ""
          }
        },
        "008eaaacc9ed40bb862db936e355c3c5": {
          "model_module": "@jupyter-widgets/base",
          "model_name": "LayoutModel",
          "model_module_version": "1.2.0",
          "state": {
            "_model_module": "@jupyter-widgets/base",
            "_model_module_version": "1.2.0",
            "_model_name": "LayoutModel",
            "_view_count": null,
            "_view_module": "@jupyter-widgets/base",
            "_view_module_version": "1.2.0",
            "_view_name": "LayoutView",
            "align_content": null,
            "align_items": null,
            "align_self": null,
            "border": null,
            "bottom": null,
            "display": null,
            "flex": null,
            "flex_flow": null,
            "grid_area": null,
            "grid_auto_columns": null,
            "grid_auto_flow": null,
            "grid_auto_rows": null,
            "grid_column": null,
            "grid_gap": null,
            "grid_row": null,
            "grid_template_areas": null,
            "grid_template_columns": null,
            "grid_template_rows": null,
            "height": null,
            "justify_content": null,
            "justify_items": null,
            "left": null,
            "margin": null,
            "max_height": null,
            "max_width": null,
            "min_height": null,
            "min_width": null,
            "object_fit": null,
            "object_position": null,
            "order": null,
            "overflow": null,
            "overflow_x": null,
            "overflow_y": null,
            "padding": null,
            "right": null,
            "top": null,
            "visibility": null,
            "width": null
          }
        },
        "10ef64fe1fae43d490de2d466d78e143": {
          "model_module": "@jupyter-widgets/controls",
          "model_name": "DescriptionStyleModel",
          "model_module_version": "1.5.0",
          "state": {
            "_model_module": "@jupyter-widgets/controls",
            "_model_module_version": "1.5.0",
            "_model_name": "DescriptionStyleModel",
            "_view_count": null,
            "_view_module": "@jupyter-widgets/base",
            "_view_module_version": "1.2.0",
            "_view_name": "StyleView",
            "description_width": ""
          }
        },
        "10e033ba4f3e47b68a9065ce0039b1e1": {
          "model_module": "@jupyter-widgets/controls",
          "model_name": "HBoxModel",
          "model_module_version": "1.5.0",
          "state": {
            "_dom_classes": [],
            "_model_module": "@jupyter-widgets/controls",
            "_model_module_version": "1.5.0",
            "_model_name": "HBoxModel",
            "_view_count": null,
            "_view_module": "@jupyter-widgets/controls",
            "_view_module_version": "1.5.0",
            "_view_name": "HBoxView",
            "box_style": "",
            "children": [
              "IPY_MODEL_1f8b2887a4dd47ed817fab89e6bc6547",
              "IPY_MODEL_31602ec40da44a7ca9c6dc212f64b362",
              "IPY_MODEL_305e25e2fe7d45438998514e468121c6"
            ],
            "layout": "IPY_MODEL_31a09dbc700f4f509f4ecff318d3c47d"
          }
        },
        "1f8b2887a4dd47ed817fab89e6bc6547": {
          "model_module": "@jupyter-widgets/controls",
          "model_name": "HTMLModel",
          "model_module_version": "1.5.0",
          "state": {
            "_dom_classes": [],
            "_model_module": "@jupyter-widgets/controls",
            "_model_module_version": "1.5.0",
            "_model_name": "HTMLModel",
            "_view_count": null,
            "_view_module": "@jupyter-widgets/controls",
            "_view_module_version": "1.5.0",
            "_view_name": "HTMLView",
            "description": "",
            "description_tooltip": null,
            "layout": "IPY_MODEL_3a24db6256f947a09bbc9a441edcfa37",
            "placeholder": "​",
            "style": "IPY_MODEL_b8a714947a344eea9b2c6c59986f54c4",
            "value": "Extraction completed...: 100%"
          }
        },
        "31602ec40da44a7ca9c6dc212f64b362": {
          "model_module": "@jupyter-widgets/controls",
          "model_name": "FloatProgressModel",
          "model_module_version": "1.5.0",
          "state": {
            "_dom_classes": [],
            "_model_module": "@jupyter-widgets/controls",
            "_model_module_version": "1.5.0",
            "_model_name": "FloatProgressModel",
            "_view_count": null,
            "_view_module": "@jupyter-widgets/controls",
            "_view_module_version": "1.5.0",
            "_view_name": "ProgressView",
            "bar_style": "success",
            "description": "",
            "description_tooltip": null,
            "layout": "IPY_MODEL_c1a4f641b5294fbfa994082306453d77",
            "max": 1,
            "min": 0,
            "orientation": "horizontal",
            "style": "IPY_MODEL_17558b4252a245c588fbd620a738b16c",
            "value": 1
          }
        },
        "305e25e2fe7d45438998514e468121c6": {
          "model_module": "@jupyter-widgets/controls",
          "model_name": "HTMLModel",
          "model_module_version": "1.5.0",
          "state": {
            "_dom_classes": [],
            "_model_module": "@jupyter-widgets/controls",
            "_model_module_version": "1.5.0",
            "_model_name": "HTMLModel",
            "_view_count": null,
            "_view_module": "@jupyter-widgets/controls",
            "_view_module_version": "1.5.0",
            "_view_name": "HTMLView",
            "description": "",
            "description_tooltip": null,
            "layout": "IPY_MODEL_69fcc201a03a419b83c08efb276d6de1",
            "placeholder": "​",
            "style": "IPY_MODEL_09ceba7448794489bdd0bebf920b3bb9",
            "value": " 4/4 [00:02&lt;00:00,  1.30 file/s]"
          }
        },
        "31a09dbc700f4f509f4ecff318d3c47d": {
          "model_module": "@jupyter-widgets/base",
          "model_name": "LayoutModel",
          "model_module_version": "1.2.0",
          "state": {
            "_model_module": "@jupyter-widgets/base",
            "_model_module_version": "1.2.0",
            "_model_name": "LayoutModel",
            "_view_count": null,
            "_view_module": "@jupyter-widgets/base",
            "_view_module_version": "1.2.0",
            "_view_name": "LayoutView",
            "align_content": null,
            "align_items": null,
            "align_self": null,
            "border": null,
            "bottom": null,
            "display": null,
            "flex": null,
            "flex_flow": null,
            "grid_area": null,
            "grid_auto_columns": null,
            "grid_auto_flow": null,
            "grid_auto_rows": null,
            "grid_column": null,
            "grid_gap": null,
            "grid_row": null,
            "grid_template_areas": null,
            "grid_template_columns": null,
            "grid_template_rows": null,
            "height": null,
            "justify_content": null,
            "justify_items": null,
            "left": null,
            "margin": null,
            "max_height": null,
            "max_width": null,
            "min_height": null,
            "min_width": null,
            "object_fit": null,
            "object_position": null,
            "order": null,
            "overflow": null,
            "overflow_x": null,
            "overflow_y": null,
            "padding": null,
            "right": null,
            "top": null,
            "visibility": null,
            "width": null
          }
        },
        "3a24db6256f947a09bbc9a441edcfa37": {
          "model_module": "@jupyter-widgets/base",
          "model_name": "LayoutModel",
          "model_module_version": "1.2.0",
          "state": {
            "_model_module": "@jupyter-widgets/base",
            "_model_module_version": "1.2.0",
            "_model_name": "LayoutModel",
            "_view_count": null,
            "_view_module": "@jupyter-widgets/base",
            "_view_module_version": "1.2.0",
            "_view_name": "LayoutView",
            "align_content": null,
            "align_items": null,
            "align_self": null,
            "border": null,
            "bottom": null,
            "display": null,
            "flex": null,
            "flex_flow": null,
            "grid_area": null,
            "grid_auto_columns": null,
            "grid_auto_flow": null,
            "grid_auto_rows": null,
            "grid_column": null,
            "grid_gap": null,
            "grid_row": null,
            "grid_template_areas": null,
            "grid_template_columns": null,
            "grid_template_rows": null,
            "height": null,
            "justify_content": null,
            "justify_items": null,
            "left": null,
            "margin": null,
            "max_height": null,
            "max_width": null,
            "min_height": null,
            "min_width": null,
            "object_fit": null,
            "object_position": null,
            "order": null,
            "overflow": null,
            "overflow_x": null,
            "overflow_y": null,
            "padding": null,
            "right": null,
            "top": null,
            "visibility": null,
            "width": null
          }
        },
        "b8a714947a344eea9b2c6c59986f54c4": {
          "model_module": "@jupyter-widgets/controls",
          "model_name": "DescriptionStyleModel",
          "model_module_version": "1.5.0",
          "state": {
            "_model_module": "@jupyter-widgets/controls",
            "_model_module_version": "1.5.0",
            "_model_name": "DescriptionStyleModel",
            "_view_count": null,
            "_view_module": "@jupyter-widgets/base",
            "_view_module_version": "1.2.0",
            "_view_name": "StyleView",
            "description_width": ""
          }
        },
        "c1a4f641b5294fbfa994082306453d77": {
          "model_module": "@jupyter-widgets/base",
          "model_name": "LayoutModel",
          "model_module_version": "1.2.0",
          "state": {
            "_model_module": "@jupyter-widgets/base",
            "_model_module_version": "1.2.0",
            "_model_name": "LayoutModel",
            "_view_count": null,
            "_view_module": "@jupyter-widgets/base",
            "_view_module_version": "1.2.0",
            "_view_name": "LayoutView",
            "align_content": null,
            "align_items": null,
            "align_self": null,
            "border": null,
            "bottom": null,
            "display": null,
            "flex": null,
            "flex_flow": null,
            "grid_area": null,
            "grid_auto_columns": null,
            "grid_auto_flow": null,
            "grid_auto_rows": null,
            "grid_column": null,
            "grid_gap": null,
            "grid_row": null,
            "grid_template_areas": null,
            "grid_template_columns": null,
            "grid_template_rows": null,
            "height": null,
            "justify_content": null,
            "justify_items": null,
            "left": null,
            "margin": null,
            "max_height": null,
            "max_width": null,
            "min_height": null,
            "min_width": null,
            "object_fit": null,
            "object_position": null,
            "order": null,
            "overflow": null,
            "overflow_x": null,
            "overflow_y": null,
            "padding": null,
            "right": null,
            "top": null,
            "visibility": null,
            "width": "20px"
          }
        },
        "17558b4252a245c588fbd620a738b16c": {
          "model_module": "@jupyter-widgets/controls",
          "model_name": "ProgressStyleModel",
          "model_module_version": "1.5.0",
          "state": {
            "_model_module": "@jupyter-widgets/controls",
            "_model_module_version": "1.5.0",
            "_model_name": "ProgressStyleModel",
            "_view_count": null,
            "_view_module": "@jupyter-widgets/base",
            "_view_module_version": "1.2.0",
            "_view_name": "StyleView",
            "bar_color": null,
            "description_width": ""
          }
        },
        "69fcc201a03a419b83c08efb276d6de1": {
          "model_module": "@jupyter-widgets/base",
          "model_name": "LayoutModel",
          "model_module_version": "1.2.0",
          "state": {
            "_model_module": "@jupyter-widgets/base",
            "_model_module_version": "1.2.0",
            "_model_name": "LayoutModel",
            "_view_count": null,
            "_view_module": "@jupyter-widgets/base",
            "_view_module_version": "1.2.0",
            "_view_name": "LayoutView",
            "align_content": null,
            "align_items": null,
            "align_self": null,
            "border": null,
            "bottom": null,
            "display": null,
            "flex": null,
            "flex_flow": null,
            "grid_area": null,
            "grid_auto_columns": null,
            "grid_auto_flow": null,
            "grid_auto_rows": null,
            "grid_column": null,
            "grid_gap": null,
            "grid_row": null,
            "grid_template_areas": null,
            "grid_template_columns": null,
            "grid_template_rows": null,
            "height": null,
            "justify_content": null,
            "justify_items": null,
            "left": null,
            "margin": null,
            "max_height": null,
            "max_width": null,
            "min_height": null,
            "min_width": null,
            "object_fit": null,
            "object_position": null,
            "order": null,
            "overflow": null,
            "overflow_x": null,
            "overflow_y": null,
            "padding": null,
            "right": null,
            "top": null,
            "visibility": null,
            "width": null
          }
        },
        "09ceba7448794489bdd0bebf920b3bb9": {
          "model_module": "@jupyter-widgets/controls",
          "model_name": "DescriptionStyleModel",
          "model_module_version": "1.5.0",
          "state": {
            "_model_module": "@jupyter-widgets/controls",
            "_model_module_version": "1.5.0",
            "_model_name": "DescriptionStyleModel",
            "_view_count": null,
            "_view_module": "@jupyter-widgets/base",
            "_view_module_version": "1.2.0",
            "_view_name": "StyleView",
            "description_width": ""
          }
        },
        "04bb1f50ce2149b18685ca4860d14702": {
          "model_module": "@jupyter-widgets/controls",
          "model_name": "HBoxModel",
          "model_module_version": "1.5.0",
          "state": {
            "_dom_classes": [],
            "_model_module": "@jupyter-widgets/controls",
            "_model_module_version": "1.5.0",
            "_model_name": "HBoxModel",
            "_view_count": null,
            "_view_module": "@jupyter-widgets/controls",
            "_view_module_version": "1.5.0",
            "_view_name": "HBoxView",
            "box_style": "",
            "children": [
              "IPY_MODEL_718bcfac47884f55895d950b682ab516",
              "IPY_MODEL_f1faab6a9fa8417086865e98a3a57904",
              "IPY_MODEL_556eee68f92e43008317d05e995d8a86"
            ],
            "layout": "IPY_MODEL_f1fc20a3551c489fab02fa6205ad2252"
          }
        },
        "718bcfac47884f55895d950b682ab516": {
          "model_module": "@jupyter-widgets/controls",
          "model_name": "HTMLModel",
          "model_module_version": "1.5.0",
          "state": {
            "_dom_classes": [],
            "_model_module": "@jupyter-widgets/controls",
            "_model_module_version": "1.5.0",
            "_model_name": "HTMLModel",
            "_view_count": null,
            "_view_module": "@jupyter-widgets/controls",
            "_view_module_version": "1.5.0",
            "_view_name": "HTMLView",
            "description": "",
            "description_tooltip": null,
            "layout": "IPY_MODEL_60a87c00c32c456fa57156eb630b4032",
            "placeholder": "​",
            "style": "IPY_MODEL_c68d3e4c99de4434a79a4857ad4a937d",
            "value": "Generating splits...: 100%"
          }
        },
        "f1faab6a9fa8417086865e98a3a57904": {
          "model_module": "@jupyter-widgets/controls",
          "model_name": "FloatProgressModel",
          "model_module_version": "1.5.0",
          "state": {
            "_dom_classes": [],
            "_model_module": "@jupyter-widgets/controls",
            "_model_module_version": "1.5.0",
            "_model_name": "FloatProgressModel",
            "_view_count": null,
            "_view_module": "@jupyter-widgets/controls",
            "_view_module_version": "1.5.0",
            "_view_name": "ProgressView",
            "bar_style": "",
            "description": "",
            "description_tooltip": null,
            "layout": "IPY_MODEL_d6d1942233084e388f2c2c40e56246a0",
            "max": 2,
            "min": 0,
            "orientation": "horizontal",
            "style": "IPY_MODEL_211707df24f149848e29e4355b769bca",
            "value": 2
          }
        },
        "556eee68f92e43008317d05e995d8a86": {
          "model_module": "@jupyter-widgets/controls",
          "model_name": "HTMLModel",
          "model_module_version": "1.5.0",
          "state": {
            "_dom_classes": [],
            "_model_module": "@jupyter-widgets/controls",
            "_model_module_version": "1.5.0",
            "_model_name": "HTMLModel",
            "_view_count": null,
            "_view_module": "@jupyter-widgets/controls",
            "_view_module_version": "1.5.0",
            "_view_name": "HTMLView",
            "description": "",
            "description_tooltip": null,
            "layout": "IPY_MODEL_f02f9d6b487a41ef9a59714cccd41e66",
            "placeholder": "​",
            "style": "IPY_MODEL_f428bf4f2bfc49c0953e857c27715769",
            "value": " 2/2 [00:32&lt;00:00, 14.27s/ splits]"
          }
        },
        "f1fc20a3551c489fab02fa6205ad2252": {
          "model_module": "@jupyter-widgets/base",
          "model_name": "LayoutModel",
          "model_module_version": "1.2.0",
          "state": {
            "_model_module": "@jupyter-widgets/base",
            "_model_module_version": "1.2.0",
            "_model_name": "LayoutModel",
            "_view_count": null,
            "_view_module": "@jupyter-widgets/base",
            "_view_module_version": "1.2.0",
            "_view_name": "LayoutView",
            "align_content": null,
            "align_items": null,
            "align_self": null,
            "border": null,
            "bottom": null,
            "display": null,
            "flex": null,
            "flex_flow": null,
            "grid_area": null,
            "grid_auto_columns": null,
            "grid_auto_flow": null,
            "grid_auto_rows": null,
            "grid_column": null,
            "grid_gap": null,
            "grid_row": null,
            "grid_template_areas": null,
            "grid_template_columns": null,
            "grid_template_rows": null,
            "height": null,
            "justify_content": null,
            "justify_items": null,
            "left": null,
            "margin": null,
            "max_height": null,
            "max_width": null,
            "min_height": null,
            "min_width": null,
            "object_fit": null,
            "object_position": null,
            "order": null,
            "overflow": null,
            "overflow_x": null,
            "overflow_y": null,
            "padding": null,
            "right": null,
            "top": null,
            "visibility": "hidden",
            "width": null
          }
        },
        "60a87c00c32c456fa57156eb630b4032": {
          "model_module": "@jupyter-widgets/base",
          "model_name": "LayoutModel",
          "model_module_version": "1.2.0",
          "state": {
            "_model_module": "@jupyter-widgets/base",
            "_model_module_version": "1.2.0",
            "_model_name": "LayoutModel",
            "_view_count": null,
            "_view_module": "@jupyter-widgets/base",
            "_view_module_version": "1.2.0",
            "_view_name": "LayoutView",
            "align_content": null,
            "align_items": null,
            "align_self": null,
            "border": null,
            "bottom": null,
            "display": null,
            "flex": null,
            "flex_flow": null,
            "grid_area": null,
            "grid_auto_columns": null,
            "grid_auto_flow": null,
            "grid_auto_rows": null,
            "grid_column": null,
            "grid_gap": null,
            "grid_row": null,
            "grid_template_areas": null,
            "grid_template_columns": null,
            "grid_template_rows": null,
            "height": null,
            "justify_content": null,
            "justify_items": null,
            "left": null,
            "margin": null,
            "max_height": null,
            "max_width": null,
            "min_height": null,
            "min_width": null,
            "object_fit": null,
            "object_position": null,
            "order": null,
            "overflow": null,
            "overflow_x": null,
            "overflow_y": null,
            "padding": null,
            "right": null,
            "top": null,
            "visibility": null,
            "width": null
          }
        },
        "c68d3e4c99de4434a79a4857ad4a937d": {
          "model_module": "@jupyter-widgets/controls",
          "model_name": "DescriptionStyleModel",
          "model_module_version": "1.5.0",
          "state": {
            "_model_module": "@jupyter-widgets/controls",
            "_model_module_version": "1.5.0",
            "_model_name": "DescriptionStyleModel",
            "_view_count": null,
            "_view_module": "@jupyter-widgets/base",
            "_view_module_version": "1.2.0",
            "_view_name": "StyleView",
            "description_width": ""
          }
        },
        "d6d1942233084e388f2c2c40e56246a0": {
          "model_module": "@jupyter-widgets/base",
          "model_name": "LayoutModel",
          "model_module_version": "1.2.0",
          "state": {
            "_model_module": "@jupyter-widgets/base",
            "_model_module_version": "1.2.0",
            "_model_name": "LayoutModel",
            "_view_count": null,
            "_view_module": "@jupyter-widgets/base",
            "_view_module_version": "1.2.0",
            "_view_name": "LayoutView",
            "align_content": null,
            "align_items": null,
            "align_self": null,
            "border": null,
            "bottom": null,
            "display": null,
            "flex": null,
            "flex_flow": null,
            "grid_area": null,
            "grid_auto_columns": null,
            "grid_auto_flow": null,
            "grid_auto_rows": null,
            "grid_column": null,
            "grid_gap": null,
            "grid_row": null,
            "grid_template_areas": null,
            "grid_template_columns": null,
            "grid_template_rows": null,
            "height": null,
            "justify_content": null,
            "justify_items": null,
            "left": null,
            "margin": null,
            "max_height": null,
            "max_width": null,
            "min_height": null,
            "min_width": null,
            "object_fit": null,
            "object_position": null,
            "order": null,
            "overflow": null,
            "overflow_x": null,
            "overflow_y": null,
            "padding": null,
            "right": null,
            "top": null,
            "visibility": null,
            "width": null
          }
        },
        "211707df24f149848e29e4355b769bca": {
          "model_module": "@jupyter-widgets/controls",
          "model_name": "ProgressStyleModel",
          "model_module_version": "1.5.0",
          "state": {
            "_model_module": "@jupyter-widgets/controls",
            "_model_module_version": "1.5.0",
            "_model_name": "ProgressStyleModel",
            "_view_count": null,
            "_view_module": "@jupyter-widgets/base",
            "_view_module_version": "1.2.0",
            "_view_name": "StyleView",
            "bar_color": null,
            "description_width": ""
          }
        },
        "f02f9d6b487a41ef9a59714cccd41e66": {
          "model_module": "@jupyter-widgets/base",
          "model_name": "LayoutModel",
          "model_module_version": "1.2.0",
          "state": {
            "_model_module": "@jupyter-widgets/base",
            "_model_module_version": "1.2.0",
            "_model_name": "LayoutModel",
            "_view_count": null,
            "_view_module": "@jupyter-widgets/base",
            "_view_module_version": "1.2.0",
            "_view_name": "LayoutView",
            "align_content": null,
            "align_items": null,
            "align_self": null,
            "border": null,
            "bottom": null,
            "display": null,
            "flex": null,
            "flex_flow": null,
            "grid_area": null,
            "grid_auto_columns": null,
            "grid_auto_flow": null,
            "grid_auto_rows": null,
            "grid_column": null,
            "grid_gap": null,
            "grid_row": null,
            "grid_template_areas": null,
            "grid_template_columns": null,
            "grid_template_rows": null,
            "height": null,
            "justify_content": null,
            "justify_items": null,
            "left": null,
            "margin": null,
            "max_height": null,
            "max_width": null,
            "min_height": null,
            "min_width": null,
            "object_fit": null,
            "object_position": null,
            "order": null,
            "overflow": null,
            "overflow_x": null,
            "overflow_y": null,
            "padding": null,
            "right": null,
            "top": null,
            "visibility": null,
            "width": null
          }
        },
        "f428bf4f2bfc49c0953e857c27715769": {
          "model_module": "@jupyter-widgets/controls",
          "model_name": "DescriptionStyleModel",
          "model_module_version": "1.5.0",
          "state": {
            "_model_module": "@jupyter-widgets/controls",
            "_model_module_version": "1.5.0",
            "_model_name": "DescriptionStyleModel",
            "_view_count": null,
            "_view_module": "@jupyter-widgets/base",
            "_view_module_version": "1.2.0",
            "_view_name": "StyleView",
            "description_width": ""
          }
        },
        "c7790a2d32e049b394ddb9f73e5bdc4b": {
          "model_module": "@jupyter-widgets/controls",
          "model_name": "HBoxModel",
          "model_module_version": "1.5.0",
          "state": {
            "_dom_classes": [],
            "_model_module": "@jupyter-widgets/controls",
            "_model_module_version": "1.5.0",
            "_model_name": "HBoxModel",
            "_view_count": null,
            "_view_module": "@jupyter-widgets/controls",
            "_view_module_version": "1.5.0",
            "_view_name": "HBoxView",
            "box_style": "",
            "children": [
              "IPY_MODEL_6a043d0a3a93449c94e1f96733e7446a",
              "IPY_MODEL_578544dabd1e4731949982e22002b0c9",
              "IPY_MODEL_71494c0c6f704847bcb11c88a8e22527"
            ],
            "layout": "IPY_MODEL_4dcd9e5ff2ef471d86d294452a8aa5a2"
          }
        },
        "6a043d0a3a93449c94e1f96733e7446a": {
          "model_module": "@jupyter-widgets/controls",
          "model_name": "HTMLModel",
          "model_module_version": "1.5.0",
          "state": {
            "_dom_classes": [],
            "_model_module": "@jupyter-widgets/controls",
            "_model_module_version": "1.5.0",
            "_model_name": "HTMLModel",
            "_view_count": null,
            "_view_module": "@jupyter-widgets/controls",
            "_view_module_version": "1.5.0",
            "_view_name": "HTMLView",
            "description": "",
            "description_tooltip": null,
            "layout": "IPY_MODEL_2a8e781a6e624876a4c36117855c72e9",
            "placeholder": "​",
            "style": "IPY_MODEL_51bd0581a04648b6ac0c53f86934e38b",
            "value": "Generating train examples...: 100%"
          }
        },
        "578544dabd1e4731949982e22002b0c9": {
          "model_module": "@jupyter-widgets/controls",
          "model_name": "FloatProgressModel",
          "model_module_version": "1.5.0",
          "state": {
            "_dom_classes": [],
            "_model_module": "@jupyter-widgets/controls",
            "_model_module_version": "1.5.0",
            "_model_name": "FloatProgressModel",
            "_view_count": null,
            "_view_module": "@jupyter-widgets/controls",
            "_view_module_version": "1.5.0",
            "_view_name": "ProgressView",
            "bar_style": "",
            "description": "",
            "description_tooltip": null,
            "layout": "IPY_MODEL_6f486ccc4b624909914c2ea94b67be6e",
            "max": 60000,
            "min": 0,
            "orientation": "horizontal",
            "style": "IPY_MODEL_2331d8bb09994d048c465f21443031ae",
            "value": 60000
          }
        },
        "71494c0c6f704847bcb11c88a8e22527": {
          "model_module": "@jupyter-widgets/controls",
          "model_name": "HTMLModel",
          "model_module_version": "1.5.0",
          "state": {
            "_dom_classes": [],
            "_model_module": "@jupyter-widgets/controls",
            "_model_module_version": "1.5.0",
            "_model_name": "HTMLModel",
            "_view_count": null,
            "_view_module": "@jupyter-widgets/controls",
            "_view_module_version": "1.5.0",
            "_view_name": "HTMLView",
            "description": "",
            "description_tooltip": null,
            "layout": "IPY_MODEL_ff7f92c2c8ab4979ad613cd7856d24d5",
            "placeholder": "​",
            "style": "IPY_MODEL_144bc7711b0d495887004fede5f57c1d",
            "value": " 59916/60000 [00:26&lt;00:00, 2387.56 examples/s]"
          }
        },
        "4dcd9e5ff2ef471d86d294452a8aa5a2": {
          "model_module": "@jupyter-widgets/base",
          "model_name": "LayoutModel",
          "model_module_version": "1.2.0",
          "state": {
            "_model_module": "@jupyter-widgets/base",
            "_model_module_version": "1.2.0",
            "_model_name": "LayoutModel",
            "_view_count": null,
            "_view_module": "@jupyter-widgets/base",
            "_view_module_version": "1.2.0",
            "_view_name": "LayoutView",
            "align_content": null,
            "align_items": null,
            "align_self": null,
            "border": null,
            "bottom": null,
            "display": null,
            "flex": null,
            "flex_flow": null,
            "grid_area": null,
            "grid_auto_columns": null,
            "grid_auto_flow": null,
            "grid_auto_rows": null,
            "grid_column": null,
            "grid_gap": null,
            "grid_row": null,
            "grid_template_areas": null,
            "grid_template_columns": null,
            "grid_template_rows": null,
            "height": null,
            "justify_content": null,
            "justify_items": null,
            "left": null,
            "margin": null,
            "max_height": null,
            "max_width": null,
            "min_height": null,
            "min_width": null,
            "object_fit": null,
            "object_position": null,
            "order": null,
            "overflow": null,
            "overflow_x": null,
            "overflow_y": null,
            "padding": null,
            "right": null,
            "top": null,
            "visibility": "hidden",
            "width": null
          }
        },
        "2a8e781a6e624876a4c36117855c72e9": {
          "model_module": "@jupyter-widgets/base",
          "model_name": "LayoutModel",
          "model_module_version": "1.2.0",
          "state": {
            "_model_module": "@jupyter-widgets/base",
            "_model_module_version": "1.2.0",
            "_model_name": "LayoutModel",
            "_view_count": null,
            "_view_module": "@jupyter-widgets/base",
            "_view_module_version": "1.2.0",
            "_view_name": "LayoutView",
            "align_content": null,
            "align_items": null,
            "align_self": null,
            "border": null,
            "bottom": null,
            "display": null,
            "flex": null,
            "flex_flow": null,
            "grid_area": null,
            "grid_auto_columns": null,
            "grid_auto_flow": null,
            "grid_auto_rows": null,
            "grid_column": null,
            "grid_gap": null,
            "grid_row": null,
            "grid_template_areas": null,
            "grid_template_columns": null,
            "grid_template_rows": null,
            "height": null,
            "justify_content": null,
            "justify_items": null,
            "left": null,
            "margin": null,
            "max_height": null,
            "max_width": null,
            "min_height": null,
            "min_width": null,
            "object_fit": null,
            "object_position": null,
            "order": null,
            "overflow": null,
            "overflow_x": null,
            "overflow_y": null,
            "padding": null,
            "right": null,
            "top": null,
            "visibility": null,
            "width": null
          }
        },
        "51bd0581a04648b6ac0c53f86934e38b": {
          "model_module": "@jupyter-widgets/controls",
          "model_name": "DescriptionStyleModel",
          "model_module_version": "1.5.0",
          "state": {
            "_model_module": "@jupyter-widgets/controls",
            "_model_module_version": "1.5.0",
            "_model_name": "DescriptionStyleModel",
            "_view_count": null,
            "_view_module": "@jupyter-widgets/base",
            "_view_module_version": "1.2.0",
            "_view_name": "StyleView",
            "description_width": ""
          }
        },
        "6f486ccc4b624909914c2ea94b67be6e": {
          "model_module": "@jupyter-widgets/base",
          "model_name": "LayoutModel",
          "model_module_version": "1.2.0",
          "state": {
            "_model_module": "@jupyter-widgets/base",
            "_model_module_version": "1.2.0",
            "_model_name": "LayoutModel",
            "_view_count": null,
            "_view_module": "@jupyter-widgets/base",
            "_view_module_version": "1.2.0",
            "_view_name": "LayoutView",
            "align_content": null,
            "align_items": null,
            "align_self": null,
            "border": null,
            "bottom": null,
            "display": null,
            "flex": null,
            "flex_flow": null,
            "grid_area": null,
            "grid_auto_columns": null,
            "grid_auto_flow": null,
            "grid_auto_rows": null,
            "grid_column": null,
            "grid_gap": null,
            "grid_row": null,
            "grid_template_areas": null,
            "grid_template_columns": null,
            "grid_template_rows": null,
            "height": null,
            "justify_content": null,
            "justify_items": null,
            "left": null,
            "margin": null,
            "max_height": null,
            "max_width": null,
            "min_height": null,
            "min_width": null,
            "object_fit": null,
            "object_position": null,
            "order": null,
            "overflow": null,
            "overflow_x": null,
            "overflow_y": null,
            "padding": null,
            "right": null,
            "top": null,
            "visibility": null,
            "width": null
          }
        },
        "2331d8bb09994d048c465f21443031ae": {
          "model_module": "@jupyter-widgets/controls",
          "model_name": "ProgressStyleModel",
          "model_module_version": "1.5.0",
          "state": {
            "_model_module": "@jupyter-widgets/controls",
            "_model_module_version": "1.5.0",
            "_model_name": "ProgressStyleModel",
            "_view_count": null,
            "_view_module": "@jupyter-widgets/base",
            "_view_module_version": "1.2.0",
            "_view_name": "StyleView",
            "bar_color": null,
            "description_width": ""
          }
        },
        "ff7f92c2c8ab4979ad613cd7856d24d5": {
          "model_module": "@jupyter-widgets/base",
          "model_name": "LayoutModel",
          "model_module_version": "1.2.0",
          "state": {
            "_model_module": "@jupyter-widgets/base",
            "_model_module_version": "1.2.0",
            "_model_name": "LayoutModel",
            "_view_count": null,
            "_view_module": "@jupyter-widgets/base",
            "_view_module_version": "1.2.0",
            "_view_name": "LayoutView",
            "align_content": null,
            "align_items": null,
            "align_self": null,
            "border": null,
            "bottom": null,
            "display": null,
            "flex": null,
            "flex_flow": null,
            "grid_area": null,
            "grid_auto_columns": null,
            "grid_auto_flow": null,
            "grid_auto_rows": null,
            "grid_column": null,
            "grid_gap": null,
            "grid_row": null,
            "grid_template_areas": null,
            "grid_template_columns": null,
            "grid_template_rows": null,
            "height": null,
            "justify_content": null,
            "justify_items": null,
            "left": null,
            "margin": null,
            "max_height": null,
            "max_width": null,
            "min_height": null,
            "min_width": null,
            "object_fit": null,
            "object_position": null,
            "order": null,
            "overflow": null,
            "overflow_x": null,
            "overflow_y": null,
            "padding": null,
            "right": null,
            "top": null,
            "visibility": null,
            "width": null
          }
        },
        "144bc7711b0d495887004fede5f57c1d": {
          "model_module": "@jupyter-widgets/controls",
          "model_name": "DescriptionStyleModel",
          "model_module_version": "1.5.0",
          "state": {
            "_model_module": "@jupyter-widgets/controls",
            "_model_module_version": "1.5.0",
            "_model_name": "DescriptionStyleModel",
            "_view_count": null,
            "_view_module": "@jupyter-widgets/base",
            "_view_module_version": "1.2.0",
            "_view_name": "StyleView",
            "description_width": ""
          }
        },
        "206c0686927e4e8286be3a16365e51e0": {
          "model_module": "@jupyter-widgets/controls",
          "model_name": "HBoxModel",
          "model_module_version": "1.5.0",
          "state": {
            "_dom_classes": [],
            "_model_module": "@jupyter-widgets/controls",
            "_model_module_version": "1.5.0",
            "_model_name": "HBoxModel",
            "_view_count": null,
            "_view_module": "@jupyter-widgets/controls",
            "_view_module_version": "1.5.0",
            "_view_name": "HBoxView",
            "box_style": "",
            "children": [
              "IPY_MODEL_2878fe1290d84295915673d306531675",
              "IPY_MODEL_7eb374a620124a6e8bebcfd3ccbd827b",
              "IPY_MODEL_35e1aaefb21e4126b8c9077cf1c7a85b"
            ],
            "layout": "IPY_MODEL_9f672c9947594b1e8c13216e10360038"
          }
        },
        "2878fe1290d84295915673d306531675": {
          "model_module": "@jupyter-widgets/controls",
          "model_name": "HTMLModel",
          "model_module_version": "1.5.0",
          "state": {
            "_dom_classes": [],
            "_model_module": "@jupyter-widgets/controls",
            "_model_module_version": "1.5.0",
            "_model_name": "HTMLModel",
            "_view_count": null,
            "_view_module": "@jupyter-widgets/controls",
            "_view_module_version": "1.5.0",
            "_view_name": "HTMLView",
            "description": "",
            "description_tooltip": null,
            "layout": "IPY_MODEL_fcfeaf3055bb478387e2087b0c3fcdde",
            "placeholder": "​",
            "style": "IPY_MODEL_d1a66f41e51d44e08ded17c911cd4764",
            "value": "Shuffling /root/tensorflow_datasets/fashion_mnist/3.0.1.incompleteBTRN3Z/fashion_mnist-train.tfrecord*...:  51%"
          }
        },
        "7eb374a620124a6e8bebcfd3ccbd827b": {
          "model_module": "@jupyter-widgets/controls",
          "model_name": "FloatProgressModel",
          "model_module_version": "1.5.0",
          "state": {
            "_dom_classes": [],
            "_model_module": "@jupyter-widgets/controls",
            "_model_module_version": "1.5.0",
            "_model_name": "FloatProgressModel",
            "_view_count": null,
            "_view_module": "@jupyter-widgets/controls",
            "_view_module_version": "1.5.0",
            "_view_name": "ProgressView",
            "bar_style": "",
            "description": "",
            "description_tooltip": null,
            "layout": "IPY_MODEL_941a5d08e7a64682bf41238c39a83007",
            "max": 60000,
            "min": 0,
            "orientation": "horizontal",
            "style": "IPY_MODEL_31915f85d702435a84105e9ab99b797c",
            "value": 60000
          }
        },
        "35e1aaefb21e4126b8c9077cf1c7a85b": {
          "model_module": "@jupyter-widgets/controls",
          "model_name": "HTMLModel",
          "model_module_version": "1.5.0",
          "state": {
            "_dom_classes": [],
            "_model_module": "@jupyter-widgets/controls",
            "_model_module_version": "1.5.0",
            "_model_name": "HTMLModel",
            "_view_count": null,
            "_view_module": "@jupyter-widgets/controls",
            "_view_module_version": "1.5.0",
            "_view_name": "HTMLView",
            "description": "",
            "description_tooltip": null,
            "layout": "IPY_MODEL_c79ae61ab0454465b2a471fb68d0a62a",
            "placeholder": "​",
            "style": "IPY_MODEL_a31ad7b8fec04a6e91ccbc363df592e5",
            "value": " 30799/60000 [00:00&lt;00:00, 175213.40 examples/s]"
          }
        },
        "9f672c9947594b1e8c13216e10360038": {
          "model_module": "@jupyter-widgets/base",
          "model_name": "LayoutModel",
          "model_module_version": "1.2.0",
          "state": {
            "_model_module": "@jupyter-widgets/base",
            "_model_module_version": "1.2.0",
            "_model_name": "LayoutModel",
            "_view_count": null,
            "_view_module": "@jupyter-widgets/base",
            "_view_module_version": "1.2.0",
            "_view_name": "LayoutView",
            "align_content": null,
            "align_items": null,
            "align_self": null,
            "border": null,
            "bottom": null,
            "display": null,
            "flex": null,
            "flex_flow": null,
            "grid_area": null,
            "grid_auto_columns": null,
            "grid_auto_flow": null,
            "grid_auto_rows": null,
            "grid_column": null,
            "grid_gap": null,
            "grid_row": null,
            "grid_template_areas": null,
            "grid_template_columns": null,
            "grid_template_rows": null,
            "height": null,
            "justify_content": null,
            "justify_items": null,
            "left": null,
            "margin": null,
            "max_height": null,
            "max_width": null,
            "min_height": null,
            "min_width": null,
            "object_fit": null,
            "object_position": null,
            "order": null,
            "overflow": null,
            "overflow_x": null,
            "overflow_y": null,
            "padding": null,
            "right": null,
            "top": null,
            "visibility": "hidden",
            "width": null
          }
        },
        "fcfeaf3055bb478387e2087b0c3fcdde": {
          "model_module": "@jupyter-widgets/base",
          "model_name": "LayoutModel",
          "model_module_version": "1.2.0",
          "state": {
            "_model_module": "@jupyter-widgets/base",
            "_model_module_version": "1.2.0",
            "_model_name": "LayoutModel",
            "_view_count": null,
            "_view_module": "@jupyter-widgets/base",
            "_view_module_version": "1.2.0",
            "_view_name": "LayoutView",
            "align_content": null,
            "align_items": null,
            "align_self": null,
            "border": null,
            "bottom": null,
            "display": null,
            "flex": null,
            "flex_flow": null,
            "grid_area": null,
            "grid_auto_columns": null,
            "grid_auto_flow": null,
            "grid_auto_rows": null,
            "grid_column": null,
            "grid_gap": null,
            "grid_row": null,
            "grid_template_areas": null,
            "grid_template_columns": null,
            "grid_template_rows": null,
            "height": null,
            "justify_content": null,
            "justify_items": null,
            "left": null,
            "margin": null,
            "max_height": null,
            "max_width": null,
            "min_height": null,
            "min_width": null,
            "object_fit": null,
            "object_position": null,
            "order": null,
            "overflow": null,
            "overflow_x": null,
            "overflow_y": null,
            "padding": null,
            "right": null,
            "top": null,
            "visibility": null,
            "width": null
          }
        },
        "d1a66f41e51d44e08ded17c911cd4764": {
          "model_module": "@jupyter-widgets/controls",
          "model_name": "DescriptionStyleModel",
          "model_module_version": "1.5.0",
          "state": {
            "_model_module": "@jupyter-widgets/controls",
            "_model_module_version": "1.5.0",
            "_model_name": "DescriptionStyleModel",
            "_view_count": null,
            "_view_module": "@jupyter-widgets/base",
            "_view_module_version": "1.2.0",
            "_view_name": "StyleView",
            "description_width": ""
          }
        },
        "941a5d08e7a64682bf41238c39a83007": {
          "model_module": "@jupyter-widgets/base",
          "model_name": "LayoutModel",
          "model_module_version": "1.2.0",
          "state": {
            "_model_module": "@jupyter-widgets/base",
            "_model_module_version": "1.2.0",
            "_model_name": "LayoutModel",
            "_view_count": null,
            "_view_module": "@jupyter-widgets/base",
            "_view_module_version": "1.2.0",
            "_view_name": "LayoutView",
            "align_content": null,
            "align_items": null,
            "align_self": null,
            "border": null,
            "bottom": null,
            "display": null,
            "flex": null,
            "flex_flow": null,
            "grid_area": null,
            "grid_auto_columns": null,
            "grid_auto_flow": null,
            "grid_auto_rows": null,
            "grid_column": null,
            "grid_gap": null,
            "grid_row": null,
            "grid_template_areas": null,
            "grid_template_columns": null,
            "grid_template_rows": null,
            "height": null,
            "justify_content": null,
            "justify_items": null,
            "left": null,
            "margin": null,
            "max_height": null,
            "max_width": null,
            "min_height": null,
            "min_width": null,
            "object_fit": null,
            "object_position": null,
            "order": null,
            "overflow": null,
            "overflow_x": null,
            "overflow_y": null,
            "padding": null,
            "right": null,
            "top": null,
            "visibility": null,
            "width": null
          }
        },
        "31915f85d702435a84105e9ab99b797c": {
          "model_module": "@jupyter-widgets/controls",
          "model_name": "ProgressStyleModel",
          "model_module_version": "1.5.0",
          "state": {
            "_model_module": "@jupyter-widgets/controls",
            "_model_module_version": "1.5.0",
            "_model_name": "ProgressStyleModel",
            "_view_count": null,
            "_view_module": "@jupyter-widgets/base",
            "_view_module_version": "1.2.0",
            "_view_name": "StyleView",
            "bar_color": null,
            "description_width": ""
          }
        },
        "c79ae61ab0454465b2a471fb68d0a62a": {
          "model_module": "@jupyter-widgets/base",
          "model_name": "LayoutModel",
          "model_module_version": "1.2.0",
          "state": {
            "_model_module": "@jupyter-widgets/base",
            "_model_module_version": "1.2.0",
            "_model_name": "LayoutModel",
            "_view_count": null,
            "_view_module": "@jupyter-widgets/base",
            "_view_module_version": "1.2.0",
            "_view_name": "LayoutView",
            "align_content": null,
            "align_items": null,
            "align_self": null,
            "border": null,
            "bottom": null,
            "display": null,
            "flex": null,
            "flex_flow": null,
            "grid_area": null,
            "grid_auto_columns": null,
            "grid_auto_flow": null,
            "grid_auto_rows": null,
            "grid_column": null,
            "grid_gap": null,
            "grid_row": null,
            "grid_template_areas": null,
            "grid_template_columns": null,
            "grid_template_rows": null,
            "height": null,
            "justify_content": null,
            "justify_items": null,
            "left": null,
            "margin": null,
            "max_height": null,
            "max_width": null,
            "min_height": null,
            "min_width": null,
            "object_fit": null,
            "object_position": null,
            "order": null,
            "overflow": null,
            "overflow_x": null,
            "overflow_y": null,
            "padding": null,
            "right": null,
            "top": null,
            "visibility": null,
            "width": null
          }
        },
        "a31ad7b8fec04a6e91ccbc363df592e5": {
          "model_module": "@jupyter-widgets/controls",
          "model_name": "DescriptionStyleModel",
          "model_module_version": "1.5.0",
          "state": {
            "_model_module": "@jupyter-widgets/controls",
            "_model_module_version": "1.5.0",
            "_model_name": "DescriptionStyleModel",
            "_view_count": null,
            "_view_module": "@jupyter-widgets/base",
            "_view_module_version": "1.2.0",
            "_view_name": "StyleView",
            "description_width": ""
          }
        },
        "f11759324f2f4eadaa4fb487562a1152": {
          "model_module": "@jupyter-widgets/controls",
          "model_name": "HBoxModel",
          "model_module_version": "1.5.0",
          "state": {
            "_dom_classes": [],
            "_model_module": "@jupyter-widgets/controls",
            "_model_module_version": "1.5.0",
            "_model_name": "HBoxModel",
            "_view_count": null,
            "_view_module": "@jupyter-widgets/controls",
            "_view_module_version": "1.5.0",
            "_view_name": "HBoxView",
            "box_style": "",
            "children": [
              "IPY_MODEL_dec286dea39c4d42a4b6d77b3c29f6de",
              "IPY_MODEL_2a906ca8765c4d87b253a4a99dfc1120",
              "IPY_MODEL_eef05470611a49738b6b6e2bfa7f80b9"
            ],
            "layout": "IPY_MODEL_556350673406452285a8869db084e93a"
          }
        },
        "dec286dea39c4d42a4b6d77b3c29f6de": {
          "model_module": "@jupyter-widgets/controls",
          "model_name": "HTMLModel",
          "model_module_version": "1.5.0",
          "state": {
            "_dom_classes": [],
            "_model_module": "@jupyter-widgets/controls",
            "_model_module_version": "1.5.0",
            "_model_name": "HTMLModel",
            "_view_count": null,
            "_view_module": "@jupyter-widgets/controls",
            "_view_module_version": "1.5.0",
            "_view_name": "HTMLView",
            "description": "",
            "description_tooltip": null,
            "layout": "IPY_MODEL_a8275530f09446ddb85a7ad603df943b",
            "placeholder": "​",
            "style": "IPY_MODEL_408ea1af40a243f6846816261a3d8898",
            "value": "Generating test examples...:  99%"
          }
        },
        "2a906ca8765c4d87b253a4a99dfc1120": {
          "model_module": "@jupyter-widgets/controls",
          "model_name": "FloatProgressModel",
          "model_module_version": "1.5.0",
          "state": {
            "_dom_classes": [],
            "_model_module": "@jupyter-widgets/controls",
            "_model_module_version": "1.5.0",
            "_model_name": "FloatProgressModel",
            "_view_count": null,
            "_view_module": "@jupyter-widgets/controls",
            "_view_module_version": "1.5.0",
            "_view_name": "ProgressView",
            "bar_style": "",
            "description": "",
            "description_tooltip": null,
            "layout": "IPY_MODEL_cc271e7c40f54e1c9873bead786d17b7",
            "max": 10000,
            "min": 0,
            "orientation": "horizontal",
            "style": "IPY_MODEL_a4024e3160a942a2849a00c2280174a7",
            "value": 10000
          }
        },
        "eef05470611a49738b6b6e2bfa7f80b9": {
          "model_module": "@jupyter-widgets/controls",
          "model_name": "HTMLModel",
          "model_module_version": "1.5.0",
          "state": {
            "_dom_classes": [],
            "_model_module": "@jupyter-widgets/controls",
            "_model_module_version": "1.5.0",
            "_model_name": "HTMLModel",
            "_view_count": null,
            "_view_module": "@jupyter-widgets/controls",
            "_view_module_version": "1.5.0",
            "_view_name": "HTMLView",
            "description": "",
            "description_tooltip": null,
            "layout": "IPY_MODEL_217fda9c7523400e8bf4b93331a44c1a",
            "placeholder": "​",
            "style": "IPY_MODEL_1a3dd755ee904068a8f56a72ccaca339",
            "value": " 9920/10000 [00:04&lt;00:00, 2307.65 examples/s]"
          }
        },
        "556350673406452285a8869db084e93a": {
          "model_module": "@jupyter-widgets/base",
          "model_name": "LayoutModel",
          "model_module_version": "1.2.0",
          "state": {
            "_model_module": "@jupyter-widgets/base",
            "_model_module_version": "1.2.0",
            "_model_name": "LayoutModel",
            "_view_count": null,
            "_view_module": "@jupyter-widgets/base",
            "_view_module_version": "1.2.0",
            "_view_name": "LayoutView",
            "align_content": null,
            "align_items": null,
            "align_self": null,
            "border": null,
            "bottom": null,
            "display": null,
            "flex": null,
            "flex_flow": null,
            "grid_area": null,
            "grid_auto_columns": null,
            "grid_auto_flow": null,
            "grid_auto_rows": null,
            "grid_column": null,
            "grid_gap": null,
            "grid_row": null,
            "grid_template_areas": null,
            "grid_template_columns": null,
            "grid_template_rows": null,
            "height": null,
            "justify_content": null,
            "justify_items": null,
            "left": null,
            "margin": null,
            "max_height": null,
            "max_width": null,
            "min_height": null,
            "min_width": null,
            "object_fit": null,
            "object_position": null,
            "order": null,
            "overflow": null,
            "overflow_x": null,
            "overflow_y": null,
            "padding": null,
            "right": null,
            "top": null,
            "visibility": "hidden",
            "width": null
          }
        },
        "a8275530f09446ddb85a7ad603df943b": {
          "model_module": "@jupyter-widgets/base",
          "model_name": "LayoutModel",
          "model_module_version": "1.2.0",
          "state": {
            "_model_module": "@jupyter-widgets/base",
            "_model_module_version": "1.2.0",
            "_model_name": "LayoutModel",
            "_view_count": null,
            "_view_module": "@jupyter-widgets/base",
            "_view_module_version": "1.2.0",
            "_view_name": "LayoutView",
            "align_content": null,
            "align_items": null,
            "align_self": null,
            "border": null,
            "bottom": null,
            "display": null,
            "flex": null,
            "flex_flow": null,
            "grid_area": null,
            "grid_auto_columns": null,
            "grid_auto_flow": null,
            "grid_auto_rows": null,
            "grid_column": null,
            "grid_gap": null,
            "grid_row": null,
            "grid_template_areas": null,
            "grid_template_columns": null,
            "grid_template_rows": null,
            "height": null,
            "justify_content": null,
            "justify_items": null,
            "left": null,
            "margin": null,
            "max_height": null,
            "max_width": null,
            "min_height": null,
            "min_width": null,
            "object_fit": null,
            "object_position": null,
            "order": null,
            "overflow": null,
            "overflow_x": null,
            "overflow_y": null,
            "padding": null,
            "right": null,
            "top": null,
            "visibility": null,
            "width": null
          }
        },
        "408ea1af40a243f6846816261a3d8898": {
          "model_module": "@jupyter-widgets/controls",
          "model_name": "DescriptionStyleModel",
          "model_module_version": "1.5.0",
          "state": {
            "_model_module": "@jupyter-widgets/controls",
            "_model_module_version": "1.5.0",
            "_model_name": "DescriptionStyleModel",
            "_view_count": null,
            "_view_module": "@jupyter-widgets/base",
            "_view_module_version": "1.2.0",
            "_view_name": "StyleView",
            "description_width": ""
          }
        },
        "cc271e7c40f54e1c9873bead786d17b7": {
          "model_module": "@jupyter-widgets/base",
          "model_name": "LayoutModel",
          "model_module_version": "1.2.0",
          "state": {
            "_model_module": "@jupyter-widgets/base",
            "_model_module_version": "1.2.0",
            "_model_name": "LayoutModel",
            "_view_count": null,
            "_view_module": "@jupyter-widgets/base",
            "_view_module_version": "1.2.0",
            "_view_name": "LayoutView",
            "align_content": null,
            "align_items": null,
            "align_self": null,
            "border": null,
            "bottom": null,
            "display": null,
            "flex": null,
            "flex_flow": null,
            "grid_area": null,
            "grid_auto_columns": null,
            "grid_auto_flow": null,
            "grid_auto_rows": null,
            "grid_column": null,
            "grid_gap": null,
            "grid_row": null,
            "grid_template_areas": null,
            "grid_template_columns": null,
            "grid_template_rows": null,
            "height": null,
            "justify_content": null,
            "justify_items": null,
            "left": null,
            "margin": null,
            "max_height": null,
            "max_width": null,
            "min_height": null,
            "min_width": null,
            "object_fit": null,
            "object_position": null,
            "order": null,
            "overflow": null,
            "overflow_x": null,
            "overflow_y": null,
            "padding": null,
            "right": null,
            "top": null,
            "visibility": null,
            "width": null
          }
        },
        "a4024e3160a942a2849a00c2280174a7": {
          "model_module": "@jupyter-widgets/controls",
          "model_name": "ProgressStyleModel",
          "model_module_version": "1.5.0",
          "state": {
            "_model_module": "@jupyter-widgets/controls",
            "_model_module_version": "1.5.0",
            "_model_name": "ProgressStyleModel",
            "_view_count": null,
            "_view_module": "@jupyter-widgets/base",
            "_view_module_version": "1.2.0",
            "_view_name": "StyleView",
            "bar_color": null,
            "description_width": ""
          }
        },
        "217fda9c7523400e8bf4b93331a44c1a": {
          "model_module": "@jupyter-widgets/base",
          "model_name": "LayoutModel",
          "model_module_version": "1.2.0",
          "state": {
            "_model_module": "@jupyter-widgets/base",
            "_model_module_version": "1.2.0",
            "_model_name": "LayoutModel",
            "_view_count": null,
            "_view_module": "@jupyter-widgets/base",
            "_view_module_version": "1.2.0",
            "_view_name": "LayoutView",
            "align_content": null,
            "align_items": null,
            "align_self": null,
            "border": null,
            "bottom": null,
            "display": null,
            "flex": null,
            "flex_flow": null,
            "grid_area": null,
            "grid_auto_columns": null,
            "grid_auto_flow": null,
            "grid_auto_rows": null,
            "grid_column": null,
            "grid_gap": null,
            "grid_row": null,
            "grid_template_areas": null,
            "grid_template_columns": null,
            "grid_template_rows": null,
            "height": null,
            "justify_content": null,
            "justify_items": null,
            "left": null,
            "margin": null,
            "max_height": null,
            "max_width": null,
            "min_height": null,
            "min_width": null,
            "object_fit": null,
            "object_position": null,
            "order": null,
            "overflow": null,
            "overflow_x": null,
            "overflow_y": null,
            "padding": null,
            "right": null,
            "top": null,
            "visibility": null,
            "width": null
          }
        },
        "1a3dd755ee904068a8f56a72ccaca339": {
          "model_module": "@jupyter-widgets/controls",
          "model_name": "DescriptionStyleModel",
          "model_module_version": "1.5.0",
          "state": {
            "_model_module": "@jupyter-widgets/controls",
            "_model_module_version": "1.5.0",
            "_model_name": "DescriptionStyleModel",
            "_view_count": null,
            "_view_module": "@jupyter-widgets/base",
            "_view_module_version": "1.2.0",
            "_view_name": "StyleView",
            "description_width": ""
          }
        },
        "790a3932ab27420991d6a62e52e980c3": {
          "model_module": "@jupyter-widgets/controls",
          "model_name": "HBoxModel",
          "model_module_version": "1.5.0",
          "state": {
            "_dom_classes": [],
            "_model_module": "@jupyter-widgets/controls",
            "_model_module_version": "1.5.0",
            "_model_name": "HBoxModel",
            "_view_count": null,
            "_view_module": "@jupyter-widgets/controls",
            "_view_module_version": "1.5.0",
            "_view_name": "HBoxView",
            "box_style": "",
            "children": [
              "IPY_MODEL_ca55aba6e57e4b2d9067e6358d62a637",
              "IPY_MODEL_818bfc4edaf94eeab228dcebc07d6542",
              "IPY_MODEL_842944069e234f7fb78b6cc328b6c89e"
            ],
            "layout": "IPY_MODEL_0c585bd81b1c41f99ced9d32ab867cc1"
          }
        },
        "ca55aba6e57e4b2d9067e6358d62a637": {
          "model_module": "@jupyter-widgets/controls",
          "model_name": "HTMLModel",
          "model_module_version": "1.5.0",
          "state": {
            "_dom_classes": [],
            "_model_module": "@jupyter-widgets/controls",
            "_model_module_version": "1.5.0",
            "_model_name": "HTMLModel",
            "_view_count": null,
            "_view_module": "@jupyter-widgets/controls",
            "_view_module_version": "1.5.0",
            "_view_name": "HTMLView",
            "description": "",
            "description_tooltip": null,
            "layout": "IPY_MODEL_b84c57a0982845eb9f5c7e4ac3ba1643",
            "placeholder": "​",
            "style": "IPY_MODEL_2536d520863441f9bc9b1fff1644cea0",
            "value": "Shuffling /root/tensorflow_datasets/fashion_mnist/3.0.1.incompleteBTRN3Z/fashion_mnist-test.tfrecord*...:   0%"
          }
        },
        "818bfc4edaf94eeab228dcebc07d6542": {
          "model_module": "@jupyter-widgets/controls",
          "model_name": "FloatProgressModel",
          "model_module_version": "1.5.0",
          "state": {
            "_dom_classes": [],
            "_model_module": "@jupyter-widgets/controls",
            "_model_module_version": "1.5.0",
            "_model_name": "FloatProgressModel",
            "_view_count": null,
            "_view_module": "@jupyter-widgets/controls",
            "_view_module_version": "1.5.0",
            "_view_name": "ProgressView",
            "bar_style": "",
            "description": "",
            "description_tooltip": null,
            "layout": "IPY_MODEL_3c3a508e2d3e4a67b7c68c8e62dc2e4a",
            "max": 10000,
            "min": 0,
            "orientation": "horizontal",
            "style": "IPY_MODEL_cc8cb2a1ba75449cb43960d719693f58",
            "value": 10000
          }
        },
        "842944069e234f7fb78b6cc328b6c89e": {
          "model_module": "@jupyter-widgets/controls",
          "model_name": "HTMLModel",
          "model_module_version": "1.5.0",
          "state": {
            "_dom_classes": [],
            "_model_module": "@jupyter-widgets/controls",
            "_model_module_version": "1.5.0",
            "_model_name": "HTMLModel",
            "_view_count": null,
            "_view_module": "@jupyter-widgets/controls",
            "_view_module_version": "1.5.0",
            "_view_name": "HTMLView",
            "description": "",
            "description_tooltip": null,
            "layout": "IPY_MODEL_a18fe0312d2f4991b1dd3737606dcd99",
            "placeholder": "​",
            "style": "IPY_MODEL_0a0014ee6fc349c3a5254a841d08bf35",
            "value": " 0/10000 [00:00&lt;?, ? examples/s]"
          }
        },
        "0c585bd81b1c41f99ced9d32ab867cc1": {
          "model_module": "@jupyter-widgets/base",
          "model_name": "LayoutModel",
          "model_module_version": "1.2.0",
          "state": {
            "_model_module": "@jupyter-widgets/base",
            "_model_module_version": "1.2.0",
            "_model_name": "LayoutModel",
            "_view_count": null,
            "_view_module": "@jupyter-widgets/base",
            "_view_module_version": "1.2.0",
            "_view_name": "LayoutView",
            "align_content": null,
            "align_items": null,
            "align_self": null,
            "border": null,
            "bottom": null,
            "display": null,
            "flex": null,
            "flex_flow": null,
            "grid_area": null,
            "grid_auto_columns": null,
            "grid_auto_flow": null,
            "grid_auto_rows": null,
            "grid_column": null,
            "grid_gap": null,
            "grid_row": null,
            "grid_template_areas": null,
            "grid_template_columns": null,
            "grid_template_rows": null,
            "height": null,
            "justify_content": null,
            "justify_items": null,
            "left": null,
            "margin": null,
            "max_height": null,
            "max_width": null,
            "min_height": null,
            "min_width": null,
            "object_fit": null,
            "object_position": null,
            "order": null,
            "overflow": null,
            "overflow_x": null,
            "overflow_y": null,
            "padding": null,
            "right": null,
            "top": null,
            "visibility": "hidden",
            "width": null
          }
        },
        "b84c57a0982845eb9f5c7e4ac3ba1643": {
          "model_module": "@jupyter-widgets/base",
          "model_name": "LayoutModel",
          "model_module_version": "1.2.0",
          "state": {
            "_model_module": "@jupyter-widgets/base",
            "_model_module_version": "1.2.0",
            "_model_name": "LayoutModel",
            "_view_count": null,
            "_view_module": "@jupyter-widgets/base",
            "_view_module_version": "1.2.0",
            "_view_name": "LayoutView",
            "align_content": null,
            "align_items": null,
            "align_self": null,
            "border": null,
            "bottom": null,
            "display": null,
            "flex": null,
            "flex_flow": null,
            "grid_area": null,
            "grid_auto_columns": null,
            "grid_auto_flow": null,
            "grid_auto_rows": null,
            "grid_column": null,
            "grid_gap": null,
            "grid_row": null,
            "grid_template_areas": null,
            "grid_template_columns": null,
            "grid_template_rows": null,
            "height": null,
            "justify_content": null,
            "justify_items": null,
            "left": null,
            "margin": null,
            "max_height": null,
            "max_width": null,
            "min_height": null,
            "min_width": null,
            "object_fit": null,
            "object_position": null,
            "order": null,
            "overflow": null,
            "overflow_x": null,
            "overflow_y": null,
            "padding": null,
            "right": null,
            "top": null,
            "visibility": null,
            "width": null
          }
        },
        "2536d520863441f9bc9b1fff1644cea0": {
          "model_module": "@jupyter-widgets/controls",
          "model_name": "DescriptionStyleModel",
          "model_module_version": "1.5.0",
          "state": {
            "_model_module": "@jupyter-widgets/controls",
            "_model_module_version": "1.5.0",
            "_model_name": "DescriptionStyleModel",
            "_view_count": null,
            "_view_module": "@jupyter-widgets/base",
            "_view_module_version": "1.2.0",
            "_view_name": "StyleView",
            "description_width": ""
          }
        },
        "3c3a508e2d3e4a67b7c68c8e62dc2e4a": {
          "model_module": "@jupyter-widgets/base",
          "model_name": "LayoutModel",
          "model_module_version": "1.2.0",
          "state": {
            "_model_module": "@jupyter-widgets/base",
            "_model_module_version": "1.2.0",
            "_model_name": "LayoutModel",
            "_view_count": null,
            "_view_module": "@jupyter-widgets/base",
            "_view_module_version": "1.2.0",
            "_view_name": "LayoutView",
            "align_content": null,
            "align_items": null,
            "align_self": null,
            "border": null,
            "bottom": null,
            "display": null,
            "flex": null,
            "flex_flow": null,
            "grid_area": null,
            "grid_auto_columns": null,
            "grid_auto_flow": null,
            "grid_auto_rows": null,
            "grid_column": null,
            "grid_gap": null,
            "grid_row": null,
            "grid_template_areas": null,
            "grid_template_columns": null,
            "grid_template_rows": null,
            "height": null,
            "justify_content": null,
            "justify_items": null,
            "left": null,
            "margin": null,
            "max_height": null,
            "max_width": null,
            "min_height": null,
            "min_width": null,
            "object_fit": null,
            "object_position": null,
            "order": null,
            "overflow": null,
            "overflow_x": null,
            "overflow_y": null,
            "padding": null,
            "right": null,
            "top": null,
            "visibility": null,
            "width": null
          }
        },
        "cc8cb2a1ba75449cb43960d719693f58": {
          "model_module": "@jupyter-widgets/controls",
          "model_name": "ProgressStyleModel",
          "model_module_version": "1.5.0",
          "state": {
            "_model_module": "@jupyter-widgets/controls",
            "_model_module_version": "1.5.0",
            "_model_name": "ProgressStyleModel",
            "_view_count": null,
            "_view_module": "@jupyter-widgets/base",
            "_view_module_version": "1.2.0",
            "_view_name": "StyleView",
            "bar_color": null,
            "description_width": ""
          }
        },
        "a18fe0312d2f4991b1dd3737606dcd99": {
          "model_module": "@jupyter-widgets/base",
          "model_name": "LayoutModel",
          "model_module_version": "1.2.0",
          "state": {
            "_model_module": "@jupyter-widgets/base",
            "_model_module_version": "1.2.0",
            "_model_name": "LayoutModel",
            "_view_count": null,
            "_view_module": "@jupyter-widgets/base",
            "_view_module_version": "1.2.0",
            "_view_name": "LayoutView",
            "align_content": null,
            "align_items": null,
            "align_self": null,
            "border": null,
            "bottom": null,
            "display": null,
            "flex": null,
            "flex_flow": null,
            "grid_area": null,
            "grid_auto_columns": null,
            "grid_auto_flow": null,
            "grid_auto_rows": null,
            "grid_column": null,
            "grid_gap": null,
            "grid_row": null,
            "grid_template_areas": null,
            "grid_template_columns": null,
            "grid_template_rows": null,
            "height": null,
            "justify_content": null,
            "justify_items": null,
            "left": null,
            "margin": null,
            "max_height": null,
            "max_width": null,
            "min_height": null,
            "min_width": null,
            "object_fit": null,
            "object_position": null,
            "order": null,
            "overflow": null,
            "overflow_x": null,
            "overflow_y": null,
            "padding": null,
            "right": null,
            "top": null,
            "visibility": null,
            "width": null
          }
        },
        "0a0014ee6fc349c3a5254a841d08bf35": {
          "model_module": "@jupyter-widgets/controls",
          "model_name": "DescriptionStyleModel",
          "model_module_version": "1.5.0",
          "state": {
            "_model_module": "@jupyter-widgets/controls",
            "_model_module_version": "1.5.0",
            "_model_name": "DescriptionStyleModel",
            "_view_count": null,
            "_view_module": "@jupyter-widgets/base",
            "_view_module_version": "1.2.0",
            "_view_name": "StyleView",
            "description_width": ""
          }
        }
      }
    }
  },
  "cells": [
    {
      "cell_type": "code",
      "source": [
        "import tensorflow as tf\n",
        "gpus = tf.config.experimental.list_physical_devices('GPU')\n",
        "for gpu in gpus:\n",
        "    tf.config.experimental.set_memory_growth(gpu, True)\n"
      ],
      "metadata": {
        "id": "8cHZVzbphNv4"
      },
      "execution_count": null,
      "outputs": []
    },
    {
      "cell_type": "code",
      "source": [
        "# Brining in tensorflow datasets for fashion mnist\n",
        "import tensorflow_datasets as tfds\n",
        "# Bringing in matplotlib for viz stuff\n",
        "from matplotlib import pyplot as plt"
      ],
      "metadata": {
        "id": "z0C3cUDdVPSq"
      },
      "execution_count": null,
      "outputs": []
    },
    {
      "cell_type": "code",
      "source": [
        "# Use the tensorflow datasets api to bring in the data source\n",
        "ds = tfds.load('fashion_mnist', split='train')"
      ],
      "metadata": {
        "colab": {
          "base_uri": "https://localhost:8080/",
          "height": 148,
          "referenced_widgets": [
            "d023f74f05014103abd089bae2b2d467",
            "9a3d2048e881496c8eb5d4c653d6f782",
            "f55fe2ab5c1e490491f4f48dcf1e84ba",
            "14d0fbe45c994a95b5297f5fa92a0565",
            "e2e69cc07e2449328215dddfe850586b",
            "aade72c9e8c14f5196ba1ced8bd75103",
            "3adda604358c407dab4e82395e4b00ba",
            "b459e6bd6ac8448a9785ed7431a3ca66",
            "a6a0cf9fb76e417bb5e952ebf11f77ec",
            "37150eb32cb14ca98fc114cc6c0782b3",
            "c6c5bb8789fd4879ab499141f6fbe149",
            "aabea7fbe3724c9c873d96151ed226e5",
            "1d62f7c798564963b05146f56777993f",
            "2eced9f37c73436b8903bba2e0abd65a",
            "f421c98c58b64ac39ad99f4e94034545",
            "4a042fe4dc84436e8cc640d1fd31a4c2",
            "68b8b346ca5e4281923e515afd0772b9",
            "2f3a8ba2b7664bec87524acdfcbdad6d",
            "acdd1bed06bb477a8bcf8aff9f60aefe",
            "e10b3cbd4ea74fb5b3dfcc23b556b62c",
            "008eaaacc9ed40bb862db936e355c3c5",
            "10ef64fe1fae43d490de2d466d78e143",
            "10e033ba4f3e47b68a9065ce0039b1e1",
            "1f8b2887a4dd47ed817fab89e6bc6547",
            "31602ec40da44a7ca9c6dc212f64b362",
            "305e25e2fe7d45438998514e468121c6",
            "31a09dbc700f4f509f4ecff318d3c47d",
            "3a24db6256f947a09bbc9a441edcfa37",
            "b8a714947a344eea9b2c6c59986f54c4",
            "c1a4f641b5294fbfa994082306453d77",
            "17558b4252a245c588fbd620a738b16c",
            "69fcc201a03a419b83c08efb276d6de1",
            "09ceba7448794489bdd0bebf920b3bb9",
            "04bb1f50ce2149b18685ca4860d14702",
            "718bcfac47884f55895d950b682ab516",
            "f1faab6a9fa8417086865e98a3a57904",
            "556eee68f92e43008317d05e995d8a86",
            "f1fc20a3551c489fab02fa6205ad2252",
            "60a87c00c32c456fa57156eb630b4032",
            "c68d3e4c99de4434a79a4857ad4a937d",
            "d6d1942233084e388f2c2c40e56246a0",
            "211707df24f149848e29e4355b769bca",
            "f02f9d6b487a41ef9a59714cccd41e66",
            "f428bf4f2bfc49c0953e857c27715769",
            "c7790a2d32e049b394ddb9f73e5bdc4b",
            "6a043d0a3a93449c94e1f96733e7446a",
            "578544dabd1e4731949982e22002b0c9",
            "71494c0c6f704847bcb11c88a8e22527",
            "4dcd9e5ff2ef471d86d294452a8aa5a2",
            "2a8e781a6e624876a4c36117855c72e9",
            "51bd0581a04648b6ac0c53f86934e38b",
            "6f486ccc4b624909914c2ea94b67be6e",
            "2331d8bb09994d048c465f21443031ae",
            "ff7f92c2c8ab4979ad613cd7856d24d5",
            "144bc7711b0d495887004fede5f57c1d",
            "206c0686927e4e8286be3a16365e51e0",
            "2878fe1290d84295915673d306531675",
            "7eb374a620124a6e8bebcfd3ccbd827b",
            "35e1aaefb21e4126b8c9077cf1c7a85b",
            "9f672c9947594b1e8c13216e10360038",
            "fcfeaf3055bb478387e2087b0c3fcdde",
            "d1a66f41e51d44e08ded17c911cd4764",
            "941a5d08e7a64682bf41238c39a83007",
            "31915f85d702435a84105e9ab99b797c",
            "c79ae61ab0454465b2a471fb68d0a62a",
            "a31ad7b8fec04a6e91ccbc363df592e5",
            "f11759324f2f4eadaa4fb487562a1152",
            "dec286dea39c4d42a4b6d77b3c29f6de",
            "2a906ca8765c4d87b253a4a99dfc1120",
            "eef05470611a49738b6b6e2bfa7f80b9",
            "556350673406452285a8869db084e93a",
            "a8275530f09446ddb85a7ad603df943b",
            "408ea1af40a243f6846816261a3d8898",
            "cc271e7c40f54e1c9873bead786d17b7",
            "a4024e3160a942a2849a00c2280174a7",
            "217fda9c7523400e8bf4b93331a44c1a",
            "1a3dd755ee904068a8f56a72ccaca339",
            "790a3932ab27420991d6a62e52e980c3",
            "ca55aba6e57e4b2d9067e6358d62a637",
            "818bfc4edaf94eeab228dcebc07d6542",
            "842944069e234f7fb78b6cc328b6c89e",
            "0c585bd81b1c41f99ced9d32ab867cc1",
            "b84c57a0982845eb9f5c7e4ac3ba1643",
            "2536d520863441f9bc9b1fff1644cea0",
            "3c3a508e2d3e4a67b7c68c8e62dc2e4a",
            "cc8cb2a1ba75449cb43960d719693f58",
            "a18fe0312d2f4991b1dd3737606dcd99",
            "0a0014ee6fc349c3a5254a841d08bf35"
          ]
        },
        "id": "lY43hQlGVXYL",
        "outputId": "cfcb8327-239f-4ec2-d976-622772963dfe"
      },
      "execution_count": null,
      "outputs": [
        {
          "output_type": "stream",
          "name": "stdout",
          "text": [
            "Downloading and preparing dataset 29.45 MiB (download: 29.45 MiB, generated: 36.42 MiB, total: 65.87 MiB) to /root/tensorflow_datasets/fashion_mnist/3.0.1...\n"
          ]
        },
        {
          "output_type": "display_data",
          "data": {
            "text/plain": [
              "Dl Completed...: 0 url [00:00, ? url/s]"
            ],
            "application/vnd.jupyter.widget-view+json": {
              "version_major": 2,
              "version_minor": 0,
              "model_id": "d023f74f05014103abd089bae2b2d467"
            }
          },
          "metadata": {}
        },
        {
          "output_type": "display_data",
          "data": {
            "text/plain": [
              "Dl Size...: 0 MiB [00:00, ? MiB/s]"
            ],
            "application/vnd.jupyter.widget-view+json": {
              "version_major": 2,
              "version_minor": 0,
              "model_id": "aabea7fbe3724c9c873d96151ed226e5"
            }
          },
          "metadata": {}
        },
        {
          "output_type": "display_data",
          "data": {
            "text/plain": [
              "Extraction completed...: 0 file [00:00, ? file/s]"
            ],
            "application/vnd.jupyter.widget-view+json": {
              "version_major": 2,
              "version_minor": 0,
              "model_id": "10e033ba4f3e47b68a9065ce0039b1e1"
            }
          },
          "metadata": {}
        },
        {
          "output_type": "display_data",
          "data": {
            "text/plain": [
              "Generating splits...:   0%|          | 0/2 [00:00<?, ? splits/s]"
            ],
            "application/vnd.jupyter.widget-view+json": {
              "version_major": 2,
              "version_minor": 0,
              "model_id": "04bb1f50ce2149b18685ca4860d14702"
            }
          },
          "metadata": {}
        },
        {
          "output_type": "display_data",
          "data": {
            "text/plain": [
              "Generating train examples...:   0%|          | 0/60000 [00:00<?, ? examples/s]"
            ],
            "application/vnd.jupyter.widget-view+json": {
              "version_major": 2,
              "version_minor": 0,
              "model_id": "c7790a2d32e049b394ddb9f73e5bdc4b"
            }
          },
          "metadata": {}
        },
        {
          "output_type": "display_data",
          "data": {
            "text/plain": [
              "Shuffling /root/tensorflow_datasets/fashion_mnist/3.0.1.incompleteBTRN3Z/fashion_mnist-train.tfrecord*...:   0…"
            ],
            "application/vnd.jupyter.widget-view+json": {
              "version_major": 2,
              "version_minor": 0,
              "model_id": "206c0686927e4e8286be3a16365e51e0"
            }
          },
          "metadata": {}
        },
        {
          "output_type": "display_data",
          "data": {
            "text/plain": [
              "Generating test examples...:   0%|          | 0/10000 [00:00<?, ? examples/s]"
            ],
            "application/vnd.jupyter.widget-view+json": {
              "version_major": 2,
              "version_minor": 0,
              "model_id": "f11759324f2f4eadaa4fb487562a1152"
            }
          },
          "metadata": {}
        },
        {
          "output_type": "display_data",
          "data": {
            "text/plain": [
              "Shuffling /root/tensorflow_datasets/fashion_mnist/3.0.1.incompleteBTRN3Z/fashion_mnist-test.tfrecord*...:   0%…"
            ],
            "application/vnd.jupyter.widget-view+json": {
              "version_major": 2,
              "version_minor": 0,
              "model_id": "790a3932ab27420991d6a62e52e980c3"
            }
          },
          "metadata": {}
        },
        {
          "output_type": "stream",
          "name": "stdout",
          "text": [
            "Dataset fashion_mnist downloaded and prepared to /root/tensorflow_datasets/fashion_mnist/3.0.1. Subsequent calls will reuse this data.\n"
          ]
        }
      ]
    },
    {
      "cell_type": "code",
      "source": [
        "ds.as_numpy_iterator().next()['label']"
      ],
      "metadata": {
        "colab": {
          "base_uri": "https://localhost:8080/"
        },
        "id": "xj2p1-NrVlrE",
        "outputId": "a6e79c75-2a4b-4dd5-afb7-fe90de79be75"
      },
      "execution_count": null,
      "outputs": [
        {
          "output_type": "execute_result",
          "data": {
            "text/plain": [
              "2"
            ]
          },
          "metadata": {},
          "execution_count": 4
        }
      ]
    },
    {
      "cell_type": "markdown",
      "source": [
        "#2. Viz Data and Build Dataset"
      ],
      "metadata": {
        "id": "5Ny2GBCWV0x8"
      }
    },
    {
      "cell_type": "code",
      "source": [
        "# Do some data transformation\n",
        "import numpy as np"
      ],
      "metadata": {
        "id": "XPuA1zkIVxcC"
      },
      "execution_count": null,
      "outputs": []
    },
    {
      "cell_type": "code",
      "source": [
        "# Setup connection aka iterator\n",
        "dataiterator = ds.as_numpy_iterator()"
      ],
      "metadata": {
        "id": "Y1JI4sziWMNX"
      },
      "execution_count": null,
      "outputs": []
    },
    {
      "cell_type": "code",
      "source": [
        "# Getting data out of the pipeline\n",
        "dataiterator.next()['image']"
      ],
      "metadata": {
        "id": "1JGjX64XWMrD"
      },
      "execution_count": null,
      "outputs": []
    },
    {
      "cell_type": "code",
      "source": [
        "# Setup the subplot formatting\n",
        "fig, ax = plt.subplots(ncols=4, figsize=(20,20))\n",
        "# Loop four times and get images\n",
        "for idx in range(4):\n",
        "    # Grab an image and label\n",
        "    sample = dataiterator.next()\n",
        "    # Plot the image using a specific subplot\n",
        "    ax[idx].imshow(np.squeeze(sample['image']))\n",
        "    # Appending the image label as the plot title\n",
        "    ax[idx].title.set_text(sample['label'])"
      ],
      "metadata": {
        "colab": {
          "base_uri": "https://localhost:8080/"
        },
        "id": "YvROsifyWlkT",
        "outputId": "ee0bfb83-7daf-4430-f2d0-3e7da26f2440"
      },
      "execution_count": null,
      "outputs": [
        {
          "output_type": "display_data",
          "data": {
            "text/plain": [
              "<Figure size 2000x2000 with 4 Axes>"
            ],
            "image/png": "[encoded data removed]"
          },
          "metadata": {}
        }
      ]
    },
    {
      "cell_type": "code",
      "source": [
        "# Scale and return images only\n",
        "def scale_images(data):\n",
        "    image = data['image']\n",
        "    return image / 255"
      ],
      "metadata": {
        "id": "J4JPwB8VWl5n"
      },
      "execution_count": null,
      "outputs": []
    },
    {
      "cell_type": "code",
      "source": [
        "# Reload the dataset\n",
        "ds = tfds.load('fashion_mnist', split='train')\n",
        "# Running the dataset through the scale_images preprocessing step\n",
        "ds = ds.map(scale_images)\n",
        "# Cache the dataset for that batch\n",
        "ds = ds.cache()\n",
        "# Shuffle it up\n",
        "ds = ds.shuffle(60000)\n",
        "# Batch into 128 images per sample\n",
        "ds = ds.batch(128)\n",
        "# Reduces the likelihood of bottlenecking\n",
        "ds = ds.prefetch(64)"
      ],
      "metadata": {
        "id": "8FhQm2DTWmJf"
      },
      "execution_count": null,
      "outputs": []
    },
    {
      "cell_type": "code",
      "source": [
        "ds.as_numpy_iterator().next().shape"
      ],
      "metadata": {
        "colab": {
          "base_uri": "https://localhost:8080/"
        },
        "id": "QXGx-mbGXJoq",
        "outputId": "e4062a81-61a2-4356-a45c-f364c5821ced"
      },
      "execution_count": null,
      "outputs": [
        {
          "output_type": "execute_result",
          "data": {
            "text/plain": [
              "(128, 28, 28, 1)"
            ]
          },
          "metadata": {},
          "execution_count": 11
        }
      ]
    },
    {
      "cell_type": "markdown",
      "source": [
        "#3. Build Neural Network"
      ],
      "metadata": {
        "id": "XMJMN5tFXSdM"
      }
    },
    {
      "cell_type": "markdown",
      "source": [
        "3.1 Import Modelling Components"
      ],
      "metadata": {
        "id": "Az8JyWbvXiBE"
      }
    },
    {
      "cell_type": "code",
      "source": [
        "# Bring in the sequential api for the generator and discriminator\n",
        "from tensorflow.keras.models import Sequential\n",
        "# Bring in the layers for the neural network\n",
        "from tensorflow.keras.layers import Conv2D, Dense, Flatten, Reshape, LeakyReLU, Dropout, UpSampling2D"
      ],
      "metadata": {
        "id": "i3p_NFLiXTsX"
      },
      "execution_count": null,
      "outputs": []
    },
    {
      "cell_type": "markdown",
      "source": [
        "3.2 Build Generator"
      ],
      "metadata": {
        "id": "uoPfqJ58Xr3b"
      }
    },
    {
      "cell_type": "code",
      "source": [
        "def build_generator():\n",
        "    model = Sequential()\n",
        "\n",
        "    # Takes in random values and reshapes it to 7x7x128\n",
        "    # Beginnings of a generated image\n",
        "    model.add(Dense(7*7*128, input_dim=128))\n",
        "    model.add(LeakyReLU(0.2))\n",
        "    model.add(Reshape((7,7,128)))\n",
        "\n",
        "    # Upsampling block 1\n",
        "    model.add(UpSampling2D())\n",
        "    model.add(Conv2D(128, 5, padding='same'))\n",
        "    model.add(LeakyReLU(0.2))\n",
        "\n",
        "    # Upsampling block 2\n",
        "    model.add(UpSampling2D())\n",
        "    model.add(Conv2D(128, 5, padding='same'))\n",
        "    model.add(LeakyReLU(0.2))\n",
        "\n",
        "    # Convolutional block 1\n",
        "    model.add(Conv2D(128, 4, padding='same'))\n",
        "    model.add(LeakyReLU(0.2))\n",
        "\n",
        "    # Convolutional block 2\n",
        "    model.add(Conv2D(128, 4, padding='same'))\n",
        "    model.add(LeakyReLU(0.2))\n",
        "\n",
        "    # Conv layer to get to one channel\n",
        "    model.add(Conv2D(1, 4, padding='same', activation='sigmoid'))\n",
        "\n",
        "    return model"
      ],
      "metadata": {
        "id": "FvftvOKOXpVh"
      },
      "execution_count": null,
      "outputs": []
    },
    {
      "cell_type": "code",
      "source": [
        "generator = build_generator()"
      ],
      "metadata": {
        "id": "IrfP8rb2X20l"
      },
      "execution_count": null,
      "outputs": []
    },
    {
      "cell_type": "code",
      "source": [
        "generator.summary()"
      ],
      "metadata": {
        "colab": {
          "base_uri": "https://localhost:8080/"
        },
        "id": "ve_vZLGeX3MO",
        "outputId": "3e6cc626-2293-4af0-9caf-f7d7d7d84b7a"
      },
      "execution_count": null,
      "outputs": [
        {
          "output_type": "stream",
          "name": "stdout",
          "text": [
            "Model: \"sequential\"\n",
            "_________________________________________________________________\n",
            " Layer (type)                Output Shape              Param #   \n",
            "=================================================================\n",
            " dense (Dense)               (None, 6272)              809088    \n",
            "                                                                 \n",
            " leaky_re_lu (LeakyReLU)     (None, 6272)              0         \n",
            "                                                                 \n",
            " reshape (Reshape)           (None, 7, 7, 128)         0         \n",
            "                                                                 \n",
            " up_sampling2d (UpSampling2D  (None, 14, 14, 128)      0         \n",
            " )                                                               \n",
            "                                                                 \n",
            " conv2d (Conv2D)             (None, 14, 14, 128)       409728    \n",
            "                                                                 \n",
            " leaky_re_lu_1 (LeakyReLU)   (None, 14, 14, 128)       0         \n",
            "                                                                 \n",
            " up_sampling2d_1 (UpSampling  (None, 28, 28, 128)      0         \n",
            " 2D)                                                             \n",
            "                                                                 \n",
            " conv2d_1 (Conv2D)           (None, 28, 28, 128)       409728    \n",
            "                                                                 \n",
            " leaky_re_lu_2 (LeakyReLU)   (None, 28, 28, 128)       0         \n",
            "                                                                 \n",
            " conv2d_2 (Conv2D)           (None, 28, 28, 128)       262272    \n",
            "                                                                 \n",
            " leaky_re_lu_3 (LeakyReLU)   (None, 28, 28, 128)       0         \n",
            "                                                                 \n",
            " conv2d_3 (Conv2D)           (None, 28, 28, 128)       262272    \n",
            "                                                                 \n",
            " leaky_re_lu_4 (LeakyReLU)   (None, 28, 28, 128)       0         \n",
            "                                                                 \n",
            " conv2d_4 (Conv2D)           (None, 28, 28, 1)         2049      \n",
            "                                                                 \n",
            "=================================================================\n",
            "Total params: 2,155,137\n",
            "Trainable params: 2,155,137\n",
            "Non-trainable params: 0\n",
            "_________________________________________________________________\n"
          ]
        }
      ]
    },
    {
      "cell_type": "code",
      "source": [
        "img = generator.predict(np.random.randn(4,128,1))"
      ],
      "metadata": {
        "colab": {
          "base_uri": "https://localhost:8080/"
        },
        "id": "eV9Lf6e2X3Dx",
        "outputId": "87dd9c92-037f-448c-81f4-2b4badc12a79"
      },
      "execution_count": null,
      "outputs": [
        {
          "output_type": "stream",
          "name": "stdout",
          "text": [
            "1/1 [==============================] - 0s 151ms/step\n"
          ]
        }
      ]
    },
    {
      "cell_type": "code",
      "source": [
        "img.shape"
      ],
      "metadata": {
        "colab": {
          "base_uri": "https://localhost:8080/"
        },
        "id": "wgw6TIMvlUrZ",
        "outputId": "e7f88dca-b28c-4138-9645-12b5c74772be"
      },
      "execution_count": null,
      "outputs": [
        {
          "output_type": "execute_result",
          "data": {
            "text/plain": [
              "(4, 28, 28, 1)"
            ]
          },
          "metadata": {},
          "execution_count": 27
        }
      ]
    },
    {
      "cell_type": "code",
      "source": [
        "# Generate new fashion\n",
        "img = generator.predict(np.random.randn(4,128,1))\n",
        "# Setup the subplot formatting\n",
        "fig, ax = plt.subplots(ncols=4, figsize=(20,20))\n",
        "# Loop four times and get images\n",
        "for idx, img in enumerate(img):\n",
        "    # Plot the image using a specific subplot\n",
        "    ax[idx].imshow(np.squeeze(img))\n",
        "    # Appending the image label as the plot title\n",
        "    ax[idx].title.set_text(idx)"
      ],
      "metadata": {
        "colab": {
          "base_uri": "https://localhost:8080/",
          "height": 391
        },
        "id": "mb9dyAjeYAxk",
        "outputId": "0d79da00-f4f1-43d0-db1a-d6c3feb52877"
      },
      "execution_count": null,
      "outputs": [
        {
          "output_type": "stream",
          "name": "stdout",
          "text": [
            "1/1 [==============================] - 0s 143ms/step\n"
          ]
        },
        {
          "output_type": "display_data",
          "data": {
            "text/plain": [
              "<Figure size 2000x2000 with 4 Axes>"
            ],
            "image/png": "[encoded data removed]"
          },
          "metadata": {}
        }
      ]
    },
    {
      "cell_type": "markdown",
      "source": [
        "3.3 Build Discriminator"
      ],
      "metadata": {
        "id": "9z1yDbfJYISm"
      }
    },
    {
      "cell_type": "code",
      "source": [
        "def build_discriminator():\n",
        "    model = Sequential()\n",
        "\n",
        "    # First Conv Block\n",
        "    model.add(Conv2D(32, 5, input_shape = (28,28,1)))\n",
        "    model.add(LeakyReLU(0.2))\n",
        "    model.add(Dropout(0.4))\n",
        "\n",
        "    # Second Conv Block\n",
        "    model.add(Conv2D(64, 5))\n",
        "    model.add(LeakyReLU(0.2))\n",
        "    model.add(Dropout(0.4))\n",
        "\n",
        "    # Third Conv Block\n",
        "    model.add(Conv2D(128, 5))\n",
        "    model.add(LeakyReLU(0.2))\n",
        "    model.add(Dropout(0.4))\n",
        "\n",
        "    # Fourth Conv Block\n",
        "    model.add(Conv2D(256, 5))\n",
        "    model.add(LeakyReLU(0.2))\n",
        "    model.add(Dropout(0.4))\n",
        "\n",
        "    # Flatten then pass to dense layer\n",
        "    model.add(Flatten())\n",
        "    model.add(Dropout(0.4))\n",
        "    model.add(Dense(1, activation='sigmoid'))\n",
        "\n",
        "    return model"
      ],
      "metadata": {
        "id": "vuZpaGDtYAri"
      },
      "execution_count": null,
      "outputs": []
    },
    {
      "cell_type": "code",
      "source": [
        "discriminator = build_discriminator()"
      ],
      "metadata": {
        "id": "AtbsS45yYOfl"
      },
      "execution_count": null,
      "outputs": []
    },
    {
      "cell_type": "code",
      "source": [
        "discriminator.summary()"
      ],
      "metadata": {
        "colab": {
          "base_uri": "https://localhost:8080/"
        },
        "id": "AOLCmO6NYPqs",
        "outputId": "ffe64408-3e59-42ac-e81d-299bbea7b672"
      },
      "execution_count": null,
      "outputs": [
        {
          "output_type": "stream",
          "name": "stdout",
          "text": [
            "Model: \"sequential_1\"\n",
            "_________________________________________________________________\n",
            " Layer (type)                Output Shape              Param #   \n",
            "=================================================================\n",
            " conv2d_5 (Conv2D)           (None, 24, 24, 32)        832       \n",
            "                                                                 \n",
            " leaky_re_lu_5 (LeakyReLU)   (None, 24, 24, 32)        0         \n",
            "                                                                 \n",
            " dropout (Dropout)           (None, 24, 24, 32)        0         \n",
            "                                                                 \n",
            " conv2d_6 (Conv2D)           (None, 20, 20, 64)        51264     \n",
            "                                                                 \n",
            " leaky_re_lu_6 (LeakyReLU)   (None, 20, 20, 64)        0         \n",
            "                                                                 \n",
            " dropout_1 (Dropout)         (None, 20, 20, 64)        0         \n",
            "                                                                 \n",
            " conv2d_7 (Conv2D)           (None, 16, 16, 128)       204928    \n",
            "                                                                 \n",
            " leaky_re_lu_7 (LeakyReLU)   (None, 16, 16, 128)       0         \n",
            "                                                                 \n",
            " dropout_2 (Dropout)         (None, 16, 16, 128)       0         \n",
            "                                                                 \n",
            " conv2d_8 (Conv2D)           (None, 12, 12, 256)       819456    \n",
            "                                                                 \n",
            " leaky_re_lu_8 (LeakyReLU)   (None, 12, 12, 256)       0         \n",
            "                                                                 \n",
            " dropout_3 (Dropout)         (None, 12, 12, 256)       0         \n",
            "                                                                 \n",
            " flatten (Flatten)           (None, 36864)             0         \n",
            "                                                                 \n",
            " dropout_4 (Dropout)         (None, 36864)             0         \n",
            "                                                                 \n",
            " dense_1 (Dense)             (None, 1)                 36865     \n",
            "                                                                 \n",
            "=================================================================\n",
            "Total params: 1,113,345\n",
            "Trainable params: 1,113,345\n",
            "Non-trainable params: 0\n",
            "_________________________________________________________________\n"
          ]
        }
      ]
    },
    {
      "cell_type": "code",
      "source": [
        "img = img[0]"
      ],
      "metadata": {
        "id": "2KtFOjrNYTti"
      },
      "execution_count": null,
      "outputs": []
    },
    {
      "cell_type": "code",
      "source": [
        "img.shape"
      ],
      "metadata": {
        "colab": {
          "base_uri": "https://localhost:8080/"
        },
        "id": "zQg8o9R5YTWP",
        "outputId": "b7eb3bee-9ea1-4650-eccd-8db2077e20ca"
      },
      "execution_count": null,
      "outputs": [
        {
          "output_type": "execute_result",
          "data": {
            "text/plain": [
              "(28, 28, 1)"
            ]
          },
          "metadata": {},
          "execution_count": 30
        }
      ]
    },
    {
      "cell_type": "code",
      "source": [
        "discriminator.predict(np.expand_dims(img,0))"
      ],
      "metadata": {
        "colab": {
          "base_uri": "https://localhost:8080/"
        },
        "id": "x7z-oB7uYaAM",
        "outputId": "2d66e71a-31bf-4c39-f047-f3c0f00bfb8a"
      },
      "execution_count": null,
      "outputs": [
        {
          "output_type": "stream",
          "name": "stdout",
          "text": [
            "1/1 [==============================] - 0s 91ms/step\n"
          ]
        },
        {
          "output_type": "execute_result",
          "data": {
            "text/plain": [
              "array([[0.50222105]], dtype=float32)"
            ]
          },
          "metadata": {},
          "execution_count": 31
        }
      ]
    },
    {
      "cell_type": "markdown",
      "source": [
        "#4. Construct Training Loop"
      ],
      "metadata": {
        "id": "tPlFt-K2mFdh"
      }
    },
    {
      "cell_type": "markdown",
      "source": [
        "4.1 Setup Losses and Optimizers"
      ],
      "metadata": {
        "id": "MyLV5NQdmJP7"
      }
    },
    {
      "cell_type": "code",
      "source": [
        "# Adam is going to be the optimizer for both\n",
        "from tensorflow.keras.optimizers import Adam\n",
        "# Binary cross entropy is going to be the loss for both\n",
        "from tensorflow.keras.losses import BinaryCrossentropy"
      ],
      "metadata": {
        "id": "3OD721cslkT8"
      },
      "execution_count": null,
      "outputs": []
    },
    {
      "cell_type": "code",
      "source": [
        "g_opt = Adam(learning_rate=0.0001)\n",
        "d_opt = Adam(learning_rate=0.00001)\n",
        "g_loss = BinaryCrossentropy()\n",
        "d_loss = BinaryCrossentropy()"
      ],
      "metadata": {
        "id": "suu3gmkWmSHU"
      },
      "execution_count": null,
      "outputs": []
    },
    {
      "cell_type": "markdown",
      "source": [
        "4.2 Build Subclassed Model"
      ],
      "metadata": {
        "id": "t7F_MfY4mVQT"
      }
    },
    {
      "cell_type": "code",
      "source": [
        "# Importing the base model class to subclass our training step\n",
        "from tensorflow.keras.models import Model"
      ],
      "metadata": {
        "id": "Ky6kZmg6mV__"
      },
      "execution_count": null,
      "outputs": []
    },
    {
      "cell_type": "code",
      "source": [
        "class FashionGAN(Model):\n",
        "    def __init__(self, generator, discriminator, *args, **kwargs):\n",
        "        # Pass through args and kwargs to base class\n",
        "        super().__init__(*args, **kwargs)\n",
        "\n",
        "        # Create attributes for gen and disc\n",
        "        self.generator = generator\n",
        "        self.discriminator = discriminator\n",
        "\n",
        "    def compile(self, g_opt, d_opt, g_loss, d_loss, *args, **kwargs):\n",
        "        # Compile with base class\n",
        "        super().compile(*args, **kwargs)\n",
        "\n",
        "        # Create attributes for losses and optimizers\n",
        "        self.g_opt = g_opt\n",
        "        self.d_opt = d_opt\n",
        "        self.g_loss = g_loss\n",
        "        self.d_loss = d_loss\n",
        "\n",
        "    def train_step(self, batch):\n",
        "        # Get the data\n",
        "        real_images = batch\n",
        "        fake_images = self.generator(tf.random.normal((128, 128, 1)), training=False)\n",
        "\n",
        "        # Train the discriminator\n",
        "        with tf.GradientTape() as d_tape:\n",
        "            # Pass the real and fake images to the discriminator model\n",
        "            yhat_real = self.discriminator(real_images, training=True)\n",
        "            yhat_fake = self.discriminator(fake_images, training=True)\n",
        "            yhat_realfake = tf.concat([yhat_real, yhat_fake], axis=0)\n",
        "\n",
        "            # Create labels for real and fakes images\n",
        "            y_realfake = tf.concat([tf.zeros_like(yhat_real), tf.ones_like(yhat_fake)], axis=0)\n",
        "\n",
        "            # Add some noise to the TRUE outputs\n",
        "            noise_real = 0.15*tf.random.uniform(tf.shape(yhat_real))\n",
        "            noise_fake = -0.15*tf.random.uniform(tf.shape(yhat_fake))\n",
        "            y_realfake += tf.concat([noise_real, noise_fake], axis=0)\n",
        "\n",
        "            # Calculate loss - BINARYCROSS\n",
        "            total_d_loss = self.d_loss(y_realfake, yhat_realfake)\n",
        "\n",
        "        # Apply backpropagation - nn learn\n",
        "        dgrad = d_tape.gradient(total_d_loss, self.discriminator.trainable_variables)\n",
        "        self.d_opt.apply_gradients(zip(dgrad, self.discriminator.trainable_variables))\n",
        "\n",
        "        # Train the generator\n",
        "        with tf.GradientTape() as g_tape:\n",
        "            # Generate some new images\n",
        "            gen_images = self.generator(tf.random.normal((128,128,1)), training=True)\n",
        "\n",
        "            # Create the predicted labels\n",
        "            predicted_labels = self.discriminator(gen_images, training=False)\n",
        "\n",
        "            # Calculate loss - trick to training to fake out the discriminator\n",
        "            total_g_loss = self.g_loss(tf.zeros_like(predicted_labels), predicted_labels)\n",
        "\n",
        "        # Apply backprop\n",
        "        ggrad = g_tape.gradient(total_g_loss, self.generator.trainable_variables)\n",
        "        self.g_opt.apply_gradients(zip(ggrad, self.generator.trainable_variables))\n",
        "\n",
        "        return {\"d_loss\":total_d_loss, \"g_loss\":total_g_loss}"
      ],
      "metadata": {
        "id": "J3EyfehtmgyB"
      },
      "execution_count": null,
      "outputs": []
    },
    {
      "cell_type": "code",
      "source": [
        "# Create instance of subclassed model\n",
        "fashgan = FashionGAN(generator, discriminator)"
      ],
      "metadata": {
        "id": "NNb8hFrimk9a"
      },
      "execution_count": null,
      "outputs": []
    },
    {
      "cell_type": "code",
      "source": [
        "# Compile the model\n",
        "fashgan.compile(g_opt, d_opt, g_loss, d_loss)"
      ],
      "metadata": {
        "id": "Mg1tWNppmntv"
      },
      "execution_count": null,
      "outputs": []
    },
    {
      "cell_type": "markdown",
      "source": [
        "4.3 Build Callback"
      ],
      "metadata": {
        "id": "wpADQLvgz412"
      }
    },
    {
      "cell_type": "code",
      "source": [
        "import os\n",
        "from tensorflow.keras.preprocessing.image import array_to_img\n",
        "from tensorflow.keras.callbacks import Callback"
      ],
      "metadata": {
        "id": "gvXBjjJ8z5Z4"
      },
      "execution_count": null,
      "outputs": []
    },
    {
      "cell_type": "code",
      "source": [
        "class ModelMonitor(Callback):\n",
        "    def __init__(self, num_img=3, latent_dim=128):\n",
        "        self.num_img = num_img\n",
        "        self.latent_dim = latent_dim\n",
        "\n",
        "    def on_epoch_end(self, epoch, logs=None):\n",
        "        random_latent_vectors = tf.random.uniform((self.num_img, self.latent_dim,1))\n",
        "        generated_images = self.model.generator(random_latent_vectors)\n",
        "        generated_images *= 255\n",
        "        generated_images.numpy()\n",
        "        for i in range(self.num_img):\n",
        "            img = array_to_img(generated_images[i])\n",
        "            img.save(os.path.join('images', f'generated_img_{epoch}_{i}.png'))"
      ],
      "metadata": {
        "id": "UZu_homAz93P"
      },
      "execution_count": null,
      "outputs": []
    },
    {
      "cell_type": "markdown",
      "source": [
        "4.3 Train"
      ],
      "metadata": {
        "id": "mR6eYGZJ0DyD"
      }
    },
    {
      "cell_type": "code",
      "source": [
        "# Recommend 2000 epochs\n",
        "hist = fashgan.fit(ds, epochs=10, callbacks=[ModelMonitor()])"
      ],
      "metadata": {
        "id": "YisEERpqz9po"
      },
      "execution_count": null,
      "outputs": []
    },
    {
      "cell_type": "markdown",
      "source": [
        "4.4 Review Performance"
      ],
      "metadata": {
        "id": "Pf8msgJ85ckf"
      }
    },
    {
      "cell_type": "code",
      "source": [
        "plt.suptitle('Loss')\n",
        "plt.plot(hist.history['d_loss'], label='d_loss')\n",
        "plt.plot(hist.history['g_loss'], label='g_loss')\n",
        "plt.legend()\n",
        "plt.show()"
      ],
      "metadata": {
        "id": "2iOxrKW36oDt"
      },
      "execution_count": null,
      "outputs": []
    },
    {
      "cell_type": "markdown",
      "source": [
        "#5. Test Out the Generator\n",
        "\n"
      ],
      "metadata": {
        "id": "17SkgyfY6s40"
      }
    },
    {
      "cell_type": "markdown",
      "source": [
        "5.1 Generate Images"
      ],
      "metadata": {
        "id": "O8VjfXeK60Je"
      }
    },
    {
      "cell_type": "code",
      "source": [
        "generator.load_weights(os.path.join('archive', 'generatormodel.h5'))"
      ],
      "metadata": {
        "id": "vDKIZjmj6ouP"
      },
      "execution_count": null,
      "outputs": []
    },
    {
      "cell_type": "code",
      "source": [
        "imgs = generator.predict(tf.random.normal((16, 128, 1)))"
      ],
      "metadata": {
        "id": "-bKsjw8o66HU"
      },
      "execution_count": null,
      "outputs": []
    },
    {
      "cell_type": "code",
      "source": [
        "fig, ax = plt.subplots(ncols=4, nrows=4, figsize=(10,10))\n",
        "for r in range(4):\n",
        "    for c in range(4):\n",
        "        ax[r][c].imshow(imgs[(r+1)*(c+1)-1])"
      ],
      "metadata": {
        "id": "k2uo8Uwf652h"
      },
      "execution_count": null,
      "outputs": []
    },
    {
      "cell_type": "markdown",
      "source": [
        "![img1](data:application/octet-stream;base64,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)"
      ],
      "metadata": {
        "id": "tjjZYPMX7QOy"
      }
    },
    {
      "cell_type": "markdown",
      "source": [
        "5.2 Save the Model"
      ],
      "metadata": {
        "id": "SAggSqD47BKC"
      }
    },
    {
      "cell_type": "code",
      "source": [
        "from google.colab import drive\n",
        "\n",
        "drive.mount('/content/gdrive')\n",
        "\n",
        "generator_path = '/content/gdrive/My Drive/generator.h5'\n",
        "discriminator_path = '/content/gdrive/My Drive/discriminator.h5'\n",
        "\n",
        "generator.save('generator.h5')\n",
        "discriminator.save('discriminator.h5')"
      ],
      "metadata": {
        "id": "fukMlpCmA8W2"
      },
      "execution_count": null,
      "outputs": []
    }
  ]
}