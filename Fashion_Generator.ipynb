{
  "nbformat": 4,
  "nbformat_minor": 0,
  "metadata": {
    "colab": {
      "provenance": []
    },
    "kernelspec": {
      "name": "python3",
      "display_name": "Python 3"
    },
    "language_info": {
      "name": "python"
    },
    "widgets": {
      "application/vnd.jupyter.widget-state+json": {
        "d023f74f05014103abd089bae2b2d467": {
          "model_module": "@jupyter-widgets/controls",
          "model_name": "HBoxModel",
          "model_module_version": "1.5.0",
          "state": {
            "_dom_classes": [],
            "_model_module": "@jupyter-widgets/controls",
            "_model_module_version": "1.5.0",
            "_model_name": "HBoxModel",
            "_view_count": null,
            "_view_module": "@jupyter-widgets/controls",
            "_view_module_version": "1.5.0",
            "_view_name": "HBoxView",
            "box_style": "",
            "children": [
              "IPY_MODEL_9a3d2048e881496c8eb5d4c653d6f782",
              "IPY_MODEL_f55fe2ab5c1e490491f4f48dcf1e84ba",
              "IPY_MODEL_14d0fbe45c994a95b5297f5fa92a0565"
            ],
            "layout": "IPY_MODEL_e2e69cc07e2449328215dddfe850586b"
          }
        },
        "9a3d2048e881496c8eb5d4c653d6f782": {
          "model_module": "@jupyter-widgets/controls",
          "model_name": "HTMLModel",
          "model_module_version": "1.5.0",
          "state": {
            "_dom_classes": [],
            "_model_module": "@jupyter-widgets/controls",
            "_model_module_version": "1.5.0",
            "_model_name": "HTMLModel",
            "_view_count": null,
            "_view_module": "@jupyter-widgets/controls",
            "_view_module_version": "1.5.0",
            "_view_name": "HTMLView",
            "description": "",
            "description_tooltip": null,
            "layout": "IPY_MODEL_aade72c9e8c14f5196ba1ced8bd75103",
            "placeholder": "​",
            "style": "IPY_MODEL_3adda604358c407dab4e82395e4b00ba",
            "value": "Dl Completed...: 100%"
          }
        },
        "f55fe2ab5c1e490491f4f48dcf1e84ba": {
          "model_module": "@jupyter-widgets/controls",
          "model_name": "FloatProgressModel",
          "model_module_version": "1.5.0",
          "state": {
            "_dom_classes": [],
            "_model_module": "@jupyter-widgets/controls",
            "_model_module_version": "1.5.0",
            "_model_name": "FloatProgressModel",
            "_view_count": null,
            "_view_module": "@jupyter-widgets/controls",
            "_view_module_version": "1.5.0",
            "_view_name": "ProgressView",
            "bar_style": "success",
            "description": "",
            "description_tooltip": null,
            "layout": "IPY_MODEL_b459e6bd6ac8448a9785ed7431a3ca66",
            "max": 1,
            "min": 0,
            "orientation": "horizontal",
            "style": "IPY_MODEL_a6a0cf9fb76e417bb5e952ebf11f77ec",
            "value": 1
          }
        },
        "14d0fbe45c994a95b5297f5fa92a0565": {
          "model_module": "@jupyter-widgets/controls",
          "model_name": "HTMLModel",
          "model_module_version": "1.5.0",
          "state": {
            "_dom_classes": [],
            "_model_module": "@jupyter-widgets/controls",
            "_model_module_version": "1.5.0",
            "_model_name": "HTMLModel",
            "_view_count": null,
            "_view_module": "@jupyter-widgets/controls",
            "_view_module_version": "1.5.0",
            "_view_name": "HTMLView",
            "description": "",
            "description_tooltip": null,
            "layout": "IPY_MODEL_37150eb32cb14ca98fc114cc6c0782b3",
            "placeholder": "​",
            "style": "IPY_MODEL_c6c5bb8789fd4879ab499141f6fbe149",
            "value": " 4/4 [00:02&lt;00:00,  1.61 url/s]"
          }
        },
        "e2e69cc07e2449328215dddfe850586b": {
          "model_module": "@jupyter-widgets/base",
          "model_name": "LayoutModel",
          "model_module_version": "1.2.0",
          "state": {
            "_model_module": "@jupyter-widgets/base",
            "_model_module_version": "1.2.0",
            "_model_name": "LayoutModel",
            "_view_count": null,
            "_view_module": "@jupyter-widgets/base",
            "_view_module_version": "1.2.0",
            "_view_name": "LayoutView",
            "align_content": null,
            "align_items": null,
            "align_self": null,
            "border": null,
            "bottom": null,
            "display": null,
            "flex": null,
            "flex_flow": null,
            "grid_area": null,
            "grid_auto_columns": null,
            "grid_auto_flow": null,
            "grid_auto_rows": null,
            "grid_column": null,
            "grid_gap": null,
            "grid_row": null,
            "grid_template_areas": null,
            "grid_template_columns": null,
            "grid_template_rows": null,
            "height": null,
            "justify_content": null,
            "justify_items": null,
            "left": null,
            "margin": null,
            "max_height": null,
            "max_width": null,
            "min_height": null,
            "min_width": null,
            "object_fit": null,
            "object_position": null,
            "order": null,
            "overflow": null,
            "overflow_x": null,
            "overflow_y": null,
            "padding": null,
            "right": null,
            "top": null,
            "visibility": null,
            "width": null
          }
        },
        "aade72c9e8c14f5196ba1ced8bd75103": {
          "model_module": "@jupyter-widgets/base",
          "model_name": "LayoutModel",
          "model_module_version": "1.2.0",
          "state": {
            "_model_module": "@jupyter-widgets/base",
            "_model_module_version": "1.2.0",
            "_model_name": "LayoutModel",
            "_view_count": null,
            "_view_module": "@jupyter-widgets/base",
            "_view_module_version": "1.2.0",
            "_view_name": "LayoutView",
            "align_content": null,
            "align_items": null,
            "align_self": null,
            "border": null,
            "bottom": null,
            "display": null,
            "flex": null,
            "flex_flow": null,
            "grid_area": null,
            "grid_auto_columns": null,
            "grid_auto_flow": null,
            "grid_auto_rows": null,
            "grid_column": null,
            "grid_gap": null,
            "grid_row": null,
            "grid_template_areas": null,
            "grid_template_columns": null,
            "grid_template_rows": null,
            "height": null,
            "justify_content": null,
            "justify_items": null,
            "left": null,
            "margin": null,
            "max_height": null,
            "max_width": null,
            "min_height": null,
            "min_width": null,
            "object_fit": null,
            "object_position": null,
            "order": null,
            "overflow": null,
            "overflow_x": null,
            "overflow_y": null,
            "padding": null,
            "right": null,
            "top": null,
            "visibility": null,
            "width": null
          }
        },
        "3adda604358c407dab4e82395e4b00ba": {
          "model_module": "@jupyter-widgets/controls",
          "model_name": "DescriptionStyleModel",
          "model_module_version": "1.5.0",
          "state": {
            "_model_module": "@jupyter-widgets/controls",
            "_model_module_version": "1.5.0",
            "_model_name": "DescriptionStyleModel",
            "_view_count": null,
            "_view_module": "@jupyter-widgets/base",
            "_view_module_version": "1.2.0",
            "_view_name": "StyleView",
            "description_width": ""
          }
        },
        "b459e6bd6ac8448a9785ed7431a3ca66": {
          "model_module": "@jupyter-widgets/base",
          "model_name": "LayoutModel",
          "model_module_version": "1.2.0",
          "state": {
            "_model_module": "@jupyter-widgets/base",
            "_model_module_version": "1.2.0",
            "_model_name": "LayoutModel",
            "_view_count": null,
            "_view_module": "@jupyter-widgets/base",
            "_view_module_version": "1.2.0",
            "_view_name": "LayoutView",
            "align_content": null,
            "align_items": null,
            "align_self": null,
            "border": null,
            "bottom": null,
            "display": null,
            "flex": null,
            "flex_flow": null,
            "grid_area": null,
            "grid_auto_columns": null,
            "grid_auto_flow": null,
            "grid_auto_rows": null,
            "grid_column": null,
            "grid_gap": null,
            "grid_row": null,
            "grid_template_areas": null,
            "grid_template_columns": null,
            "grid_template_rows": null,
            "height": null,
            "justify_content": null,
            "justify_items": null,
            "left": null,
            "margin": null,
            "max_height": null,
            "max_width": null,
            "min_height": null,
            "min_width": null,
            "object_fit": null,
            "object_position": null,
            "order": null,
            "overflow": null,
            "overflow_x": null,
            "overflow_y": null,
            "padding": null,
            "right": null,
            "top": null,
            "visibility": null,
            "width": "20px"
          }
        },
        "a6a0cf9fb76e417bb5e952ebf11f77ec": {
          "model_module": "@jupyter-widgets/controls",
          "model_name": "ProgressStyleModel",
          "model_module_version": "1.5.0",
          "state": {
            "_model_module": "@jupyter-widgets/controls",
            "_model_module_version": "1.5.0",
            "_model_name": "ProgressStyleModel",
            "_view_count": null,
            "_view_module": "@jupyter-widgets/base",
            "_view_module_version": "1.2.0",
            "_view_name": "StyleView",
            "bar_color": null,
            "description_width": ""
          }
        },
        "37150eb32cb14ca98fc114cc6c0782b3": {
          "model_module": "@jupyter-widgets/base",
          "model_name": "LayoutModel",
          "model_module_version": "1.2.0",
          "state": {
            "_model_module": "@jupyter-widgets/base",
            "_model_module_version": "1.2.0",
            "_model_name": "LayoutModel",
            "_view_count": null,
            "_view_module": "@jupyter-widgets/base",
            "_view_module_version": "1.2.0",
            "_view_name": "LayoutView",
            "align_content": null,
            "align_items": null,
            "align_self": null,
            "border": null,
            "bottom": null,
            "display": null,
            "flex": null,
            "flex_flow": null,
            "grid_area": null,
            "grid_auto_columns": null,
            "grid_auto_flow": null,
            "grid_auto_rows": null,
            "grid_column": null,
            "grid_gap": null,
            "grid_row": null,
            "grid_template_areas": null,
            "grid_template_columns": null,
            "grid_template_rows": null,
            "height": null,
            "justify_content": null,
            "justify_items": null,
            "left": null,
            "margin": null,
            "max_height": null,
            "max_width": null,
            "min_height": null,
            "min_width": null,
            "object_fit": null,
            "object_position": null,
            "order": null,
            "overflow": null,
            "overflow_x": null,
            "overflow_y": null,
            "padding": null,
            "right": null,
            "top": null,
            "visibility": null,
            "width": null
          }
        },
        "c6c5bb8789fd4879ab499141f6fbe149": {
          "model_module": "@jupyter-widgets/controls",
          "model_name": "DescriptionStyleModel",
          "model_module_version": "1.5.0",
          "state": {
            "_model_module": "@jupyter-widgets/controls",
            "_model_module_version": "1.5.0",
            "_model_name": "DescriptionStyleModel",
            "_view_count": null,
            "_view_module": "@jupyter-widgets/base",
            "_view_module_version": "1.2.0",
            "_view_name": "StyleView",
            "description_width": ""
          }
        },
        "aabea7fbe3724c9c873d96151ed226e5": {
          "model_module": "@jupyter-widgets/controls",
          "model_name": "HBoxModel",
          "model_module_version": "1.5.0",
          "state": {
            "_dom_classes": [],
            "_model_module": "@jupyter-widgets/controls",
            "_model_module_version": "1.5.0",
            "_model_name": "HBoxModel",
            "_view_count": null,
            "_view_module": "@jupyter-widgets/controls",
            "_view_module_version": "1.5.0",
            "_view_name": "HBoxView",
            "box_style": "",
            "children": [
              "IPY_MODEL_1d62f7c798564963b05146f56777993f",
              "IPY_MODEL_2eced9f37c73436b8903bba2e0abd65a",
              "IPY_MODEL_f421c98c58b64ac39ad99f4e94034545"
            ],
            "layout": "IPY_MODEL_4a042fe4dc84436e8cc640d1fd31a4c2"
          }
        },
        "1d62f7c798564963b05146f56777993f": {
          "model_module": "@jupyter-widgets/controls",
          "model_name": "HTMLModel",
          "model_module_version": "1.5.0",
          "state": {
            "_dom_classes": [],
            "_model_module": "@jupyter-widgets/controls",
            "_model_module_version": "1.5.0",
            "_model_name": "HTMLModel",
            "_view_count": null,
            "_view_module": "@jupyter-widgets/controls",
            "_view_module_version": "1.5.0",
            "_view_name": "HTMLView",
            "description": "",
            "description_tooltip": null,
            "layout": "IPY_MODEL_68b8b346ca5e4281923e515afd0772b9",
            "placeholder": "​",
            "style": "IPY_MODEL_2f3a8ba2b7664bec87524acdfcbdad6d",
            "value": "Dl Size...: 100%"
          }
        },
        "2eced9f37c73436b8903bba2e0abd65a": {
          "model_module": "@jupyter-widgets/controls",
          "model_name": "FloatProgressModel",
          "model_module_version": "1.5.0",
          "state": {
            "_dom_classes": [],
            "_model_module": "@jupyter-widgets/controls",
            "_model_module_version": "1.5.0",
            "_model_name": "FloatProgressModel",
            "_view_count": null,
            "_view_module": "@jupyter-widgets/controls",
            "_view_module_version": "1.5.0",
            "_view_name": "ProgressView",
            "bar_style": "success",
            "description": "",
            "description_tooltip": null,
            "layout": "IPY_MODEL_acdd1bed06bb477a8bcf8aff9f60aefe",
            "max": 1,
            "min": 0,
            "orientation": "horizontal",
            "style": "IPY_MODEL_e10b3cbd4ea74fb5b3dfcc23b556b62c",
            "value": 1
          }
        },
        "f421c98c58b64ac39ad99f4e94034545": {
          "model_module": "@jupyter-widgets/controls",
          "model_name": "HTMLModel",
          "model_module_version": "1.5.0",
          "state": {
            "_dom_classes": [],
            "_model_module": "@jupyter-widgets/controls",
            "_model_module_version": "1.5.0",
            "_model_name": "HTMLModel",
            "_view_count": null,
            "_view_module": "@jupyter-widgets/controls",
            "_view_module_version": "1.5.0",
            "_view_name": "HTMLView",
            "description": "",
            "description_tooltip": null,
            "layout": "IPY_MODEL_008eaaacc9ed40bb862db936e355c3c5",
            "placeholder": "​",
            "style": "IPY_MODEL_10ef64fe1fae43d490de2d466d78e143",
            "value": " 29/29 [00:02&lt;00:00, 21.99 MiB/s]"
          }
        },
        "4a042fe4dc84436e8cc640d1fd31a4c2": {
          "model_module": "@jupyter-widgets/base",
          "model_name": "LayoutModel",
          "model_module_version": "1.2.0",
          "state": {
            "_model_module": "@jupyter-widgets/base",
            "_model_module_version": "1.2.0",
            "_model_name": "LayoutModel",
            "_view_count": null,
            "_view_module": "@jupyter-widgets/base",
            "_view_module_version": "1.2.0",
            "_view_name": "LayoutView",
            "align_content": null,
            "align_items": null,
            "align_self": null,
            "border": null,
            "bottom": null,
            "display": null,
            "flex": null,
            "flex_flow": null,
            "grid_area": null,
            "grid_auto_columns": null,
            "grid_auto_flow": null,
            "grid_auto_rows": null,
            "grid_column": null,
            "grid_gap": null,
            "grid_row": null,
            "grid_template_areas": null,
            "grid_template_columns": null,
            "grid_template_rows": null,
            "height": null,
            "justify_content": null,
            "justify_items": null,
            "left": null,
            "margin": null,
            "max_height": null,
            "max_width": null,
            "min_height": null,
            "min_width": null,
            "object_fit": null,
            "object_position": null,
            "order": null,
            "overflow": null,
            "overflow_x": null,
            "overflow_y": null,
            "padding": null,
            "right": null,
            "top": null,
            "visibility": null,
            "width": null
          }
        },
        "68b8b346ca5e4281923e515afd0772b9": {
          "model_module": "@jupyter-widgets/base",
          "model_name": "LayoutModel",
          "model_module_version": "1.2.0",
          "state": {
            "_model_module": "@jupyter-widgets/base",
            "_model_module_version": "1.2.0",
            "_model_name": "LayoutModel",
            "_view_count": null,
            "_view_module": "@jupyter-widgets/base",
            "_view_module_version": "1.2.0",
            "_view_name": "LayoutView",
            "align_content": null,
            "align_items": null,
            "align_self": null,
            "border": null,
            "bottom": null,
            "display": null,
            "flex": null,
            "flex_flow": null,
            "grid_area": null,
            "grid_auto_columns": null,
            "grid_auto_flow": null,
            "grid_auto_rows": null,
            "grid_column": null,
            "grid_gap": null,
            "grid_row": null,
            "grid_template_areas": null,
            "grid_template_columns": null,
            "grid_template_rows": null,
            "height": null,
            "justify_content": null,
            "justify_items": null,
            "left": null,
            "margin": null,
            "max_height": null,
            "max_width": null,
            "min_height": null,
            "min_width": null,
            "object_fit": null,
            "object_position": null,
            "order": null,
            "overflow": null,
            "overflow_x": null,
            "overflow_y": null,
            "padding": null,
            "right": null,
            "top": null,
            "visibility": null,
            "width": null
          }
        },
        "2f3a8ba2b7664bec87524acdfcbdad6d": {
          "model_module": "@jupyter-widgets/controls",
          "model_name": "DescriptionStyleModel",
          "model_module_version": "1.5.0",
          "state": {
            "_model_module": "@jupyter-widgets/controls",
            "_model_module_version": "1.5.0",
            "_model_name": "DescriptionStyleModel",
            "_view_count": null,
            "_view_module": "@jupyter-widgets/base",
            "_view_module_version": "1.2.0",
            "_view_name": "StyleView",
            "description_width": ""
          }
        },
        "acdd1bed06bb477a8bcf8aff9f60aefe": {
          "model_module": "@jupyter-widgets/base",
          "model_name": "LayoutModel",
          "model_module_version": "1.2.0",
          "state": {
            "_model_module": "@jupyter-widgets/base",
            "_model_module_version": "1.2.0",
            "_model_name": "LayoutModel",
            "_view_count": null,
            "_view_module": "@jupyter-widgets/base",
            "_view_module_version": "1.2.0",
            "_view_name": "LayoutView",
            "align_content": null,
            "align_items": null,
            "align_self": null,
            "border": null,
            "bottom": null,
            "display": null,
            "flex": null,
            "flex_flow": null,
            "grid_area": null,
            "grid_auto_columns": null,
            "grid_auto_flow": null,
            "grid_auto_rows": null,
            "grid_column": null,
            "grid_gap": null,
            "grid_row": null,
            "grid_template_areas": null,
            "grid_template_columns": null,
            "grid_template_rows": null,
            "height": null,
            "justify_content": null,
            "justify_items": null,
            "left": null,
            "margin": null,
            "max_height": null,
            "max_width": null,
            "min_height": null,
            "min_width": null,
            "object_fit": null,
            "object_position": null,
            "order": null,
            "overflow": null,
            "overflow_x": null,
            "overflow_y": null,
            "padding": null,
            "right": null,
            "top": null,
            "visibility": null,
            "width": "20px"
          }
        },
        "e10b3cbd4ea74fb5b3dfcc23b556b62c": {
          "model_module": "@jupyter-widgets/controls",
          "model_name": "ProgressStyleModel",
          "model_module_version": "1.5.0",
          "state": {
            "_model_module": "@jupyter-widgets/controls",
            "_model_module_version": "1.5.0",
            "_model_name": "ProgressStyleModel",
            "_view_count": null,
            "_view_module": "@jupyter-widgets/base",
            "_view_module_version": "1.2.0",
            "_view_name": "StyleView",
            "bar_color": null,
            "description_width": ""
          }
        },
        "008eaaacc9ed40bb862db936e355c3c5": {
          "model_module": "@jupyter-widgets/base",
          "model_name": "LayoutModel",
          "model_module_version": "1.2.0",
          "state": {
            "_model_module": "@jupyter-widgets/base",
            "_model_module_version": "1.2.0",
            "_model_name": "LayoutModel",
            "_view_count": null,
            "_view_module": "@jupyter-widgets/base",
            "_view_module_version": "1.2.0",
            "_view_name": "LayoutView",
            "align_content": null,
            "align_items": null,
            "align_self": null,
            "border": null,
            "bottom": null,
            "display": null,
            "flex": null,
            "flex_flow": null,
            "grid_area": null,
            "grid_auto_columns": null,
            "grid_auto_flow": null,
            "grid_auto_rows": null,
            "grid_column": null,
            "grid_gap": null,
            "grid_row": null,
            "grid_template_areas": null,
            "grid_template_columns": null,
            "grid_template_rows": null,
            "height": null,
            "justify_content": null,
            "justify_items": null,
            "left": null,
            "margin": null,
            "max_height": null,
            "max_width": null,
            "min_height": null,
            "min_width": null,
            "object_fit": null,
            "object_position": null,
            "order": null,
            "overflow": null,
            "overflow_x": null,
            "overflow_y": null,
            "padding": null,
            "right": null,
            "top": null,
            "visibility": null,
            "width": null
          }
        },
        "10ef64fe1fae43d490de2d466d78e143": {
          "model_module": "@jupyter-widgets/controls",
          "model_name": "DescriptionStyleModel",
          "model_module_version": "1.5.0",
          "state": {
            "_model_module": "@jupyter-widgets/controls",
            "_model_module_version": "1.5.0",
            "_model_name": "DescriptionStyleModel",
            "_view_count": null,
            "_view_module": "@jupyter-widgets/base",
            "_view_module_version": "1.2.0",
            "_view_name": "StyleView",
            "description_width": ""
          }
        },
        "10e033ba4f3e47b68a9065ce0039b1e1": {
          "model_module": "@jupyter-widgets/controls",
          "model_name": "HBoxModel",
          "model_module_version": "1.5.0",
          "state": {
            "_dom_classes": [],
            "_model_module": "@jupyter-widgets/controls",
            "_model_module_version": "1.5.0",
            "_model_name": "HBoxModel",
            "_view_count": null,
            "_view_module": "@jupyter-widgets/controls",
            "_view_module_version": "1.5.0",
            "_view_name": "HBoxView",
            "box_style": "",
            "children": [
              "IPY_MODEL_1f8b2887a4dd47ed817fab89e6bc6547",
              "IPY_MODEL_31602ec40da44a7ca9c6dc212f64b362",
              "IPY_MODEL_305e25e2fe7d45438998514e468121c6"
            ],
            "layout": "IPY_MODEL_31a09dbc700f4f509f4ecff318d3c47d"
          }
        },
        "1f8b2887a4dd47ed817fab89e6bc6547": {
          "model_module": "@jupyter-widgets/controls",
          "model_name": "HTMLModel",
          "model_module_version": "1.5.0",
          "state": {
            "_dom_classes": [],
            "_model_module": "@jupyter-widgets/controls",
            "_model_module_version": "1.5.0",
            "_model_name": "HTMLModel",
            "_view_count": null,
            "_view_module": "@jupyter-widgets/controls",
            "_view_module_version": "1.5.0",
            "_view_name": "HTMLView",
            "description": "",
            "description_tooltip": null,
            "layout": "IPY_MODEL_3a24db6256f947a09bbc9a441edcfa37",
            "placeholder": "​",
            "style": "IPY_MODEL_b8a714947a344eea9b2c6c59986f54c4",
            "value": "Extraction completed...: 100%"
          }
        },
        "31602ec40da44a7ca9c6dc212f64b362": {
          "model_module": "@jupyter-widgets/controls",
          "model_name": "FloatProgressModel",
          "model_module_version": "1.5.0",
          "state": {
            "_dom_classes": [],
            "_model_module": "@jupyter-widgets/controls",
            "_model_module_version": "1.5.0",
            "_model_name": "FloatProgressModel",
            "_view_count": null,
            "_view_module": "@jupyter-widgets/controls",
            "_view_module_version": "1.5.0",
            "_view_name": "ProgressView",
            "bar_style": "success",
            "description": "",
            "description_tooltip": null,
            "layout": "IPY_MODEL_c1a4f641b5294fbfa994082306453d77",
            "max": 1,
            "min": 0,
            "orientation": "horizontal",
            "style": "IPY_MODEL_17558b4252a245c588fbd620a738b16c",
            "value": 1
          }
        },
        "305e25e2fe7d45438998514e468121c6": {
          "model_module": "@jupyter-widgets/controls",
          "model_name": "HTMLModel",
          "model_module_version": "1.5.0",
          "state": {
            "_dom_classes": [],
            "_model_module": "@jupyter-widgets/controls",
            "_model_module_version": "1.5.0",
            "_model_name": "HTMLModel",
            "_view_count": null,
            "_view_module": "@jupyter-widgets/controls",
            "_view_module_version": "1.5.0",
            "_view_name": "HTMLView",
            "description": "",
            "description_tooltip": null,
            "layout": "IPY_MODEL_69fcc201a03a419b83c08efb276d6de1",
            "placeholder": "​",
            "style": "IPY_MODEL_09ceba7448794489bdd0bebf920b3bb9",
            "value": " 4/4 [00:02&lt;00:00,  1.30 file/s]"
          }
        },
        "31a09dbc700f4f509f4ecff318d3c47d": {
          "model_module": "@jupyter-widgets/base",
          "model_name": "LayoutModel",
          "model_module_version": "1.2.0",
          "state": {
            "_model_module": "@jupyter-widgets/base",
            "_model_module_version": "1.2.0",
            "_model_name": "LayoutModel",
            "_view_count": null,
            "_view_module": "@jupyter-widgets/base",
            "_view_module_version": "1.2.0",
            "_view_name": "LayoutView",
            "align_content": null,
            "align_items": null,
            "align_self": null,
            "border": null,
            "bottom": null,
            "display": null,
            "flex": null,
            "flex_flow": null,
            "grid_area": null,
            "grid_auto_columns": null,
            "grid_auto_flow": null,
            "grid_auto_rows": null,
            "grid_column": null,
            "grid_gap": null,
            "grid_row": null,
            "grid_template_areas": null,
            "grid_template_columns": null,
            "grid_template_rows": null,
            "height": null,
            "justify_content": null,
            "justify_items": null,
            "left": null,
            "margin": null,
            "max_height": null,
            "max_width": null,
            "min_height": null,
            "min_width": null,
            "object_fit": null,
            "object_position": null,
            "order": null,
            "overflow": null,
            "overflow_x": null,
            "overflow_y": null,
            "padding": null,
            "right": null,
            "top": null,
            "visibility": null,
            "width": null
          }
        },
        "3a24db6256f947a09bbc9a441edcfa37": {
          "model_module": "@jupyter-widgets/base",
          "model_name": "LayoutModel",
          "model_module_version": "1.2.0",
          "state": {
            "_model_module": "@jupyter-widgets/base",
            "_model_module_version": "1.2.0",
            "_model_name": "LayoutModel",
            "_view_count": null,
            "_view_module": "@jupyter-widgets/base",
            "_view_module_version": "1.2.0",
            "_view_name": "LayoutView",
            "align_content": null,
            "align_items": null,
            "align_self": null,
            "border": null,
            "bottom": null,
            "display": null,
            "flex": null,
            "flex_flow": null,
            "grid_area": null,
            "grid_auto_columns": null,
            "grid_auto_flow": null,
            "grid_auto_rows": null,
            "grid_column": null,
            "grid_gap": null,
            "grid_row": null,
            "grid_template_areas": null,
            "grid_template_columns": null,
            "grid_template_rows": null,
            "height": null,
            "justify_content": null,
            "justify_items": null,
            "left": null,
            "margin": null,
            "max_height": null,
            "max_width": null,
            "min_height": null,
            "min_width": null,
            "object_fit": null,
            "object_position": null,
            "order": null,
            "overflow": null,
            "overflow_x": null,
            "overflow_y": null,
            "padding": null,
            "right": null,
            "top": null,
            "visibility": null,
            "width": null
          }
        },
        "b8a714947a344eea9b2c6c59986f54c4": {
          "model_module": "@jupyter-widgets/controls",
          "model_name": "DescriptionStyleModel",
          "model_module_version": "1.5.0",
          "state": {
            "_model_module": "@jupyter-widgets/controls",
            "_model_module_version": "1.5.0",
            "_model_name": "DescriptionStyleModel",
            "_view_count": null,
            "_view_module": "@jupyter-widgets/base",
            "_view_module_version": "1.2.0",
            "_view_name": "StyleView",
            "description_width": ""
          }
        },
        "c1a4f641b5294fbfa994082306453d77": {
          "model_module": "@jupyter-widgets/base",
          "model_name": "LayoutModel",
          "model_module_version": "1.2.0",
          "state": {
            "_model_module": "@jupyter-widgets/base",
            "_model_module_version": "1.2.0",
            "_model_name": "LayoutModel",
            "_view_count": null,
            "_view_module": "@jupyter-widgets/base",
            "_view_module_version": "1.2.0",
            "_view_name": "LayoutView",
            "align_content": null,
            "align_items": null,
            "align_self": null,
            "border": null,
            "bottom": null,
            "display": null,
            "flex": null,
            "flex_flow": null,
            "grid_area": null,
            "grid_auto_columns": null,
            "grid_auto_flow": null,
            "grid_auto_rows": null,
            "grid_column": null,
            "grid_gap": null,
            "grid_row": null,
            "grid_template_areas": null,
            "grid_template_columns": null,
            "grid_template_rows": null,
            "height": null,
            "justify_content": null,
            "justify_items": null,
            "left": null,
            "margin": null,
            "max_height": null,
            "max_width": null,
            "min_height": null,
            "min_width": null,
            "object_fit": null,
            "object_position": null,
            "order": null,
            "overflow": null,
            "overflow_x": null,
            "overflow_y": null,
            "padding": null,
            "right": null,
            "top": null,
            "visibility": null,
            "width": "20px"
          }
        },
        "17558b4252a245c588fbd620a738b16c": {
          "model_module": "@jupyter-widgets/controls",
          "model_name": "ProgressStyleModel",
          "model_module_version": "1.5.0",
          "state": {
            "_model_module": "@jupyter-widgets/controls",
            "_model_module_version": "1.5.0",
            "_model_name": "ProgressStyleModel",
            "_view_count": null,
            "_view_module": "@jupyter-widgets/base",
            "_view_module_version": "1.2.0",
            "_view_name": "StyleView",
            "bar_color": null,
            "description_width": ""
          }
        },
        "69fcc201a03a419b83c08efb276d6de1": {
          "model_module": "@jupyter-widgets/base",
          "model_name": "LayoutModel",
          "model_module_version": "1.2.0",
          "state": {
            "_model_module": "@jupyter-widgets/base",
            "_model_module_version": "1.2.0",
            "_model_name": "LayoutModel",
            "_view_count": null,
            "_view_module": "@jupyter-widgets/base",
            "_view_module_version": "1.2.0",
            "_view_name": "LayoutView",
            "align_content": null,
            "align_items": null,
            "align_self": null,
            "border": null,
            "bottom": null,
            "display": null,
            "flex": null,
            "flex_flow": null,
            "grid_area": null,
            "grid_auto_columns": null,
            "grid_auto_flow": null,
            "grid_auto_rows": null,
            "grid_column": null,
            "grid_gap": null,
            "grid_row": null,
            "grid_template_areas": null,
            "grid_template_columns": null,
            "grid_template_rows": null,
            "height": null,
            "justify_content": null,
            "justify_items": null,
            "left": null,
            "margin": null,
            "max_height": null,
            "max_width": null,
            "min_height": null,
            "min_width": null,
            "object_fit": null,
            "object_position": null,
            "order": null,
            "overflow": null,
            "overflow_x": null,
            "overflow_y": null,
            "padding": null,
            "right": null,
            "top": null,
            "visibility": null,
            "width": null
          }
        },
        "09ceba7448794489bdd0bebf920b3bb9": {
          "model_module": "@jupyter-widgets/controls",
          "model_name": "DescriptionStyleModel",
          "model_module_version": "1.5.0",
          "state": {
            "_model_module": "@jupyter-widgets/controls",
            "_model_module_version": "1.5.0",
            "_model_name": "DescriptionStyleModel",
            "_view_count": null,
            "_view_module": "@jupyter-widgets/base",
            "_view_module_version": "1.2.0",
            "_view_name": "StyleView",
            "description_width": ""
          }
        },
        "04bb1f50ce2149b18685ca4860d14702": {
          "model_module": "@jupyter-widgets/controls",
          "model_name": "HBoxModel",
          "model_module_version": "1.5.0",
          "state": {
            "_dom_classes": [],
            "_model_module": "@jupyter-widgets/controls",
            "_model_module_version": "1.5.0",
            "_model_name": "HBoxModel",
            "_view_count": null,
            "_view_module": "@jupyter-widgets/controls",
            "_view_module_version": "1.5.0",
            "_view_name": "HBoxView",
            "box_style": "",
            "children": [
              "IPY_MODEL_718bcfac47884f55895d950b682ab516",
              "IPY_MODEL_f1faab6a9fa8417086865e98a3a57904",
              "IPY_MODEL_556eee68f92e43008317d05e995d8a86"
            ],
            "layout": "IPY_MODEL_f1fc20a3551c489fab02fa6205ad2252"
          }
        },
        "718bcfac47884f55895d950b682ab516": {
          "model_module": "@jupyter-widgets/controls",
          "model_name": "HTMLModel",
          "model_module_version": "1.5.0",
          "state": {
            "_dom_classes": [],
            "_model_module": "@jupyter-widgets/controls",
            "_model_module_version": "1.5.0",
            "_model_name": "HTMLModel",
            "_view_count": null,
            "_view_module": "@jupyter-widgets/controls",
            "_view_module_version": "1.5.0",
            "_view_name": "HTMLView",
            "description": "",
            "description_tooltip": null,
            "layout": "IPY_MODEL_60a87c00c32c456fa57156eb630b4032",
            "placeholder": "​",
            "style": "IPY_MODEL_c68d3e4c99de4434a79a4857ad4a937d",
            "value": "Generating splits...: 100%"
          }
        },
        "f1faab6a9fa8417086865e98a3a57904": {
          "model_module": "@jupyter-widgets/controls",
          "model_name": "FloatProgressModel",
          "model_module_version": "1.5.0",
          "state": {
            "_dom_classes": [],
            "_model_module": "@jupyter-widgets/controls",
            "_model_module_version": "1.5.0",
            "_model_name": "FloatProgressModel",
            "_view_count": null,
            "_view_module": "@jupyter-widgets/controls",
            "_view_module_version": "1.5.0",
            "_view_name": "ProgressView",
            "bar_style": "",
            "description": "",
            "description_tooltip": null,
            "layout": "IPY_MODEL_d6d1942233084e388f2c2c40e56246a0",
            "max": 2,
            "min": 0,
            "orientation": "horizontal",
            "style": "IPY_MODEL_211707df24f149848e29e4355b769bca",
            "value": 2
          }
        },
        "556eee68f92e43008317d05e995d8a86": {
          "model_module": "@jupyter-widgets/controls",
          "model_name": "HTMLModel",
          "model_module_version": "1.5.0",
          "state": {
            "_dom_classes": [],
            "_model_module": "@jupyter-widgets/controls",
            "_model_module_version": "1.5.0",
            "_model_name": "HTMLModel",
            "_view_count": null,
            "_view_module": "@jupyter-widgets/controls",
            "_view_module_version": "1.5.0",
            "_view_name": "HTMLView",
            "description": "",
            "description_tooltip": null,
            "layout": "IPY_MODEL_f02f9d6b487a41ef9a59714cccd41e66",
            "placeholder": "​",
            "style": "IPY_MODEL_f428bf4f2bfc49c0953e857c27715769",
            "value": " 2/2 [00:32&lt;00:00, 14.27s/ splits]"
          }
        },
        "f1fc20a3551c489fab02fa6205ad2252": {
          "model_module": "@jupyter-widgets/base",
          "model_name": "LayoutModel",
          "model_module_version": "1.2.0",
          "state": {
            "_model_module": "@jupyter-widgets/base",
            "_model_module_version": "1.2.0",
            "_model_name": "LayoutModel",
            "_view_count": null,
            "_view_module": "@jupyter-widgets/base",
            "_view_module_version": "1.2.0",
            "_view_name": "LayoutView",
            "align_content": null,
            "align_items": null,
            "align_self": null,
            "border": null,
            "bottom": null,
            "display": null,
            "flex": null,
            "flex_flow": null,
            "grid_area": null,
            "grid_auto_columns": null,
            "grid_auto_flow": null,
            "grid_auto_rows": null,
            "grid_column": null,
            "grid_gap": null,
            "grid_row": null,
            "grid_template_areas": null,
            "grid_template_columns": null,
            "grid_template_rows": null,
            "height": null,
            "justify_content": null,
            "justify_items": null,
            "left": null,
            "margin": null,
            "max_height": null,
            "max_width": null,
            "min_height": null,
            "min_width": null,
            "object_fit": null,
            "object_position": null,
            "order": null,
            "overflow": null,
            "overflow_x": null,
            "overflow_y": null,
            "padding": null,
            "right": null,
            "top": null,
            "visibility": "hidden",
            "width": null
          }
        },
        "60a87c00c32c456fa57156eb630b4032": {
          "model_module": "@jupyter-widgets/base",
          "model_name": "LayoutModel",
          "model_module_version": "1.2.0",
          "state": {
            "_model_module": "@jupyter-widgets/base",
            "_model_module_version": "1.2.0",
            "_model_name": "LayoutModel",
            "_view_count": null,
            "_view_module": "@jupyter-widgets/base",
            "_view_module_version": "1.2.0",
            "_view_name": "LayoutView",
            "align_content": null,
            "align_items": null,
            "align_self": null,
            "border": null,
            "bottom": null,
            "display": null,
            "flex": null,
            "flex_flow": null,
            "grid_area": null,
            "grid_auto_columns": null,
            "grid_auto_flow": null,
            "grid_auto_rows": null,
            "grid_column": null,
            "grid_gap": null,
            "grid_row": null,
            "grid_template_areas": null,
            "grid_template_columns": null,
            "grid_template_rows": null,
            "height": null,
            "justify_content": null,
            "justify_items": null,
            "left": null,
            "margin": null,
            "max_height": null,
            "max_width": null,
            "min_height": null,
            "min_width": null,
            "object_fit": null,
            "object_position": null,
            "order": null,
            "overflow": null,
            "overflow_x": null,
            "overflow_y": null,
            "padding": null,
            "right": null,
            "top": null,
            "visibility": null,
            "width": null
          }
        },
        "c68d3e4c99de4434a79a4857ad4a937d": {
          "model_module": "@jupyter-widgets/controls",
          "model_name": "DescriptionStyleModel",
          "model_module_version": "1.5.0",
          "state": {
            "_model_module": "@jupyter-widgets/controls",
            "_model_module_version": "1.5.0",
            "_model_name": "DescriptionStyleModel",
            "_view_count": null,
            "_view_module": "@jupyter-widgets/base",
            "_view_module_version": "1.2.0",
            "_view_name": "StyleView",
            "description_width": ""
          }
        },
        "d6d1942233084e388f2c2c40e56246a0": {
          "model_module": "@jupyter-widgets/base",
          "model_name": "LayoutModel",
          "model_module_version": "1.2.0",
          "state": {
            "_model_module": "@jupyter-widgets/base",
            "_model_module_version": "1.2.0",
            "_model_name": "LayoutModel",
            "_view_count": null,
            "_view_module": "@jupyter-widgets/base",
            "_view_module_version": "1.2.0",
            "_view_name": "LayoutView",
            "align_content": null,
            "align_items": null,
            "align_self": null,
            "border": null,
            "bottom": null,
            "display": null,
            "flex": null,
            "flex_flow": null,
            "grid_area": null,
            "grid_auto_columns": null,
            "grid_auto_flow": null,
            "grid_auto_rows": null,
            "grid_column": null,
            "grid_gap": null,
            "grid_row": null,
            "grid_template_areas": null,
            "grid_template_columns": null,
            "grid_template_rows": null,
            "height": null,
            "justify_content": null,
            "justify_items": null,
            "left": null,
            "margin": null,
            "max_height": null,
            "max_width": null,
            "min_height": null,
            "min_width": null,
            "object_fit": null,
            "object_position": null,
            "order": null,
            "overflow": null,
            "overflow_x": null,
            "overflow_y": null,
            "padding": null,
            "right": null,
            "top": null,
            "visibility": null,
            "width": null
          }
        },
        "211707df24f149848e29e4355b769bca": {
          "model_module": "@jupyter-widgets/controls",
          "model_name": "ProgressStyleModel",
          "model_module_version": "1.5.0",
          "state": {
            "_model_module": "@jupyter-widgets/controls",
            "_model_module_version": "1.5.0",
            "_model_name": "ProgressStyleModel",
            "_view_count": null,
            "_view_module": "@jupyter-widgets/base",
            "_view_module_version": "1.2.0",
            "_view_name": "StyleView",
            "bar_color": null,
            "description_width": ""
          }
        },
        "f02f9d6b487a41ef9a59714cccd41e66": {
          "model_module": "@jupyter-widgets/base",
          "model_name": "LayoutModel",
          "model_module_version": "1.2.0",
          "state": {
            "_model_module": "@jupyter-widgets/base",
            "_model_module_version": "1.2.0",
            "_model_name": "LayoutModel",
            "_view_count": null,
            "_view_module": "@jupyter-widgets/base",
            "_view_module_version": "1.2.0",
            "_view_name": "LayoutView",
            "align_content": null,
            "align_items": null,
            "align_self": null,
            "border": null,
            "bottom": null,
            "display": null,
            "flex": null,
            "flex_flow": null,
            "grid_area": null,
            "grid_auto_columns": null,
            "grid_auto_flow": null,
            "grid_auto_rows": null,
            "grid_column": null,
            "grid_gap": null,
            "grid_row": null,
            "grid_template_areas": null,
            "grid_template_columns": null,
            "grid_template_rows": null,
            "height": null,
            "justify_content": null,
            "justify_items": null,
            "left": null,
            "margin": null,
            "max_height": null,
            "max_width": null,
            "min_height": null,
            "min_width": null,
            "object_fit": null,
            "object_position": null,
            "order": null,
            "overflow": null,
            "overflow_x": null,
            "overflow_y": null,
            "padding": null,
            "right": null,
            "top": null,
            "visibility": null,
            "width": null
          }
        },
        "f428bf4f2bfc49c0953e857c27715769": {
          "model_module": "@jupyter-widgets/controls",
          "model_name": "DescriptionStyleModel",
          "model_module_version": "1.5.0",
          "state": {
            "_model_module": "@jupyter-widgets/controls",
            "_model_module_version": "1.5.0",
            "_model_name": "DescriptionStyleModel",
            "_view_count": null,
            "_view_module": "@jupyter-widgets/base",
            "_view_module_version": "1.2.0",
            "_view_name": "StyleView",
            "description_width": ""
          }
        },
        "c7790a2d32e049b394ddb9f73e5bdc4b": {
          "model_module": "@jupyter-widgets/controls",
          "model_name": "HBoxModel",
          "model_module_version": "1.5.0",
          "state": {
            "_dom_classes": [],
            "_model_module": "@jupyter-widgets/controls",
            "_model_module_version": "1.5.0",
            "_model_name": "HBoxModel",
            "_view_count": null,
            "_view_module": "@jupyter-widgets/controls",
            "_view_module_version": "1.5.0",
            "_view_name": "HBoxView",
            "box_style": "",
            "children": [
              "IPY_MODEL_6a043d0a3a93449c94e1f96733e7446a",
              "IPY_MODEL_578544dabd1e4731949982e22002b0c9",
              "IPY_MODEL_71494c0c6f704847bcb11c88a8e22527"
            ],
            "layout": "IPY_MODEL_4dcd9e5ff2ef471d86d294452a8aa5a2"
          }
        },
        "6a043d0a3a93449c94e1f96733e7446a": {
          "model_module": "@jupyter-widgets/controls",
          "model_name": "HTMLModel",
          "model_module_version": "1.5.0",
          "state": {
            "_dom_classes": [],
            "_model_module": "@jupyter-widgets/controls",
            "_model_module_version": "1.5.0",
            "_model_name": "HTMLModel",
            "_view_count": null,
            "_view_module": "@jupyter-widgets/controls",
            "_view_module_version": "1.5.0",
            "_view_name": "HTMLView",
            "description": "",
            "description_tooltip": null,
            "layout": "IPY_MODEL_2a8e781a6e624876a4c36117855c72e9",
            "placeholder": "​",
            "style": "IPY_MODEL_51bd0581a04648b6ac0c53f86934e38b",
            "value": "Generating train examples...: 100%"
          }
        },
        "578544dabd1e4731949982e22002b0c9": {
          "model_module": "@jupyter-widgets/controls",
          "model_name": "FloatProgressModel",
          "model_module_version": "1.5.0",
          "state": {
            "_dom_classes": [],
            "_model_module": "@jupyter-widgets/controls",
            "_model_module_version": "1.5.0",
            "_model_name": "FloatProgressModel",
            "_view_count": null,
            "_view_module": "@jupyter-widgets/controls",
            "_view_module_version": "1.5.0",
            "_view_name": "ProgressView",
            "bar_style": "",
            "description": "",
            "description_tooltip": null,
            "layout": "IPY_MODEL_6f486ccc4b624909914c2ea94b67be6e",
            "max": 60000,
            "min": 0,
            "orientation": "horizontal",
            "style": "IPY_MODEL_2331d8bb09994d048c465f21443031ae",
            "value": 60000
          }
        },
        "71494c0c6f704847bcb11c88a8e22527": {
          "model_module": "@jupyter-widgets/controls",
          "model_name": "HTMLModel",
          "model_module_version": "1.5.0",
          "state": {
            "_dom_classes": [],
            "_model_module": "@jupyter-widgets/controls",
            "_model_module_version": "1.5.0",
            "_model_name": "HTMLModel",
            "_view_count": null,
            "_view_module": "@jupyter-widgets/controls",
            "_view_module_version": "1.5.0",
            "_view_name": "HTMLView",
            "description": "",
            "description_tooltip": null,
            "layout": "IPY_MODEL_ff7f92c2c8ab4979ad613cd7856d24d5",
            "placeholder": "​",
            "style": "IPY_MODEL_144bc7711b0d495887004fede5f57c1d",
            "value": " 59916/60000 [00:26&lt;00:00, 2387.56 examples/s]"
          }
        },
        "4dcd9e5ff2ef471d86d294452a8aa5a2": {
          "model_module": "@jupyter-widgets/base",
          "model_name": "LayoutModel",
          "model_module_version": "1.2.0",
          "state": {
            "_model_module": "@jupyter-widgets/base",
            "_model_module_version": "1.2.0",
            "_model_name": "LayoutModel",
            "_view_count": null,
            "_view_module": "@jupyter-widgets/base",
            "_view_module_version": "1.2.0",
            "_view_name": "LayoutView",
            "align_content": null,
            "align_items": null,
            "align_self": null,
            "border": null,
            "bottom": null,
            "display": null,
            "flex": null,
            "flex_flow": null,
            "grid_area": null,
            "grid_auto_columns": null,
            "grid_auto_flow": null,
            "grid_auto_rows": null,
            "grid_column": null,
            "grid_gap": null,
            "grid_row": null,
            "grid_template_areas": null,
            "grid_template_columns": null,
            "grid_template_rows": null,
            "height": null,
            "justify_content": null,
            "justify_items": null,
            "left": null,
            "margin": null,
            "max_height": null,
            "max_width": null,
            "min_height": null,
            "min_width": null,
            "object_fit": null,
            "object_position": null,
            "order": null,
            "overflow": null,
            "overflow_x": null,
            "overflow_y": null,
            "padding": null,
            "right": null,
            "top": null,
            "visibility": "hidden",
            "width": null
          }
        },
        "2a8e781a6e624876a4c36117855c72e9": {
          "model_module": "@jupyter-widgets/base",
          "model_name": "LayoutModel",
          "model_module_version": "1.2.0",
          "state": {
            "_model_module": "@jupyter-widgets/base",
            "_model_module_version": "1.2.0",
            "_model_name": "LayoutModel",
            "_view_count": null,
            "_view_module": "@jupyter-widgets/base",
            "_view_module_version": "1.2.0",
            "_view_name": "LayoutView",
            "align_content": null,
            "align_items": null,
            "align_self": null,
            "border": null,
            "bottom": null,
            "display": null,
            "flex": null,
            "flex_flow": null,
            "grid_area": null,
            "grid_auto_columns": null,
            "grid_auto_flow": null,
            "grid_auto_rows": null,
            "grid_column": null,
            "grid_gap": null,
            "grid_row": null,
            "grid_template_areas": null,
            "grid_template_columns": null,
            "grid_template_rows": null,
            "height": null,
            "justify_content": null,
            "justify_items": null,
            "left": null,
            "margin": null,
            "max_height": null,
            "max_width": null,
            "min_height": null,
            "min_width": null,
            "object_fit": null,
            "object_position": null,
            "order": null,
            "overflow": null,
            "overflow_x": null,
            "overflow_y": null,
            "padding": null,
            "right": null,
            "top": null,
            "visibility": null,
            "width": null
          }
        },
        "51bd0581a04648b6ac0c53f86934e38b": {
          "model_module": "@jupyter-widgets/controls",
          "model_name": "DescriptionStyleModel",
          "model_module_version": "1.5.0",
          "state": {
            "_model_module": "@jupyter-widgets/controls",
            "_model_module_version": "1.5.0",
            "_model_name": "DescriptionStyleModel",
            "_view_count": null,
            "_view_module": "@jupyter-widgets/base",
            "_view_module_version": "1.2.0",
            "_view_name": "StyleView",
            "description_width": ""
          }
        },
        "6f486ccc4b624909914c2ea94b67be6e": {
          "model_module": "@jupyter-widgets/base",
          "model_name": "LayoutModel",
          "model_module_version": "1.2.0",
          "state": {
            "_model_module": "@jupyter-widgets/base",
            "_model_module_version": "1.2.0",
            "_model_name": "LayoutModel",
            "_view_count": null,
            "_view_module": "@jupyter-widgets/base",
            "_view_module_version": "1.2.0",
            "_view_name": "LayoutView",
            "align_content": null,
            "align_items": null,
            "align_self": null,
            "border": null,
            "bottom": null,
            "display": null,
            "flex": null,
            "flex_flow": null,
            "grid_area": null,
            "grid_auto_columns": null,
            "grid_auto_flow": null,
            "grid_auto_rows": null,
            "grid_column": null,
            "grid_gap": null,
            "grid_row": null,
            "grid_template_areas": null,
            "grid_template_columns": null,
            "grid_template_rows": null,
            "height": null,
            "justify_content": null,
            "justify_items": null,
            "left": null,
            "margin": null,
            "max_height": null,
            "max_width": null,
            "min_height": null,
            "min_width": null,
            "object_fit": null,
            "object_position": null,
            "order": null,
            "overflow": null,
            "overflow_x": null,
            "overflow_y": null,
            "padding": null,
            "right": null,
            "top": null,
            "visibility": null,
            "width": null
          }
        },
        "2331d8bb09994d048c465f21443031ae": {
          "model_module": "@jupyter-widgets/controls",
          "model_name": "ProgressStyleModel",
          "model_module_version": "1.5.0",
          "state": {
            "_model_module": "@jupyter-widgets/controls",
            "_model_module_version": "1.5.0",
            "_model_name": "ProgressStyleModel",
            "_view_count": null,
            "_view_module": "@jupyter-widgets/base",
            "_view_module_version": "1.2.0",
            "_view_name": "StyleView",
            "bar_color": null,
            "description_width": ""
          }
        },
        "ff7f92c2c8ab4979ad613cd7856d24d5": {
          "model_module": "@jupyter-widgets/base",
          "model_name": "LayoutModel",
          "model_module_version": "1.2.0",
          "state": {
            "_model_module": "@jupyter-widgets/base",
            "_model_module_version": "1.2.0",
            "_model_name": "LayoutModel",
            "_view_count": null,
            "_view_module": "@jupyter-widgets/base",
            "_view_module_version": "1.2.0",
            "_view_name": "LayoutView",
            "align_content": null,
            "align_items": null,
            "align_self": null,
            "border": null,
            "bottom": null,
            "display": null,
            "flex": null,
            "flex_flow": null,
            "grid_area": null,
            "grid_auto_columns": null,
            "grid_auto_flow": null,
            "grid_auto_rows": null,
            "grid_column": null,
            "grid_gap": null,
            "grid_row": null,
            "grid_template_areas": null,
            "grid_template_columns": null,
            "grid_template_rows": null,
            "height": null,
            "justify_content": null,
            "justify_items": null,
            "left": null,
            "margin": null,
            "max_height": null,
            "max_width": null,
            "min_height": null,
            "min_width": null,
            "object_fit": null,
            "object_position": null,
            "order": null,
            "overflow": null,
            "overflow_x": null,
            "overflow_y": null,
            "padding": null,
            "right": null,
            "top": null,
            "visibility": null,
            "width": null
          }
        },
        "144bc7711b0d495887004fede5f57c1d": {
          "model_module": "@jupyter-widgets/controls",
          "model_name": "DescriptionStyleModel",
          "model_module_version": "1.5.0",
          "state": {
            "_model_module": "@jupyter-widgets/controls",
            "_model_module_version": "1.5.0",
            "_model_name": "DescriptionStyleModel",
            "_view_count": null,
            "_view_module": "@jupyter-widgets/base",
            "_view_module_version": "1.2.0",
            "_view_name": "StyleView",
            "description_width": ""
          }
        },
        "206c0686927e4e8286be3a16365e51e0": {
          "model_module": "@jupyter-widgets/controls",
          "model_name": "HBoxModel",
          "model_module_version": "1.5.0",
          "state": {
            "_dom_classes": [],
            "_model_module": "@jupyter-widgets/controls",
            "_model_module_version": "1.5.0",
            "_model_name": "HBoxModel",
            "_view_count": null,
            "_view_module": "@jupyter-widgets/controls",
            "_view_module_version": "1.5.0",
            "_view_name": "HBoxView",
            "box_style": "",
            "children": [
              "IPY_MODEL_2878fe1290d84295915673d306531675",
              "IPY_MODEL_7eb374a620124a6e8bebcfd3ccbd827b",
              "IPY_MODEL_35e1aaefb21e4126b8c9077cf1c7a85b"
            ],
            "layout": "IPY_MODEL_9f672c9947594b1e8c13216e10360038"
          }
        },
        "2878fe1290d84295915673d306531675": {
          "model_module": "@jupyter-widgets/controls",
          "model_name": "HTMLModel",
          "model_module_version": "1.5.0",
          "state": {
            "_dom_classes": [],
            "_model_module": "@jupyter-widgets/controls",
            "_model_module_version": "1.5.0",
            "_model_name": "HTMLModel",
            "_view_count": null,
            "_view_module": "@jupyter-widgets/controls",
            "_view_module_version": "1.5.0",
            "_view_name": "HTMLView",
            "description": "",
            "description_tooltip": null,
            "layout": "IPY_MODEL_fcfeaf3055bb478387e2087b0c3fcdde",
            "placeholder": "​",
            "style": "IPY_MODEL_d1a66f41e51d44e08ded17c911cd4764",
            "value": "Shuffling /root/tensorflow_datasets/fashion_mnist/3.0.1.incompleteBTRN3Z/fashion_mnist-train.tfrecord*...:  51%"
          }
        },
        "7eb374a620124a6e8bebcfd3ccbd827b": {
          "model_module": "@jupyter-widgets/controls",
          "model_name": "FloatProgressModel",
          "model_module_version": "1.5.0",
          "state": {
            "_dom_classes": [],
            "_model_module": "@jupyter-widgets/controls",
            "_model_module_version": "1.5.0",
            "_model_name": "FloatProgressModel",
            "_view_count": null,
            "_view_module": "@jupyter-widgets/controls",
            "_view_module_version": "1.5.0",
            "_view_name": "ProgressView",
            "bar_style": "",
            "description": "",
            "description_tooltip": null,
            "layout": "IPY_MODEL_941a5d08e7a64682bf41238c39a83007",
            "max": 60000,
            "min": 0,
            "orientation": "horizontal",
            "style": "IPY_MODEL_31915f85d702435a84105e9ab99b797c",
            "value": 60000
          }
        },
        "35e1aaefb21e4126b8c9077cf1c7a85b": {
          "model_module": "@jupyter-widgets/controls",
          "model_name": "HTMLModel",
          "model_module_version": "1.5.0",
          "state": {
            "_dom_classes": [],
            "_model_module": "@jupyter-widgets/controls",
            "_model_module_version": "1.5.0",
            "_model_name": "HTMLModel",
            "_view_count": null,
            "_view_module": "@jupyter-widgets/controls",
            "_view_module_version": "1.5.0",
            "_view_name": "HTMLView",
            "description": "",
            "description_tooltip": null,
            "layout": "IPY_MODEL_c79ae61ab0454465b2a471fb68d0a62a",
            "placeholder": "​",
            "style": "IPY_MODEL_a31ad7b8fec04a6e91ccbc363df592e5",
            "value": " 30799/60000 [00:00&lt;00:00, 175213.40 examples/s]"
          }
        },
        "9f672c9947594b1e8c13216e10360038": {
          "model_module": "@jupyter-widgets/base",
          "model_name": "LayoutModel",
          "model_module_version": "1.2.0",
          "state": {
            "_model_module": "@jupyter-widgets/base",
            "_model_module_version": "1.2.0",
            "_model_name": "LayoutModel",
            "_view_count": null,
            "_view_module": "@jupyter-widgets/base",
            "_view_module_version": "1.2.0",
            "_view_name": "LayoutView",
            "align_content": null,
            "align_items": null,
            "align_self": null,
            "border": null,
            "bottom": null,
            "display": null,
            "flex": null,
            "flex_flow": null,
            "grid_area": null,
            "grid_auto_columns": null,
            "grid_auto_flow": null,
            "grid_auto_rows": null,
            "grid_column": null,
            "grid_gap": null,
            "grid_row": null,
            "grid_template_areas": null,
            "grid_template_columns": null,
            "grid_template_rows": null,
            "height": null,
            "justify_content": null,
            "justify_items": null,
            "left": null,
            "margin": null,
            "max_height": null,
            "max_width": null,
            "min_height": null,
            "min_width": null,
            "object_fit": null,
            "object_position": null,
            "order": null,
            "overflow": null,
            "overflow_x": null,
            "overflow_y": null,
            "padding": null,
            "right": null,
            "top": null,
            "visibility": "hidden",
            "width": null
          }
        },
        "fcfeaf3055bb478387e2087b0c3fcdde": {
          "model_module": "@jupyter-widgets/base",
          "model_name": "LayoutModel",
          "model_module_version": "1.2.0",
          "state": {
            "_model_module": "@jupyter-widgets/base",
            "_model_module_version": "1.2.0",
            "_model_name": "LayoutModel",
            "_view_count": null,
            "_view_module": "@jupyter-widgets/base",
            "_view_module_version": "1.2.0",
            "_view_name": "LayoutView",
            "align_content": null,
            "align_items": null,
            "align_self": null,
            "border": null,
            "bottom": null,
            "display": null,
            "flex": null,
            "flex_flow": null,
            "grid_area": null,
            "grid_auto_columns": null,
            "grid_auto_flow": null,
            "grid_auto_rows": null,
            "grid_column": null,
            "grid_gap": null,
            "grid_row": null,
            "grid_template_areas": null,
            "grid_template_columns": null,
            "grid_template_rows": null,
            "height": null,
            "justify_content": null,
            "justify_items": null,
            "left": null,
            "margin": null,
            "max_height": null,
            "max_width": null,
            "min_height": null,
            "min_width": null,
            "object_fit": null,
            "object_position": null,
            "order": null,
            "overflow": null,
            "overflow_x": null,
            "overflow_y": null,
            "padding": null,
            "right": null,
            "top": null,
            "visibility": null,
            "width": null
          }
        },
        "d1a66f41e51d44e08ded17c911cd4764": {
          "model_module": "@jupyter-widgets/controls",
          "model_name": "DescriptionStyleModel",
          "model_module_version": "1.5.0",
          "state": {
            "_model_module": "@jupyter-widgets/controls",
            "_model_module_version": "1.5.0",
            "_model_name": "DescriptionStyleModel",
            "_view_count": null,
            "_view_module": "@jupyter-widgets/base",
            "_view_module_version": "1.2.0",
            "_view_name": "StyleView",
            "description_width": ""
          }
        },
        "941a5d08e7a64682bf41238c39a83007": {
          "model_module": "@jupyter-widgets/base",
          "model_name": "LayoutModel",
          "model_module_version": "1.2.0",
          "state": {
            "_model_module": "@jupyter-widgets/base",
            "_model_module_version": "1.2.0",
            "_model_name": "LayoutModel",
            "_view_count": null,
            "_view_module": "@jupyter-widgets/base",
            "_view_module_version": "1.2.0",
            "_view_name": "LayoutView",
            "align_content": null,
            "align_items": null,
            "align_self": null,
            "border": null,
            "bottom": null,
            "display": null,
            "flex": null,
            "flex_flow": null,
            "grid_area": null,
            "grid_auto_columns": null,
            "grid_auto_flow": null,
            "grid_auto_rows": null,
            "grid_column": null,
            "grid_gap": null,
            "grid_row": null,
            "grid_template_areas": null,
            "grid_template_columns": null,
            "grid_template_rows": null,
            "height": null,
            "justify_content": null,
            "justify_items": null,
            "left": null,
            "margin": null,
            "max_height": null,
            "max_width": null,
            "min_height": null,
            "min_width": null,
            "object_fit": null,
            "object_position": null,
            "order": null,
            "overflow": null,
            "overflow_x": null,
            "overflow_y": null,
            "padding": null,
            "right": null,
            "top": null,
            "visibility": null,
            "width": null
          }
        },
        "31915f85d702435a84105e9ab99b797c": {
          "model_module": "@jupyter-widgets/controls",
          "model_name": "ProgressStyleModel",
          "model_module_version": "1.5.0",
          "state": {
            "_model_module": "@jupyter-widgets/controls",
            "_model_module_version": "1.5.0",
            "_model_name": "ProgressStyleModel",
            "_view_count": null,
            "_view_module": "@jupyter-widgets/base",
            "_view_module_version": "1.2.0",
            "_view_name": "StyleView",
            "bar_color": null,
            "description_width": ""
          }
        },
        "c79ae61ab0454465b2a471fb68d0a62a": {
          "model_module": "@jupyter-widgets/base",
          "model_name": "LayoutModel",
          "model_module_version": "1.2.0",
          "state": {
            "_model_module": "@jupyter-widgets/base",
            "_model_module_version": "1.2.0",
            "_model_name": "LayoutModel",
            "_view_count": null,
            "_view_module": "@jupyter-widgets/base",
            "_view_module_version": "1.2.0",
            "_view_name": "LayoutView",
            "align_content": null,
            "align_items": null,
            "align_self": null,
            "border": null,
            "bottom": null,
            "display": null,
            "flex": null,
            "flex_flow": null,
            "grid_area": null,
            "grid_auto_columns": null,
            "grid_auto_flow": null,
            "grid_auto_rows": null,
            "grid_column": null,
            "grid_gap": null,
            "grid_row": null,
            "grid_template_areas": null,
            "grid_template_columns": null,
            "grid_template_rows": null,
            "height": null,
            "justify_content": null,
            "justify_items": null,
            "left": null,
            "margin": null,
            "max_height": null,
            "max_width": null,
            "min_height": null,
            "min_width": null,
            "object_fit": null,
            "object_position": null,
            "order": null,
            "overflow": null,
            "overflow_x": null,
            "overflow_y": null,
            "padding": null,
            "right": null,
            "top": null,
            "visibility": null,
            "width": null
          }
        },
        "a31ad7b8fec04a6e91ccbc363df592e5": {
          "model_module": "@jupyter-widgets/controls",
          "model_name": "DescriptionStyleModel",
          "model_module_version": "1.5.0",
          "state": {
            "_model_module": "@jupyter-widgets/controls",
            "_model_module_version": "1.5.0",
            "_model_name": "DescriptionStyleModel",
            "_view_count": null,
            "_view_module": "@jupyter-widgets/base",
            "_view_module_version": "1.2.0",
            "_view_name": "StyleView",
            "description_width": ""
          }
        },
        "f11759324f2f4eadaa4fb487562a1152": {
          "model_module": "@jupyter-widgets/controls",
          "model_name": "HBoxModel",
          "model_module_version": "1.5.0",
          "state": {
            "_dom_classes": [],
            "_model_module": "@jupyter-widgets/controls",
            "_model_module_version": "1.5.0",
            "_model_name": "HBoxModel",
            "_view_count": null,
            "_view_module": "@jupyter-widgets/controls",
            "_view_module_version": "1.5.0",
            "_view_name": "HBoxView",
            "box_style": "",
            "children": [
              "IPY_MODEL_dec286dea39c4d42a4b6d77b3c29f6de",
              "IPY_MODEL_2a906ca8765c4d87b253a4a99dfc1120",
              "IPY_MODEL_eef05470611a49738b6b6e2bfa7f80b9"
            ],
            "layout": "IPY_MODEL_556350673406452285a8869db084e93a"
          }
        },
        "dec286dea39c4d42a4b6d77b3c29f6de": {
          "model_module": "@jupyter-widgets/controls",
          "model_name": "HTMLModel",
          "model_module_version": "1.5.0",
          "state": {
            "_dom_classes": [],
            "_model_module": "@jupyter-widgets/controls",
            "_model_module_version": "1.5.0",
            "_model_name": "HTMLModel",
            "_view_count": null,
            "_view_module": "@jupyter-widgets/controls",
            "_view_module_version": "1.5.0",
            "_view_name": "HTMLView",
            "description": "",
            "description_tooltip": null,
            "layout": "IPY_MODEL_a8275530f09446ddb85a7ad603df943b",
            "placeholder": "​",
            "style": "IPY_MODEL_408ea1af40a243f6846816261a3d8898",
            "value": "Generating test examples...:  99%"
          }
        },
        "2a906ca8765c4d87b253a4a99dfc1120": {
          "model_module": "@jupyter-widgets/controls",
          "model_name": "FloatProgressModel",
          "model_module_version": "1.5.0",
          "state": {
            "_dom_classes": [],
            "_model_module": "@jupyter-widgets/controls",
            "_model_module_version": "1.5.0",
            "_model_name": "FloatProgressModel",
            "_view_count": null,
            "_view_module": "@jupyter-widgets/controls",
            "_view_module_version": "1.5.0",
            "_view_name": "ProgressView",
            "bar_style": "",
            "description": "",
            "description_tooltip": null,
            "layout": "IPY_MODEL_cc271e7c40f54e1c9873bead786d17b7",
            "max": 10000,
            "min": 0,
            "orientation": "horizontal",
            "style": "IPY_MODEL_a4024e3160a942a2849a00c2280174a7",
            "value": 10000
          }
        },
        "eef05470611a49738b6b6e2bfa7f80b9": {
          "model_module": "@jupyter-widgets/controls",
          "model_name": "HTMLModel",
          "model_module_version": "1.5.0",
          "state": {
            "_dom_classes": [],
            "_model_module": "@jupyter-widgets/controls",
            "_model_module_version": "1.5.0",
            "_model_name": "HTMLModel",
            "_view_count": null,
            "_view_module": "@jupyter-widgets/controls",
            "_view_module_version": "1.5.0",
            "_view_name": "HTMLView",
            "description": "",
            "description_tooltip": null,
            "layout": "IPY_MODEL_217fda9c7523400e8bf4b93331a44c1a",
            "placeholder": "​",
            "style": "IPY_MODEL_1a3dd755ee904068a8f56a72ccaca339",
            "value": " 9920/10000 [00:04&lt;00:00, 2307.65 examples/s]"
          }
        },
        "556350673406452285a8869db084e93a": {
          "model_module": "@jupyter-widgets/base",
          "model_name": "LayoutModel",
          "model_module_version": "1.2.0",
          "state": {
            "_model_module": "@jupyter-widgets/base",
            "_model_module_version": "1.2.0",
            "_model_name": "LayoutModel",
            "_view_count": null,
            "_view_module": "@jupyter-widgets/base",
            "_view_module_version": "1.2.0",
            "_view_name": "LayoutView",
            "align_content": null,
            "align_items": null,
            "align_self": null,
            "border": null,
            "bottom": null,
            "display": null,
            "flex": null,
            "flex_flow": null,
            "grid_area": null,
            "grid_auto_columns": null,
            "grid_auto_flow": null,
            "grid_auto_rows": null,
            "grid_column": null,
            "grid_gap": null,
            "grid_row": null,
            "grid_template_areas": null,
            "grid_template_columns": null,
            "grid_template_rows": null,
            "height": null,
            "justify_content": null,
            "justify_items": null,
            "left": null,
            "margin": null,
            "max_height": null,
            "max_width": null,
            "min_height": null,
            "min_width": null,
            "object_fit": null,
            "object_position": null,
            "order": null,
            "overflow": null,
            "overflow_x": null,
            "overflow_y": null,
            "padding": null,
            "right": null,
            "top": null,
            "visibility": "hidden",
            "width": null
          }
        },
        "a8275530f09446ddb85a7ad603df943b": {
          "model_module": "@jupyter-widgets/base",
          "model_name": "LayoutModel",
          "model_module_version": "1.2.0",
          "state": {
            "_model_module": "@jupyter-widgets/base",
            "_model_module_version": "1.2.0",
            "_model_name": "LayoutModel",
            "_view_count": null,
            "_view_module": "@jupyter-widgets/base",
            "_view_module_version": "1.2.0",
            "_view_name": "LayoutView",
            "align_content": null,
            "align_items": null,
            "align_self": null,
            "border": null,
            "bottom": null,
            "display": null,
            "flex": null,
            "flex_flow": null,
            "grid_area": null,
            "grid_auto_columns": null,
            "grid_auto_flow": null,
            "grid_auto_rows": null,
            "grid_column": null,
            "grid_gap": null,
            "grid_row": null,
            "grid_template_areas": null,
            "grid_template_columns": null,
            "grid_template_rows": null,
            "height": null,
            "justify_content": null,
            "justify_items": null,
            "left": null,
            "margin": null,
            "max_height": null,
            "max_width": null,
            "min_height": null,
            "min_width": null,
            "object_fit": null,
            "object_position": null,
            "order": null,
            "overflow": null,
            "overflow_x": null,
            "overflow_y": null,
            "padding": null,
            "right": null,
            "top": null,
            "visibility": null,
            "width": null
          }
        },
        "408ea1af40a243f6846816261a3d8898": {
          "model_module": "@jupyter-widgets/controls",
          "model_name": "DescriptionStyleModel",
          "model_module_version": "1.5.0",
          "state": {
            "_model_module": "@jupyter-widgets/controls",
            "_model_module_version": "1.5.0",
            "_model_name": "DescriptionStyleModel",
            "_view_count": null,
            "_view_module": "@jupyter-widgets/base",
            "_view_module_version": "1.2.0",
            "_view_name": "StyleView",
            "description_width": ""
          }
        },
        "cc271e7c40f54e1c9873bead786d17b7": {
          "model_module": "@jupyter-widgets/base",
          "model_name": "LayoutModel",
          "model_module_version": "1.2.0",
          "state": {
            "_model_module": "@jupyter-widgets/base",
            "_model_module_version": "1.2.0",
            "_model_name": "LayoutModel",
            "_view_count": null,
            "_view_module": "@jupyter-widgets/base",
            "_view_module_version": "1.2.0",
            "_view_name": "LayoutView",
            "align_content": null,
            "align_items": null,
            "align_self": null,
            "border": null,
            "bottom": null,
            "display": null,
            "flex": null,
            "flex_flow": null,
            "grid_area": null,
            "grid_auto_columns": null,
            "grid_auto_flow": null,
            "grid_auto_rows": null,
            "grid_column": null,
            "grid_gap": null,
            "grid_row": null,
            "grid_template_areas": null,
            "grid_template_columns": null,
            "grid_template_rows": null,
            "height": null,
            "justify_content": null,
            "justify_items": null,
            "left": null,
            "margin": null,
            "max_height": null,
            "max_width": null,
            "min_height": null,
            "min_width": null,
            "object_fit": null,
            "object_position": null,
            "order": null,
            "overflow": null,
            "overflow_x": null,
            "overflow_y": null,
            "padding": null,
            "right": null,
            "top": null,
            "visibility": null,
            "width": null
          }
        },
        "a4024e3160a942a2849a00c2280174a7": {
          "model_module": "@jupyter-widgets/controls",
          "model_name": "ProgressStyleModel",
          "model_module_version": "1.5.0",
          "state": {
            "_model_module": "@jupyter-widgets/controls",
            "_model_module_version": "1.5.0",
            "_model_name": "ProgressStyleModel",
            "_view_count": null,
            "_view_module": "@jupyter-widgets/base",
            "_view_module_version": "1.2.0",
            "_view_name": "StyleView",
            "bar_color": null,
            "description_width": ""
          }
        },
        "217fda9c7523400e8bf4b93331a44c1a": {
          "model_module": "@jupyter-widgets/base",
          "model_name": "LayoutModel",
          "model_module_version": "1.2.0",
          "state": {
            "_model_module": "@jupyter-widgets/base",
            "_model_module_version": "1.2.0",
            "_model_name": "LayoutModel",
            "_view_count": null,
            "_view_module": "@jupyter-widgets/base",
            "_view_module_version": "1.2.0",
            "_view_name": "LayoutView",
            "align_content": null,
            "align_items": null,
            "align_self": null,
            "border": null,
            "bottom": null,
            "display": null,
            "flex": null,
            "flex_flow": null,
            "grid_area": null,
            "grid_auto_columns": null,
            "grid_auto_flow": null,
            "grid_auto_rows": null,
            "grid_column": null,
            "grid_gap": null,
            "grid_row": null,
            "grid_template_areas": null,
            "grid_template_columns": null,
            "grid_template_rows": null,
            "height": null,
            "justify_content": null,
            "justify_items": null,
            "left": null,
            "margin": null,
            "max_height": null,
            "max_width": null,
            "min_height": null,
            "min_width": null,
            "object_fit": null,
            "object_position": null,
            "order": null,
            "overflow": null,
            "overflow_x": null,
            "overflow_y": null,
            "padding": null,
            "right": null,
            "top": null,
            "visibility": null,
            "width": null
          }
        },
        "1a3dd755ee904068a8f56a72ccaca339": {
          "model_module": "@jupyter-widgets/controls",
          "model_name": "DescriptionStyleModel",
          "model_module_version": "1.5.0",
          "state": {
            "_model_module": "@jupyter-widgets/controls",
            "_model_module_version": "1.5.0",
            "_model_name": "DescriptionStyleModel",
            "_view_count": null,
            "_view_module": "@jupyter-widgets/base",
            "_view_module_version": "1.2.0",
            "_view_name": "StyleView",
            "description_width": ""
          }
        },
        "790a3932ab27420991d6a62e52e980c3": {
          "model_module": "@jupyter-widgets/controls",
          "model_name": "HBoxModel",
          "model_module_version": "1.5.0",
          "state": {
            "_dom_classes": [],
            "_model_module": "@jupyter-widgets/controls",
            "_model_module_version": "1.5.0",
            "_model_name": "HBoxModel",
            "_view_count": null,
            "_view_module": "@jupyter-widgets/controls",
            "_view_module_version": "1.5.0",
            "_view_name": "HBoxView",
            "box_style": "",
            "children": [
              "IPY_MODEL_ca55aba6e57e4b2d9067e6358d62a637",
              "IPY_MODEL_818bfc4edaf94eeab228dcebc07d6542",
              "IPY_MODEL_842944069e234f7fb78b6cc328b6c89e"
            ],
            "layout": "IPY_MODEL_0c585bd81b1c41f99ced9d32ab867cc1"
          }
        },
        "ca55aba6e57e4b2d9067e6358d62a637": {
          "model_module": "@jupyter-widgets/controls",
          "model_name": "HTMLModel",
          "model_module_version": "1.5.0",
          "state": {
            "_dom_classes": [],
            "_model_module": "@jupyter-widgets/controls",
            "_model_module_version": "1.5.0",
            "_model_name": "HTMLModel",
            "_view_count": null,
            "_view_module": "@jupyter-widgets/controls",
            "_view_module_version": "1.5.0",
            "_view_name": "HTMLView",
            "description": "",
            "description_tooltip": null,
            "layout": "IPY_MODEL_b84c57a0982845eb9f5c7e4ac3ba1643",
            "placeholder": "​",
            "style": "IPY_MODEL_2536d520863441f9bc9b1fff1644cea0",
            "value": "Shuffling /root/tensorflow_datasets/fashion_mnist/3.0.1.incompleteBTRN3Z/fashion_mnist-test.tfrecord*...:   0%"
          }
        },
        "818bfc4edaf94eeab228dcebc07d6542": {
          "model_module": "@jupyter-widgets/controls",
          "model_name": "FloatProgressModel",
          "model_module_version": "1.5.0",
          "state": {
            "_dom_classes": [],
            "_model_module": "@jupyter-widgets/controls",
            "_model_module_version": "1.5.0",
            "_model_name": "FloatProgressModel",
            "_view_count": null,
            "_view_module": "@jupyter-widgets/controls",
            "_view_module_version": "1.5.0",
            "_view_name": "ProgressView",
            "bar_style": "",
            "description": "",
            "description_tooltip": null,
            "layout": "IPY_MODEL_3c3a508e2d3e4a67b7c68c8e62dc2e4a",
            "max": 10000,
            "min": 0,
            "orientation": "horizontal",
            "style": "IPY_MODEL_cc8cb2a1ba75449cb43960d719693f58",
            "value": 10000
          }
        },
        "842944069e234f7fb78b6cc328b6c89e": {
          "model_module": "@jupyter-widgets/controls",
          "model_name": "HTMLModel",
          "model_module_version": "1.5.0",
          "state": {
            "_dom_classes": [],
            "_model_module": "@jupyter-widgets/controls",
            "_model_module_version": "1.5.0",
            "_model_name": "HTMLModel",
            "_view_count": null,
            "_view_module": "@jupyter-widgets/controls",
            "_view_module_version": "1.5.0",
            "_view_name": "HTMLView",
            "description": "",
            "description_tooltip": null,
            "layout": "IPY_MODEL_a18fe0312d2f4991b1dd3737606dcd99",
            "placeholder": "​",
            "style": "IPY_MODEL_0a0014ee6fc349c3a5254a841d08bf35",
            "value": " 0/10000 [00:00&lt;?, ? examples/s]"
          }
        },
        "0c585bd81b1c41f99ced9d32ab867cc1": {
          "model_module": "@jupyter-widgets/base",
          "model_name": "LayoutModel",
          "model_module_version": "1.2.0",
          "state": {
            "_model_module": "@jupyter-widgets/base",
            "_model_module_version": "1.2.0",
            "_model_name": "LayoutModel",
            "_view_count": null,
            "_view_module": "@jupyter-widgets/base",
            "_view_module_version": "1.2.0",
            "_view_name": "LayoutView",
            "align_content": null,
            "align_items": null,
            "align_self": null,
            "border": null,
            "bottom": null,
            "display": null,
            "flex": null,
            "flex_flow": null,
            "grid_area": null,
            "grid_auto_columns": null,
            "grid_auto_flow": null,
            "grid_auto_rows": null,
            "grid_column": null,
            "grid_gap": null,
            "grid_row": null,
            "grid_template_areas": null,
            "grid_template_columns": null,
            "grid_template_rows": null,
            "height": null,
            "justify_content": null,
            "justify_items": null,
            "left": null,
            "margin": null,
            "max_height": null,
            "max_width": null,
            "min_height": null,
            "min_width": null,
            "object_fit": null,
            "object_position": null,
            "order": null,
            "overflow": null,
            "overflow_x": null,
            "overflow_y": null,
            "padding": null,
            "right": null,
            "top": null,
            "visibility": "hidden",
            "width": null
          }
        },
        "b84c57a0982845eb9f5c7e4ac3ba1643": {
          "model_module": "@jupyter-widgets/base",
          "model_name": "LayoutModel",
          "model_module_version": "1.2.0",
          "state": {
            "_model_module": "@jupyter-widgets/base",
            "_model_module_version": "1.2.0",
            "_model_name": "LayoutModel",
            "_view_count": null,
            "_view_module": "@jupyter-widgets/base",
            "_view_module_version": "1.2.0",
            "_view_name": "LayoutView",
            "align_content": null,
            "align_items": null,
            "align_self": null,
            "border": null,
            "bottom": null,
            "display": null,
            "flex": null,
            "flex_flow": null,
            "grid_area": null,
            "grid_auto_columns": null,
            "grid_auto_flow": null,
            "grid_auto_rows": null,
            "grid_column": null,
            "grid_gap": null,
            "grid_row": null,
            "grid_template_areas": null,
            "grid_template_columns": null,
            "grid_template_rows": null,
            "height": null,
            "justify_content": null,
            "justify_items": null,
            "left": null,
            "margin": null,
            "max_height": null,
            "max_width": null,
            "min_height": null,
            "min_width": null,
            "object_fit": null,
            "object_position": null,
            "order": null,
            "overflow": null,
            "overflow_x": null,
            "overflow_y": null,
            "padding": null,
            "right": null,
            "top": null,
            "visibility": null,
            "width": null
          }
        },
        "2536d520863441f9bc9b1fff1644cea0": {
          "model_module": "@jupyter-widgets/controls",
          "model_name": "DescriptionStyleModel",
          "model_module_version": "1.5.0",
          "state": {
            "_model_module": "@jupyter-widgets/controls",
            "_model_module_version": "1.5.0",
            "_model_name": "DescriptionStyleModel",
            "_view_count": null,
            "_view_module": "@jupyter-widgets/base",
            "_view_module_version": "1.2.0",
            "_view_name": "StyleView",
            "description_width": ""
          }
        },
        "3c3a508e2d3e4a67b7c68c8e62dc2e4a": {
          "model_module": "@jupyter-widgets/base",
          "model_name": "LayoutModel",
          "model_module_version": "1.2.0",
          "state": {
            "_model_module": "@jupyter-widgets/base",
            "_model_module_version": "1.2.0",
            "_model_name": "LayoutModel",
            "_view_count": null,
            "_view_module": "@jupyter-widgets/base",
            "_view_module_version": "1.2.0",
            "_view_name": "LayoutView",
            "align_content": null,
            "align_items": null,
            "align_self": null,
            "border": null,
            "bottom": null,
            "display": null,
            "flex": null,
            "flex_flow": null,
            "grid_area": null,
            "grid_auto_columns": null,
            "grid_auto_flow": null,
            "grid_auto_rows": null,
            "grid_column": null,
            "grid_gap": null,
            "grid_row": null,
            "grid_template_areas": null,
            "grid_template_columns": null,
            "grid_template_rows": null,
            "height": null,
            "justify_content": null,
            "justify_items": null,
            "left": null,
            "margin": null,
            "max_height": null,
            "max_width": null,
            "min_height": null,
            "min_width": null,
            "object_fit": null,
            "object_position": null,
            "order": null,
            "overflow": null,
            "overflow_x": null,
            "overflow_y": null,
            "padding": null,
            "right": null,
            "top": null,
            "visibility": null,
            "width": null
          }
        },
        "cc8cb2a1ba75449cb43960d719693f58": {
          "model_module": "@jupyter-widgets/controls",
          "model_name": "ProgressStyleModel",
          "model_module_version": "1.5.0",
          "state": {
            "_model_module": "@jupyter-widgets/controls",
            "_model_module_version": "1.5.0",
            "_model_name": "ProgressStyleModel",
            "_view_count": null,
            "_view_module": "@jupyter-widgets/base",
            "_view_module_version": "1.2.0",
            "_view_name": "StyleView",
            "bar_color": null,
            "description_width": ""
          }
        },
        "a18fe0312d2f4991b1dd3737606dcd99": {
          "model_module": "@jupyter-widgets/base",
          "model_name": "LayoutModel",
          "model_module_version": "1.2.0",
          "state": {
            "_model_module": "@jupyter-widgets/base",
            "_model_module_version": "1.2.0",
            "_model_name": "LayoutModel",
            "_view_count": null,
            "_view_module": "@jupyter-widgets/base",
            "_view_module_version": "1.2.0",
            "_view_name": "LayoutView",
            "align_content": null,
            "align_items": null,
            "align_self": null,
            "border": null,
            "bottom": null,
            "display": null,
            "flex": null,
            "flex_flow": null,
            "grid_area": null,
            "grid_auto_columns": null,
            "grid_auto_flow": null,
            "grid_auto_rows": null,
            "grid_column": null,
            "grid_gap": null,
            "grid_row": null,
            "grid_template_areas": null,
            "grid_template_columns": null,
            "grid_template_rows": null,
            "height": null,
            "justify_content": null,
            "justify_items": null,
            "left": null,
            "margin": null,
            "max_height": null,
            "max_width": null,
            "min_height": null,
            "min_width": null,
            "object_fit": null,
            "object_position": null,
            "order": null,
            "overflow": null,
            "overflow_x": null,
            "overflow_y": null,
            "padding": null,
            "right": null,
            "top": null,
            "visibility": null,
            "width": null
          }
        },
        "0a0014ee6fc349c3a5254a841d08bf35": {
          "model_module": "@jupyter-widgets/controls",
          "model_name": "DescriptionStyleModel",
          "model_module_version": "1.5.0",
          "state": {
            "_model_module": "@jupyter-widgets/controls",
            "_model_module_version": "1.5.0",
            "_model_name": "DescriptionStyleModel",
            "_view_count": null,
            "_view_module": "@jupyter-widgets/base",
            "_view_module_version": "1.2.0",
            "_view_name": "StyleView",
            "description_width": ""
          }
        }
      }
    }
  },
  "cells": [
    {
      "cell_type": "code",
      "source": [
        "import tensorflow as tf\n",
        "gpus = tf.config.experimental.list_physical_devices('GPU')\n",
        "for gpu in gpus:\n",
        "    tf.config.experimental.set_memory_growth(gpu, True)\n"
      ],
      "metadata": {
        "id": "8cHZVzbphNv4"
      },
      "execution_count": null,
      "outputs": []
    },
    {
      "cell_type": "code",
      "source": [
        "# Brining in tensorflow datasets for fashion mnist\n",
        "import tensorflow_datasets as tfds\n",
        "# Bringing in matplotlib for viz stuff\n",
        "from matplotlib import pyplot as plt"
      ],
      "metadata": {
        "id": "z0C3cUDdVPSq"
      },
      "execution_count": null,
      "outputs": []
    },
    {
      "cell_type": "code",
      "source": [
        "# Use the tensorflow datasets api to bring in the data source\n",
        "ds = tfds.load('fashion_mnist', split='train')"
      ],
      "metadata": {
        "colab": {
          "base_uri": "https://localhost:8080/",
          "height": 148,
          "referenced_widgets": [
            "d023f74f05014103abd089bae2b2d467",
            "9a3d2048e881496c8eb5d4c653d6f782",
            "f55fe2ab5c1e490491f4f48dcf1e84ba",
            "14d0fbe45c994a95b5297f5fa92a0565",
            "e2e69cc07e2449328215dddfe850586b",
            "aade72c9e8c14f5196ba1ced8bd75103",
            "3adda604358c407dab4e82395e4b00ba",
            "b459e6bd6ac8448a9785ed7431a3ca66",
            "a6a0cf9fb76e417bb5e952ebf11f77ec",
            "37150eb32cb14ca98fc114cc6c0782b3",
            "c6c5bb8789fd4879ab499141f6fbe149",
            "aabea7fbe3724c9c873d96151ed226e5",
            "1d62f7c798564963b05146f56777993f",
            "2eced9f37c73436b8903bba2e0abd65a",
            "f421c98c58b64ac39ad99f4e94034545",
            "4a042fe4dc84436e8cc640d1fd31a4c2",
            "68b8b346ca5e4281923e515afd0772b9",
            "2f3a8ba2b7664bec87524acdfcbdad6d",
            "acdd1bed06bb477a8bcf8aff9f60aefe",
            "e10b3cbd4ea74fb5b3dfcc23b556b62c",
            "008eaaacc9ed40bb862db936e355c3c5",
            "10ef64fe1fae43d490de2d466d78e143",
            "10e033ba4f3e47b68a9065ce0039b1e1",
            "1f8b2887a4dd47ed817fab89e6bc6547",
            "31602ec40da44a7ca9c6dc212f64b362",
            "305e25e2fe7d45438998514e468121c6",
            "31a09dbc700f4f509f4ecff318d3c47d",
            "3a24db6256f947a09bbc9a441edcfa37",
            "b8a714947a344eea9b2c6c59986f54c4",
            "c1a4f641b5294fbfa994082306453d77",
            "17558b4252a245c588fbd620a738b16c",
            "69fcc201a03a419b83c08efb276d6de1",
            "09ceba7448794489bdd0bebf920b3bb9",
            "04bb1f50ce2149b18685ca4860d14702",
            "718bcfac47884f55895d950b682ab516",
            "f1faab6a9fa8417086865e98a3a57904",
            "556eee68f92e43008317d05e995d8a86",
            "f1fc20a3551c489fab02fa6205ad2252",
            "60a87c00c32c456fa57156eb630b4032",
            "c68d3e4c99de4434a79a4857ad4a937d",
            "d6d1942233084e388f2c2c40e56246a0",
            "211707df24f149848e29e4355b769bca",
            "f02f9d6b487a41ef9a59714cccd41e66",
            "f428bf4f2bfc49c0953e857c27715769",
            "c7790a2d32e049b394ddb9f73e5bdc4b",
            "6a043d0a3a93449c94e1f96733e7446a",
            "578544dabd1e4731949982e22002b0c9",
            "71494c0c6f704847bcb11c88a8e22527",
            "4dcd9e5ff2ef471d86d294452a8aa5a2",
            "2a8e781a6e624876a4c36117855c72e9",
            "51bd0581a04648b6ac0c53f86934e38b",
            "6f486ccc4b624909914c2ea94b67be6e",
            "2331d8bb09994d048c465f21443031ae",
            "ff7f92c2c8ab4979ad613cd7856d24d5",
            "144bc7711b0d495887004fede5f57c1d",
            "206c0686927e4e8286be3a16365e51e0",
            "2878fe1290d84295915673d306531675",
            "7eb374a620124a6e8bebcfd3ccbd827b",
            "35e1aaefb21e4126b8c9077cf1c7a85b",
            "9f672c9947594b1e8c13216e10360038",
            "fcfeaf3055bb478387e2087b0c3fcdde",
            "d1a66f41e51d44e08ded17c911cd4764",
            "941a5d08e7a64682bf41238c39a83007",
            "31915f85d702435a84105e9ab99b797c",
            "c79ae61ab0454465b2a471fb68d0a62a",
            "a31ad7b8fec04a6e91ccbc363df592e5",
            "f11759324f2f4eadaa4fb487562a1152",
            "dec286dea39c4d42a4b6d77b3c29f6de",
            "2a906ca8765c4d87b253a4a99dfc1120",
            "eef05470611a49738b6b6e2bfa7f80b9",
            "556350673406452285a8869db084e93a",
            "a8275530f09446ddb85a7ad603df943b",
            "408ea1af40a243f6846816261a3d8898",
            "cc271e7c40f54e1c9873bead786d17b7",
            "a4024e3160a942a2849a00c2280174a7",
            "217fda9c7523400e8bf4b93331a44c1a",
            "1a3dd755ee904068a8f56a72ccaca339",
            "790a3932ab27420991d6a62e52e980c3",
            "ca55aba6e57e4b2d9067e6358d62a637",
            "818bfc4edaf94eeab228dcebc07d6542",
            "842944069e234f7fb78b6cc328b6c89e",
            "0c585bd81b1c41f99ced9d32ab867cc1",
            "b84c57a0982845eb9f5c7e4ac3ba1643",
            "2536d520863441f9bc9b1fff1644cea0",
            "3c3a508e2d3e4a67b7c68c8e62dc2e4a",
            "cc8cb2a1ba75449cb43960d719693f58",
            "a18fe0312d2f4991b1dd3737606dcd99",
            "0a0014ee6fc349c3a5254a841d08bf35"
          ]
        },
        "id": "lY43hQlGVXYL",
        "outputId": "cfcb8327-239f-4ec2-d976-622772963dfe"
      },
      "execution_count": null,
      "outputs": [
        {
          "output_type": "stream",
          "name": "stdout",
          "text": [
            "Downloading and preparing dataset 29.45 MiB (download: 29.45 MiB, generated: 36.42 MiB, total: 65.87 MiB) to /root/tensorflow_datasets/fashion_mnist/3.0.1...\n"
          ]
        },
        {
          "output_type": "display_data",
          "data": {
            "text/plain": [
              "Dl Completed...: 0 url [00:00, ? url/s]"
            ],
            "application/vnd.jupyter.widget-view+json": {
              "version_major": 2,
              "version_minor": 0,
              "model_id": "d023f74f05014103abd089bae2b2d467"
            }
          },
          "metadata": {}
        },
        {
          "output_type": "display_data",
          "data": {
            "text/plain": [
              "Dl Size...: 0 MiB [00:00, ? MiB/s]"
            ],
            "application/vnd.jupyter.widget-view+json": {
              "version_major": 2,
              "version_minor": 0,
              "model_id": "aabea7fbe3724c9c873d96151ed226e5"
            }
          },
          "metadata": {}
        },
        {
          "output_type": "display_data",
          "data": {
            "text/plain": [
              "Extraction completed...: 0 file [00:00, ? file/s]"
            ],
            "application/vnd.jupyter.widget-view+json": {
              "version_major": 2,
              "version_minor": 0,
              "model_id": "10e033ba4f3e47b68a9065ce0039b1e1"
            }
          },
          "metadata": {}
        },
        {
          "output_type": "display_data",
          "data": {
            "text/plain": [
              "Generating splits...:   0%|          | 0/2 [00:00<?, ? splits/s]"
            ],
            "application/vnd.jupyter.widget-view+json": {
              "version_major": 2,
              "version_minor": 0,
              "model_id": "04bb1f50ce2149b18685ca4860d14702"
            }
          },
          "metadata": {}
        },
        {
          "output_type": "display_data",
          "data": {
            "text/plain": [
              "Generating train examples...:   0%|          | 0/60000 [00:00<?, ? examples/s]"
            ],
            "application/vnd.jupyter.widget-view+json": {
              "version_major": 2,
              "version_minor": 0,
              "model_id": "c7790a2d32e049b394ddb9f73e5bdc4b"
            }
          },
          "metadata": {}
        },
        {
          "output_type": "display_data",
          "data": {
            "text/plain": [
              "Shuffling /root/tensorflow_datasets/fashion_mnist/3.0.1.incompleteBTRN3Z/fashion_mnist-train.tfrecord*...:   0…"
            ],
            "application/vnd.jupyter.widget-view+json": {
              "version_major": 2,
              "version_minor": 0,
              "model_id": "206c0686927e4e8286be3a16365e51e0"
            }
          },
          "metadata": {}
        },
        {
          "output_type": "display_data",
          "data": {
            "text/plain": [
              "Generating test examples...:   0%|          | 0/10000 [00:00<?, ? examples/s]"
            ],
            "application/vnd.jupyter.widget-view+json": {
              "version_major": 2,
              "version_minor": 0,
              "model_id": "f11759324f2f4eadaa4fb487562a1152"
            }
          },
          "metadata": {}
        },
        {
          "output_type": "display_data",
          "data": {
            "text/plain": [
              "Shuffling /root/tensorflow_datasets/fashion_mnist/3.0.1.incompleteBTRN3Z/fashion_mnist-test.tfrecord*...:   0%…"
            ],
            "application/vnd.jupyter.widget-view+json": {
              "version_major": 2,
              "version_minor": 0,
              "model_id": "790a3932ab27420991d6a62e52e980c3"
            }
          },
          "metadata": {}
        },
        {
          "output_type": "stream",
          "name": "stdout",
          "text": [
            "Dataset fashion_mnist downloaded and prepared to /root/tensorflow_datasets/fashion_mnist/3.0.1. Subsequent calls will reuse this data.\n"
          ]
        }
      ]
    },
    {
      "cell_type": "code",
      "source": [
        "ds.as_numpy_iterator().next()['label']"
      ],
      "metadata": {
        "colab": {
          "base_uri": "https://localhost:8080/"
        },
        "id": "xj2p1-NrVlrE",
        "outputId": "a6e79c75-2a4b-4dd5-afb7-fe90de79be75"
      },
      "execution_count": null,
      "outputs": [
        {
          "output_type": "execute_result",
          "data": {
            "text/plain": [
              "2"
            ]
          },
          "metadata": {},
          "execution_count": 4
        }
      ]
    },
    {
      "cell_type": "markdown",
      "source": [
        "#2. Viz Data and Build Dataset"
      ],
      "metadata": {
        "id": "5Ny2GBCWV0x8"
      }
    },
    {
      "cell_type": "code",
      "source": [
        "# Do some data transformation\n",
        "import numpy as np"
      ],
      "metadata": {
        "id": "XPuA1zkIVxcC"
      },
      "execution_count": null,
      "outputs": []
    },
    {
      "cell_type": "code",
      "source": [
        "# Setup connection aka iterator\n",
        "dataiterator = ds.as_numpy_iterator()"
      ],
      "metadata": {
        "id": "Y1JI4sziWMNX"
      },
      "execution_count": null,
      "outputs": []
    },
    {
      "cell_type": "code",
      "source": [
        "# Getting data out of the pipeline\n",
        "dataiterator.next()['image']"
      ],
      "metadata": {
        "id": "1JGjX64XWMrD"
      },
      "execution_count": null,
      "outputs": []
    },
    {
      "cell_type": "code",
      "source": [
        "# Setup the subplot formatting\n",
        "fig, ax = plt.subplots(ncols=4, figsize=(20,20))\n",
        "# Loop four times and get images\n",
        "for idx in range(4):\n",
        "    # Grab an image and label\n",
        "    sample = dataiterator.next()\n",
        "    # Plot the image using a specific subplot\n",
        "    ax[idx].imshow(np.squeeze(sample['image']))\n",
        "    # Appending the image label as the plot title\n",
        "    ax[idx].title.set_text(sample['label'])"
      ],
      "metadata": {
        "colab": {
          "base_uri": "https://localhost:8080/"
        },
        "id": "YvROsifyWlkT",
        "outputId": "ee0bfb83-7daf-4430-f2d0-3e7da26f2440"
      },
      "execution_count": null,
      "outputs": [
        {
          "output_type": "display_data",
          "data": {
            "text/plain": [
              "<Figure size 2000x2000 with 4 Axes>"
            ],
            "image/png": "[encoded data removed]"
          },
          "metadata": {}
        }
      ]
    },
    {
      "cell_type": "code",
      "source": [
        "# Scale and return images only\n",
        "def scale_images(data):\n",
        "    image = data['image']\n",
        "    return image / 255"
      ],
      "metadata": {
        "id": "J4JPwB8VWl5n"
      },
      "execution_count": null,
      "outputs": []
    },
    {
      "cell_type": "code",
      "source": [
        "# Reload the dataset\n",
        "ds = tfds.load('fashion_mnist', split='train')\n",
        "# Running the dataset through the scale_images preprocessing step\n",
        "ds = ds.map(scale_images)\n",
        "# Cache the dataset for that batch\n",
        "ds = ds.cache()\n",
        "# Shuffle it up\n",
        "ds = ds.shuffle(60000)\n",
        "# Batch into 128 images per sample\n",
        "ds = ds.batch(128)\n",
        "# Reduces the likelihood of bottlenecking\n",
        "ds = ds.prefetch(64)"
      ],
      "metadata": {
        "id": "8FhQm2DTWmJf"
      },
      "execution_count": null,
      "outputs": []
    },
    {
      "cell_type": "code",
      "source": [
        "ds.as_numpy_iterator().next().shape"
      ],
      "metadata": {
        "colab": {
          "base_uri": "https://localhost:8080/"
        },
        "id": "QXGx-mbGXJoq",
        "outputId": "e4062a81-61a2-4356-a45c-f364c5821ced"
      },
      "execution_count": null,
      "outputs": [
        {
          "output_type": "execute_result",
          "data": {
            "text/plain": [
              "(128, 28, 28, 1)"
            ]
          },
          "metadata": {},
          "execution_count": 11
        }
      ]
    },
    {
      "cell_type": "markdown",
      "source": [
        "#3. Build Neural Network"
      ],
      "metadata": {
        "id": "XMJMN5tFXSdM"
      }
    },
    {
      "cell_type": "markdown",
      "source": [
        "3.1 Import Modelling Components"
      ],
      "metadata": {
        "id": "Az8JyWbvXiBE"
      }
    },
    {
      "cell_type": "code",
      "source": [
        "# Bring in the sequential api for the generator and discriminator\n",
        "from tensorflow.keras.models import Sequential\n",
        "# Bring in the layers for the neural network\n",
        "from tensorflow.keras.layers import Conv2D, Dense, Flatten, Reshape, LeakyReLU, Dropout, UpSampling2D"
      ],
      "metadata": {
        "id": "i3p_NFLiXTsX"
      },
      "execution_count": null,
      "outputs": []
    },
    {
      "cell_type": "markdown",
      "source": [
        "3.2 Build Generator"
      ],
      "metadata": {
        "id": "uoPfqJ58Xr3b"
      }
    },
    {
      "cell_type": "code",
      "source": [
        "def build_generator():\n",
        "    model = Sequential()\n",
        "\n",
        "    # Takes in random values and reshapes it to 7x7x128\n",
        "    # Beginnings of a generated image\n",
        "    model.add(Dense(7*7*128, input_dim=128))\n",
        "    model.add(LeakyReLU(0.2))\n",
        "    model.add(Reshape((7,7,128)))\n",
        "\n",
        "    # Upsampling block 1\n",
        "    model.add(UpSampling2D())\n",
        "    model.add(Conv2D(128, 5, padding='same'))\n",
        "    model.add(LeakyReLU(0.2))\n",
        "\n",
        "    # Upsampling block 2\n",
        "    model.add(UpSampling2D())\n",
        "    model.add(Conv2D(128, 5, padding='same'))\n",
        "    model.add(LeakyReLU(0.2))\n",
        "\n",
        "    # Convolutional block 1\n",
        "    model.add(Conv2D(128, 4, padding='same'))\n",
        "    model.add(LeakyReLU(0.2))\n",
        "\n",
        "    # Convolutional block 2\n",
        "    model.add(Conv2D(128, 4, padding='same'))\n",
        "    model.add(LeakyReLU(0.2))\n",
        "\n",
        "    # Conv layer to get to one channel\n",
        "    model.add(Conv2D(1, 4, padding='same', activation='sigmoid'))\n",
        "\n",
        "    return model"
      ],
      "metadata": {
        "id": "FvftvOKOXpVh"
      },
      "execution_count": null,
      "outputs": []
    },
    {
      "cell_type": "code",
      "source": [
        "generator = build_generator()"
      ],
      "metadata": {
        "id": "IrfP8rb2X20l"
      },
      "execution_count": null,
      "outputs": []
    },
    {
      "cell_type": "code",
      "source": [
        "generator.summary()"
      ],
      "metadata": {
        "colab": {
          "base_uri": "https://localhost:8080/"
        },
        "id": "ve_vZLGeX3MO",
        "outputId": "3e6cc626-2293-4af0-9caf-f7d7d7d84b7a"
      },
      "execution_count": null,
      "outputs": [
        {
          "output_type": "stream",
          "name": "stdout",
          "text": [
            "Model: \"sequential\"\n",
            "_________________________________________________________________\n",
            " Layer (type)                Output Shape              Param #   \n",
            "=================================================================\n",
            " dense (Dense)               (None, 6272)              809088    \n",
            "                                                                 \n",
            " leaky_re_lu (LeakyReLU)     (None, 6272)              0         \n",
            "                                                                 \n",
            " reshape (Reshape)           (None, 7, 7, 128)         0         \n",
            "                                                                 \n",
            " up_sampling2d (UpSampling2D  (None, 14, 14, 128)      0         \n",
            " )                                                               \n",
            "                                                                 \n",
            " conv2d (Conv2D)             (None, 14, 14, 128)       409728    \n",
            "                                                                 \n",
            " leaky_re_lu_1 (LeakyReLU)   (None, 14, 14, 128)       0         \n",
            "                                                                 \n",
            " up_sampling2d_1 (UpSampling  (None, 28, 28, 128)      0         \n",
            " 2D)                                                             \n",
            "                                                                 \n",
            " conv2d_1 (Conv2D)           (None, 28, 28, 128)       409728    \n",
            "                                                                 \n",
            " leaky_re_lu_2 (LeakyReLU)   (None, 28, 28, 128)       0         \n",
            "                                                                 \n",
            " conv2d_2 (Conv2D)           (None, 28, 28, 128)       262272    \n",
            "                                                                 \n",
            " leaky_re_lu_3 (LeakyReLU)   (None, 28, 28, 128)       0         \n",
            "                                                                 \n",
            " conv2d_3 (Conv2D)           (None, 28, 28, 128)       262272    \n",
            "                                                                 \n",
            " leaky_re_lu_4 (LeakyReLU)   (None, 28, 28, 128)       0         \n",
            "                                                                 \n",
            " conv2d_4 (Conv2D)           (None, 28, 28, 1)         2049      \n",
            "                                                                 \n",
            "=================================================================\n",
            "Total params: 2,155,137\n",
            "Trainable params: 2,155,137\n",
            "Non-trainable params: 0\n",
            "_________________________________________________________________\n"
          ]
        }
      ]
    },
    {
      "cell_type": "code",
      "source": [
        "img = generator.predict(np.random.randn(4,128,1))"
      ],
      "metadata": {
        "colab": {
          "base_uri": "https://localhost:8080/"
        },
        "id": "eV9Lf6e2X3Dx",
        "outputId": "87dd9c92-037f-448c-81f4-2b4badc12a79"
      },
      "execution_count": null,
      "outputs": [
        {
          "output_type": "stream",
          "name": "stdout",
          "text": [
            "1/1 [==============================] - 0s 151ms/step\n"
          ]
        }
      ]
    },
    {
      "cell_type": "code",
      "source": [
        "img.shape"
      ],
      "metadata": {
        "colab": {
          "base_uri": "https://localhost:8080/"
        },
        "id": "wgw6TIMvlUrZ",
        "outputId": "e7f88dca-b28c-4138-9645-12b5c74772be"
      },
      "execution_count": null,
      "outputs": [
        {
          "output_type": "execute_result",
          "data": {
            "text/plain": [
              "(4, 28, 28, 1)"
            ]
          },
          "metadata": {},
          "execution_count": 27
        }
      ]
    },
    {
      "cell_type": "code",
      "source": [
        "# Generate new fashion\n",
        "img = generator.predict(np.random.randn(4,128,1))\n",
        "# Setup the subplot formatting\n",
        "fig, ax = plt.subplots(ncols=4, figsize=(20,20))\n",
        "# Loop four times and get images\n",
        "for idx, img in enumerate(img):\n",
        "    # Plot the image using a specific subplot\n",
        "    ax[idx].imshow(np.squeeze(img))\n",
        "    # Appending the image label as the plot title\n",
        "    ax[idx].title.set_text(idx)"
      ],
      "metadata": {
        "colab": {
          "base_uri": "https://localhost:8080/",
          "height": 391
        },
        "id": "mb9dyAjeYAxk",
        "outputId": "0d79da00-f4f1-43d0-db1a-d6c3feb52877"
      },
      "execution_count": null,
      "outputs": [
        {
          "output_type": "stream",
          "name": "stdout",
          "text": [
            "1/1 [==============================] - 0s 143ms/step\n"
          ]
        },
        {
          "output_type": "display_data",
          "data": {
            "text/plain": [
              "<Figure size 2000x2000 with 4 Axes>"
            ],
            "image/png": "[encoded data removed]"
          },
          "metadata": {}
        }
      ]
    },
    {
      "cell_type": "markdown",
      "source": [
        "3.3 Build Discriminator"
      ],
      "metadata": {
        "id": "9z1yDbfJYISm"
      }
    },
    {
      "cell_type": "code",
      "source": [
        "def build_discriminator():\n",
        "    model = Sequential()\n",
        "\n",
        "    # First Conv Block\n",
        "    model.add(Conv2D(32, 5, input_shape = (28,28,1)))\n",
        "    model.add(LeakyReLU(0.2))\n",
        "    model.add(Dropout(0.4))\n",
        "\n",
        "    # Second Conv Block\n",
        "    model.add(Conv2D(64, 5))\n",
        "    model.add(LeakyReLU(0.2))\n",
        "    model.add(Dropout(0.4))\n",
        "\n",
        "    # Third Conv Block\n",
        "    model.add(Conv2D(128, 5))\n",
        "    model.add(LeakyReLU(0.2))\n",
        "    model.add(Dropout(0.4))\n",
        "\n",
        "    # Fourth Conv Block\n",
        "    model.add(Conv2D(256, 5))\n",
        "    model.add(LeakyReLU(0.2))\n",
        "    model.add(Dropout(0.4))\n",
        "\n",
        "    # Flatten then pass to dense layer\n",
        "    model.add(Flatten())\n",
        "    model.add(Dropout(0.4))\n",
        "    model.add(Dense(1, activation='sigmoid'))\n",
        "\n",
        "    return model"
      ],
      "metadata": {
        "id": "vuZpaGDtYAri"
      },
      "execution_count": null,
      "outputs": []
    },
    {
      "cell_type": "code",
      "source": [
        "discriminator = build_discriminator()"
      ],
      "metadata": {
        "id": "AtbsS45yYOfl"
      },
      "execution_count": null,
      "outputs": []
    },
    {
      "cell_type": "code",
      "source": [
        "discriminator.summary()"
      ],
      "metadata": {
        "colab": {
          "base_uri": "https://localhost:8080/"
        },
        "id": "AOLCmO6NYPqs",
        "outputId": "ffe64408-3e59-42ac-e81d-299bbea7b672"
      },
      "execution_count": null,
      "outputs": [
        {
          "output_type": "stream",
          "name": "stdout",
          "text": [
            "Model: \"sequential_1\"\n",
            "_________________________________________________________________\n",
            " Layer (type)                Output Shape              Param #   \n",
            "=================================================================\n",
            " conv2d_5 (Conv2D)           (None, 24, 24, 32)        832       \n",
            "                                                                 \n",
            " leaky_re_lu_5 (LeakyReLU)   (None, 24, 24, 32)        0         \n",
            "                                                                 \n",
            " dropout (Dropout)           (None, 24, 24, 32)        0         \n",
            "                                                                 \n",
            " conv2d_6 (Conv2D)           (None, 20, 20, 64)        51264     \n",
            "                                                                 \n",
            " leaky_re_lu_6 (LeakyReLU)   (None, 20, 20, 64)        0         \n",
            "                                                                 \n",
            " dropout_1 (Dropout)         (None, 20, 20, 64)        0         \n",
            "                                                                 \n",
            " conv2d_7 (Conv2D)           (None, 16, 16, 128)       204928    \n",
            "                                                                 \n",
            " leaky_re_lu_7 (LeakyReLU)   (None, 16, 16, 128)       0         \n",
            "                                                                 \n",
            " dropout_2 (Dropout)         (None, 16, 16, 128)       0         \n",
            "                                                                 \n",
            " conv2d_8 (Conv2D)           (None, 12, 12, 256)       819456    \n",
            "                                                                 \n",
            " leaky_re_lu_8 (LeakyReLU)   (None, 12, 12, 256)       0         \n",
            "                                                                 \n",
            " dropout_3 (Dropout)         (None, 12, 12, 256)       0         \n",
            "                                                                 \n",
            " flatten (Flatten)           (None, 36864)             0         \n",
            "                                                                 \n",
            " dropout_4 (Dropout)         (None, 36864)             0         \n",
            "                                                                 \n",
            " dense_1 (Dense)             (None, 1)                 36865     \n",
            "                                                                 \n",
            "=================================================================\n",
            "Total params: 1,113,345\n",
            "Trainable params: 1,113,345\n",
            "Non-trainable params: 0\n",
            "_________________________________________________________________\n"
          ]
        }
      ]
    },
    {
      "cell_type": "code",
      "source": [
        "img = img[0]"
      ],
      "metadata": {
        "id": "2KtFOjrNYTti"
      },
      "execution_count": null,
      "outputs": []
    },
    {
      "cell_type": "code",
      "source": [
        "img.shape"
      ],
      "metadata": {
        "colab": {
          "base_uri": "https://localhost:8080/"
        },
        "id": "zQg8o9R5YTWP",
        "outputId": "b7eb3bee-9ea1-4650-eccd-8db2077e20ca"
      },
      "execution_count": null,
      "outputs": [
        {
          "output_type": "execute_result",
          "data": {
            "text/plain": [
              "(28, 28, 1)"
            ]
          },
          "metadata": {},
          "execution_count": 30
        }
      ]
    },
    {
      "cell_type": "code",
      "source": [
        "discriminator.predict(np.expand_dims(img,0))"
      ],
      "metadata": {
        "colab": {
          "base_uri": "https://localhost:8080/"
        },
        "id": "x7z-oB7uYaAM",
        "outputId": "2d66e71a-31bf-4c39-f047-f3c0f00bfb8a"
      },
      "execution_count": null,
      "outputs": [
        {
          "output_type": "stream",
          "name": "stdout",
          "text": [
            "1/1 [==============================] - 0s 91ms/step\n"
          ]
        },
        {
          "output_type": "execute_result",
          "data": {
            "text/plain": [
              "array([[0.50222105]], dtype=float32)"
            ]
          },
          "metadata": {},
          "execution_count": 31
        }
      ]
    },
    {
      "cell_type": "markdown",
      "source": [
        "#4. Construct Training Loop"
      ],
      "metadata": {
        "id": "tPlFt-K2mFdh"
      }
    },
    {
      "cell_type": "markdown",
      "source": [
        "4.1 Setup Losses and Optimizers"
      ],
      "metadata": {
        "id": "MyLV5NQdmJP7"
      }
    },
    {
      "cell_type": "code",
      "source": [
        "# Adam is going to be the optimizer for both\n",
        "from tensorflow.keras.optimizers import Adam\n",
        "# Binary cross entropy is going to be the loss for both\n",
        "from tensorflow.keras.losses import BinaryCrossentropy"
      ],
      "metadata": {
        "id": "3OD721cslkT8"
      },
      "execution_count": null,
      "outputs": []
    },
    {
      "cell_type": "code",
      "source": [
        "g_opt = Adam(learning_rate=0.0001)\n",
        "d_opt = Adam(learning_rate=0.00001)\n",
        "g_loss = BinaryCrossentropy()\n",
        "d_loss = BinaryCrossentropy()"
      ],
      "metadata": {
        "id": "suu3gmkWmSHU"
      },
      "execution_count": null,
      "outputs": []
    },
    {
      "cell_type": "markdown",
      "source": [
        "4.2 Build Subclassed Model"
      ],
      "metadata": {
        "id": "t7F_MfY4mVQT"
      }
    },
    {
      "cell_type": "code",
      "source": [
        "# Importing the base model class to subclass our training step\n",
        "from tensorflow.keras.models import Model"
      ],
      "metadata": {
        "id": "Ky6kZmg6mV__"
      },
      "execution_count": null,
      "outputs": []
    },
    {
      "cell_type": "code",
      "source": [
        "class FashionGAN(Model):\n",
        "    def __init__(self, generator, discriminator, *args, **kwargs):\n",
        "        # Pass through args and kwargs to base class\n",
        "        super().__init__(*args, **kwargs)\n",
        "\n",
        "        # Create attributes for gen and disc\n",
        "        self.generator = generator\n",
        "        self.discriminator = discriminator\n",
        "\n",
        "    def compile(self, g_opt, d_opt, g_loss, d_loss, *args, **kwargs):\n",
        "        # Compile with base class\n",
        "        super().compile(*args, **kwargs)\n",
        "\n",
        "        # Create attributes for losses and optimizers\n",
        "        self.g_opt = g_opt\n",
        "        self.d_opt = d_opt\n",
        "        self.g_loss = g_loss\n",
        "        self.d_loss = d_loss\n",
        "\n",
        "    def train_step(self, batch):\n",
        "        # Get the data\n",
        "        real_images = batch\n",
        "        fake_images = self.generator(tf.random.normal((128, 128, 1)), training=False)\n",
        "\n",
        "        # Train the discriminator\n",
        "        with tf.GradientTape() as d_tape:\n",
        "            # Pass the real and fake images to the discriminator model\n",
        "            yhat_real = self.discriminator(real_images, training=True)\n",
        "            yhat_fake = self.discriminator(fake_images, training=True)\n",
        "            yhat_realfake = tf.concat([yhat_real, yhat_fake], axis=0)\n",
        "\n",
        "            # Create labels for real and fakes images\n",
        "            y_realfake = tf.concat([tf.zeros_like(yhat_real), tf.ones_like(yhat_fake)], axis=0)\n",
        "\n",
        "            # Add some noise to the TRUE outputs\n",
        "            noise_real = 0.15*tf.random.uniform(tf.shape(yhat_real))\n",
        "            noise_fake = -0.15*tf.random.uniform(tf.shape(yhat_fake))\n",
        "            y_realfake += tf.concat([noise_real, noise_fake], axis=0)\n",
        "\n",
        "            # Calculate loss - BINARYCROSS\n",
        "            total_d_loss = self.d_loss(y_realfake, yhat_realfake)\n",
        "\n",
        "        # Apply backpropagation - nn learn\n",
        "        dgrad = d_tape.gradient(total_d_loss, self.discriminator.trainable_variables)\n",
        "        self.d_opt.apply_gradients(zip(dgrad, self.discriminator.trainable_variables))\n",
        "\n",
        "        # Train the generator\n",
        "        with tf.GradientTape() as g_tape:\n",
        "            # Generate some new images\n",
        "            gen_images = self.generator(tf.random.normal((128,128,1)), training=True)\n",
        "\n",
        "            # Create the predicted labels\n",
        "            predicted_labels = self.discriminator(gen_images, training=False)\n",
        "\n",
        "            # Calculate loss - trick to training to fake out the discriminator\n",
        "            total_g_loss = self.g_loss(tf.zeros_like(predicted_labels), predicted_labels)\n",
        "\n",
        "        # Apply backprop\n",
        "        ggrad = g_tape.gradient(total_g_loss, self.generator.trainable_variables)\n",
        "        self.g_opt.apply_gradients(zip(ggrad, self.generator.trainable_variables))\n",
        "\n",
        "        return {\"d_loss\":total_d_loss, \"g_loss\":total_g_loss}"
      ],
      "metadata": {
        "id": "J3EyfehtmgyB"
      },
      "execution_count": null,
      "outputs": []
    },
    {
      "cell_type": "code",
      "source": [
        "# Create instance of subclassed model\n",
        "fashgan = FashionGAN(generator, discriminator)"
      ],
      "metadata": {
        "id": "NNb8hFrimk9a"
      },
      "execution_count": null,
      "outputs": []
    },
    {
      "cell_type": "code",
      "source": [
        "# Compile the model\n",
        "fashgan.compile(g_opt, d_opt, g_loss, d_loss)"
      ],
      "metadata": {
        "id": "Mg1tWNppmntv"
      },
      "execution_count": null,
      "outputs": []
    },
    {
      "cell_type": "markdown",
      "source": [
        "4.3 Build Callback"
      ],
      "metadata": {
        "id": "wpADQLvgz412"
      }
    },
    {
      "cell_type": "code",
      "source": [
        "import os\n",
        "from tensorflow.keras.preprocessing.image import array_to_img\n",
        "from tensorflow.keras.callbacks import Callback"
      ],
      "metadata": {
        "id": "gvXBjjJ8z5Z4"
      },
      "execution_count": null,
      "outputs": []
    },
    {
      "cell_type": "code",
      "source": [
        "class ModelMonitor(Callback):\n",
        "    def __init__(self, num_img=3, latent_dim=128):\n",
        "        self.num_img = num_img\n",
        "        self.latent_dim = latent_dim\n",
        "\n",
        "    def on_epoch_end(self, epoch, logs=None):\n",
        "        random_latent_vectors = tf.random.uniform((self.num_img, self.latent_dim,1))\n",
        "        generated_images = self.model.generator(random_latent_vectors)\n",
        "        generated_images *= 255\n",
        "        generated_images.numpy()\n",
        "        for i in range(self.num_img):\n",
        "            img = array_to_img(generated_images[i])\n",
        "            img.save(os.path.join('images', f'generated_img_{epoch}_{i}.png'))"
      ],
      "metadata": {
        "id": "UZu_homAz93P"
      },
      "execution_count": null,
      "outputs": []
    },
    {
      "cell_type": "markdown",
      "source": [
        "4.3 Train"
      ],
      "metadata": {
        "id": "mR6eYGZJ0DyD"
      }
    },
    {
      "cell_type": "code",
      "source": [
        "# Recommend 2000 epochs\n",
        "hist = fashgan.fit(ds, epochs=10, callbacks=[ModelMonitor()])"
      ],
      "metadata": {
        "id": "YisEERpqz9po"
      },
      "execution_count": null,
      "outputs": []
    },
    {
      "cell_type": "markdown",
      "source": [
        "4.4 Review Performance"
      ],
      "metadata": {
        "id": "Pf8msgJ85ckf"
      }
    },
    {
      "cell_type": "code",
      "source": [
        "plt.suptitle('Loss')\n",
        "plt.plot(hist.history['d_loss'], label='d_loss')\n",
        "plt.plot(hist.history['g_loss'], label='g_loss')\n",
        "plt.legend()\n",
        "plt.show()"
      ],
      "metadata": {
        "id": "2iOxrKW36oDt"
      },
      "execution_count": null,
      "outputs": []
    },
    {
      "cell_type": "markdown",
      "source": [
        "#5. Test Out the Generator\n",
        "\n"
      ],
      "metadata": {
        "id": "17SkgyfY6s40"
      }
    },
    {
      "cell_type": "markdown",
      "source": [
        "5.1 Generate Images"
      ],
      "metadata": {
        "id": "O8VjfXeK60Je"
      }
    },
    {
      "cell_type": "code",
      "source": [
        "generator.load_weights(os.path.join('archive', 'generatormodel.h5'))"
      ],
      "metadata": {
        "id": "vDKIZjmj6ouP"
      },
      "execution_count": null,
      "outputs": []
    },
    {
      "cell_type": "code",
      "source": [
        "imgs = generator.predict(tf.random.normal((16, 128, 1)))"
      ],
      "metadata": {
        "id": "-bKsjw8o66HU"
      },
      "execution_count": null,
      "outputs": []
    },
    {
      "cell_type": "code",
      "source": [
        "fig, ax = plt.subplots(ncols=4, nrows=4, figsize=(10,10))\n",
        "for r in range(4):\n",
        "    for c in range(4):\n",
        "        ax[r][c].imshow(imgs[(r+1)*(c+1)-1])"
      ],
      "metadata": {
        "id": "k2uo8Uwf652h"
      },
      "execution_count": null,
      "outputs": []
    },
    {
      "cell_type": "markdown",
      "source": [
        "![img1.jpg](data:image/jpeg;base64,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)"
      ],
      "metadata": {
        "id": "Ztb54PYDm4AY"
      }
    },
    {
      "cell_type": "markdown",
      "source": [
        "5.2 Save the Model"
      ],
      "metadata": {
        "id": "SAggSqD47BKC"
      }
    },
    {
      "cell_type": "code",
      "source": [
        "from google.colab import drive\n",
        "\n",
        "drive.mount('/content/gdrive')\n",
        "\n",
        "generator_path = '/content/gdrive/My Drive/generator.h5'\n",
        "discriminator_path = '/content/gdrive/My Drive/discriminator.h5'\n",
        "\n",
        "generator.save('generator.h5')\n",
        "discriminator.save('discriminator.h5')"
      ],
      "metadata": {
        "id": "fukMlpCmA8W2"
      },
      "execution_count": null,
      "outputs": []
    }
  ]
}